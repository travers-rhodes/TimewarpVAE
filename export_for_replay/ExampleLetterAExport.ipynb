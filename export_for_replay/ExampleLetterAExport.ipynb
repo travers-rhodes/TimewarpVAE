{
 "cells": [
  {
   "cell_type": "code",
   "execution_count": 1,
   "id": "eba67080",
   "metadata": {
    "ExecuteTime": {
     "end_time": "2023-09-27T14:36:13.619243Z",
     "start_time": "2023-09-27T14:36:06.987341Z"
    }
   },
   "outputs": [
    {
     "name": "stderr",
     "output_type": "stream",
     "text": [
      "/home/travers/miniconda3/envs/timewarpvae/lib/python3.8/site-packages/tqdm/auto.py:21: TqdmWarning: IProgress not found. Please update jupyter and ipywidgets. See https://ipywidgets.readthedocs.io/en/stable/user_install.html\n",
      "  from .autonotebook import tqdm as notebook_tqdm\n"
     ]
    }
   ],
   "source": [
    "import numpy as np\n",
    "import matplotlib.pyplot as plt\n",
    "import timewarp_lib.load_model as lm\n",
    "import timewarp_lib.train_utils as tu\n",
    "import torch\n",
    "import pandas as pd\n",
    "import json\n",
    "import numpy as np\n",
    "import matplotlib"
   ]
  },
  {
   "cell_type": "code",
   "execution_count": 2,
   "id": "76952a4b",
   "metadata": {
    "ExecuteTime": {
     "end_time": "2023-09-27T14:36:13.624218Z",
     "start_time": "2023-09-27T14:36:13.621445Z"
    }
   },
   "outputs": [],
   "source": [
    "cmap = plt.get_cmap(\"viridis\")"
   ]
  },
  {
   "cell_type": "code",
   "execution_count": 3,
   "id": "3610d074",
   "metadata": {
    "ExecuteTime": {
     "end_time": "2023-09-27T14:36:13.630664Z",
     "start_time": "2023-09-27T14:36:13.628445Z"
    }
   },
   "outputs": [],
   "source": [
    "\n",
    "####clean_model_dirs = [\"../results/overnight/20230921-093159.705744/savedmodel\"] # TenDTWModel\n",
    "\n"
   ]
  },
  {
   "cell_type": "code",
   "execution_count": 4,
   "id": "0c762d29",
   "metadata": {
    "ExecuteTime": {
     "end_time": "2023-09-27T14:36:13.637330Z",
     "start_time": "2023-09-27T14:36:13.635016Z"
    }
   },
   "outputs": [],
   "source": [
    "import matplotlib\n",
    "font = {        'size'   : 22}\n",
    "\n",
    "matplotlib.rc('font', **font)"
   ]
  },
  {
   "cell_type": "code",
   "execution_count": 5,
   "id": "f24cfe98",
   "metadata": {
    "ExecuteTime": {
     "end_time": "2023-09-27T14:36:13.666030Z",
     "start_time": "2023-09-27T14:36:13.638892Z"
    }
   },
   "outputs": [],
   "source": [
    "datatype = \"train\"\n",
    "dtype=torch.float\n",
    "device=\"cpu\"\n",
    "batch_size=100\n",
    "training_data_timing_noise=0\n",
    "\n",
    "dataName = \"../data/trainTest2DLetterARescaled.npz\"\n",
    "# the datafile has information on how the data was cleaned\n",
    "# the learned/applied model is on clean data\n",
    "# so we need to convert back to trajectory data\n",
    "loaded_data_dict = np.load(dataName)\n",
    "\n",
    "ydata = torch.tensor(loaded_data_dict[datatype],dtype=dtype).to(device)\n",
    "np_ydata = ydata.detach().cpu().numpy()\n",
    "num_trajs, numts, traj_channels = ydata.shape\n",
    "tdata = torch.tensor(np.linspace(0,1,numts),dtype=dtype).to(device).expand(num_trajs,numts).unsqueeze(2)\n",
    "\n",
    "torch_train_data = torch.utils.data.TensorDataset(tdata, ydata)\n",
    "training_dataloader = torch.utils.data.DataLoader(torch_train_data, batch_size=batch_size, shuffle=True)"
   ]
  },
  {
   "cell_type": "code",
   "execution_count": 6,
   "id": "6c8875ea",
   "metadata": {
    "ExecuteTime": {
     "end_time": "2023-09-27T14:36:13.670683Z",
     "start_time": "2023-09-27T14:36:13.667505Z"
    }
   },
   "outputs": [],
   "source": [
    "ixs=(10,15)"
   ]
  },
  {
   "cell_type": "code",
   "execution_count": 7,
   "id": "02b2d28a",
   "metadata": {
    "ExecuteTime": {
     "end_time": "2023-09-27T14:36:13.679144Z",
     "start_time": "2023-09-27T14:36:13.672065Z"
    },
    "scrolled": false
   },
   "outputs": [],
   "source": [
    "def get_interps(saved_model_dir):\n",
    "    pose_mean = loaded_data_dict[\"pose_mean\"]\n",
    "    pose_scaling = loaded_data_dict[\"pose_scaling\"]\n",
    "\n",
    "    modelApplier = lm.LoadedModel(saved_model_dir)\n",
    "    modeldatafileobj = np.load(f\"{saved_model_dir}/saved_model_info.npz\",allow_pickle=True)\n",
    "    modeldata = {key : (modeldatafileobj[key] if key != \"initialization_function\" else True) for key in modeldatafileobj.keys()}\n",
    "    num_timesteps = 201\n",
    "    num_channels = 2\n",
    "    latent_dim = (int)(modeldata[\"latent_dim\"])\n",
    "\n",
    "    hi=modelApplier.model\n",
    "\n",
    "    embeds,_ = hi.encoder.encode(ydata[ixs,],tdata[ixs,])\n",
    "    embeds = embeds.detach().cpu().numpy()\n",
    "\n",
    "    scaled_ts = hi.scalar_timewarper.timewarp(ydata[ixs,],tdata[ixs,]).detach().cpu().numpy()\n",
    "\n",
    "    lambd = np.linspace(0,1,3)\n",
    "    interpembeds = torch.tensor(np.array([embeds[0] * (1-l) + embeds[1] * (l) for l in lambd]))\n",
    "    #canonical_ts = torch.tensor(np.array([np.array(tdata[0,] * (1-l) + tdata[1,] * (l)) for l in lambd]))\n",
    "    canonical_ts = torch.tensor(np.array([np.linspace(0,1,num_timesteps).reshape(-1,1) for l in lambd]),dtype=torch.float)\n",
    "    canonicaltime_trajs = hi.decoder.decode(interpembeds, canonical_ts).detach().numpy()\n",
    "\n",
    "    lambd2 = np.linspace(0,1,11)\n",
    "    full_interpembeds = torch.tensor(np.array([embeds[0] * (1-l) + embeds[1] * (l) for l in lambd2]))\n",
    "    #full_canonical_ts = torch.tensor(np.array([np.array(tdata[0,] * (1-l) + tdata[1,] * (l)) for l in lambd2]))\n",
    "    full_canonical_ts = torch.tensor(np.array([np.linspace(0,1,num_timesteps).reshape(-1,1) for l in lambd2]),dtype=torch.float)\n",
    "    full_canonicaltime_trajs = hi.decoder.decode(full_interpembeds, full_canonical_ts).detach().numpy()\n",
    "\n",
    "    return canonical_ts,canonicaltime_trajs,full_canonical_ts,full_canonicaltime_trajs"
   ]
  },
  {
   "cell_type": "code",
   "execution_count": 8,
   "id": "24165cc0",
   "metadata": {
    "ExecuteTime": {
     "end_time": "2023-09-27T14:36:13.696269Z",
     "start_time": "2023-09-27T14:36:13.693170Z"
    }
   },
   "outputs": [
    {
     "name": "stdout",
     "output_type": "stream",
     "text": [
      "(201, 2)\n"
     ]
    }
   ],
   "source": [
    "def save_traj_from_name(modelname):\n",
    "    canonical_ts,canonicaltime_trajs,full_canonical_ts,full_canonicaltime_trajs = get_interps(modelname)\n",
    "    print(canonicaltime_trajs[1].shape)\n",
    "    combined_trajectory = np.hstack((canonical_ts[1],canonicaltime_trajs[1]))\n",
    "    return combined_trajectory\n",
    "traj = save_traj_from_name(\"../results/rescaled/20231011-003229.166126/savedmodel\")\n",
    "scaled_traj3d = np.hstack((traj[:,0].reshape(-1,1),\n",
    "                           np.ones(len(traj)).reshape(-1,1)*0.8,\n",
    "                           traj[:,1].reshape(-1,1)*0.08,\n",
    "                           traj[:,2].reshape(-1,1)*0.08))\n",
    "np.savetxt(\"test_trajectory.txt\", scaled_traj3d,'%0.5f')"
   ]
  },
  {
   "cell_type": "code",
   "execution_count": 9,
   "id": "94080f4b",
   "metadata": {
    "ExecuteTime": {
     "end_time": "2023-09-27T14:38:43.626179Z",
     "start_time": "2023-09-27T14:38:42.334527Z"
    },
    "scrolled": false
   },
   "outputs": [],
   "source": [
    "#make_plot_from_name(\"../results/rescaled/20231020-163255.573136/savedmodel\",\"noTW\",[119,130,139])\n",
    "#make_plot_from_name(\"../results/rescaled/20231021-232100.355514/savedmodel\",\"conv\")\n",
    "#make_plot_from_name(\"../results/rescaled/20231022-200601.075614/savedmodel\",\"TimewarpVAEDTW\",[120,130,134])\n",
    "#make_plot_from_name(\"../results/rescaled/20231011-003229.166126/savedmodel\",\"timewarp\",[135,138,141])"
   ]
  },
  {
   "cell_type": "code",
   "execution_count": 10,
   "id": "40bd2b71",
   "metadata": {
    "scrolled": false
   },
   "outputs": [
    {
     "data": {
      "text/plain": [
       "[<matplotlib.lines.Line2D at 0x7f54f017f6a0>]"
      ]
     },
     "execution_count": 10,
     "metadata": {},
     "output_type": "execute_result"
    },
    {
     "data": {
      "image/png": "[encoded data removed]",
      "text/plain": [
       "<Figure size 640x480 with 1 Axes>"
      ]
     },
     "metadata": {},
     "output_type": "display_data"
    }
   ],
   "source": [
    "plt.plot(scaled_traj3d[:,0],scaled_traj3d[:,1])\n",
    "plt.plot(scaled_traj3d[:,0],scaled_traj3d[:,2])\n",
    "plt.plot(scaled_traj3d[:,0],scaled_traj3d[:,3])"
   ]
  },
  {
   "cell_type": "code",
   "execution_count": null,
   "id": "8d98bb08",
   "metadata": {},
   "outputs": [],
   "source": []
  }
 ],
 "metadata": {
  "kernelspec": {
   "display_name": "Python 3 (ipykernel)",
   "language": "python",
   "name": "python3"
  },
  "language_info": {
   "codemirror_mode": {
    "name": "ipython",
    "version": 3
   },
   "file_extension": ".py",
   "mimetype": "text/x-python",
   "name": "python",
   "nbconvert_exporter": "python",
   "pygments_lexer": "ipython3",
   "version": "3.8.16"
  }
 },
 "nbformat": 4,
 "nbformat_minor": 5
}
