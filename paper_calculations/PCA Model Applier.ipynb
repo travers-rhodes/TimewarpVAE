{
 "cells": [
  {
   "cell_type": "code",
   "execution_count": null,
   "id": "89a91a0d",
   "metadata": {
    "ExecuteTime": {
     "end_time": "2023-09-11T18:15:53.325179Z",
     "start_time": "2023-09-11T18:15:53.322614Z"
    }
   },
   "outputs": [],
   "source": [
    "import matplotlib.pyplot as plt\n",
    "import numpy as np\n",
    "import glob\n",
    "import torch\n",
    "import timewarp_lib.vector_timewarpers as vtw\n",
    "import torch.nn as nn\n",
    "import sys\n",
    "sys.path.append(\"..\")\n",
    "import comparison_models.model_applier as ma"
   ]
  },
  {
   "cell_type": "code",
   "execution_count": null,
   "id": "b1f3cd23",
   "metadata": {
    "ExecuteTime": {
     "end_time": "2023-09-11T18:15:53.517260Z",
     "start_time": "2023-09-11T18:15:53.515014Z"
    }
   },
   "outputs": [],
   "source": [
    "test_time_dtw_vector_timewarper = vtw.DTWVectorTimewarper()"
   ]
  },
  {
   "cell_type": "code",
   "execution_count": null,
   "id": "b56f4922",
   "metadata": {
    "ExecuteTime": {
     "end_time": "2023-09-11T18:15:53.743116Z",
     "start_time": "2023-09-11T18:15:53.738138Z"
    }
   },
   "outputs": [],
   "source": [
    "# we trained on augmented data, but we should just apply to regular data\n",
    "\n",
    "DATAFILE=f\"../data/trainTest2DLetterAScaled.npz\"\n",
    "MODELFOLDERGLOB= \"../results/augpca/*/savedmodel\"\n",
    "data = np.load(DATAFILE)\n",
    "test = data[\"test\"]\n",
    "train = data[\"train\"]\n",
    "\n",
    "num_trains, num_ts, channels = train.shape\n",
    "num_tests, num_ts, channels = test.shape"
   ]
  },
  {
   "cell_type": "code",
   "execution_count": null,
   "id": "622f5711",
   "metadata": {},
   "outputs": [],
   "source": [
    "for modelname in glob.glob(MODELFOLDERGLOB):\n",
    "    model = ma.ModelApplier(modelname)\n",
    "    print(modelname)\n",
    "    print(model.latent_dim)"
   ]
  },
  {
   "cell_type": "code",
   "execution_count": null,
   "id": "f175980e",
   "metadata": {
    "ExecuteTime": {
     "end_time": "2023-09-11T18:15:56.972508Z",
     "start_time": "2023-09-11T18:15:54.008990Z"
    }
   },
   "outputs": [],
   "source": [
    "results = []\n",
    "for modelname in glob.glob(MODELFOLDERGLOB):\n",
    "    model = ma.ModelApplier(modelname)\n",
    "    if model.latent_dim > 16:\n",
    "        continue\n",
    "    print(model.latent_dim)\n",
    "    recon_test = model.apply(model.embed(test))\n",
    "    recon_train = model.apply(model.embed(train))\n",
    "    train_dtw_recon, train_dtw_actual = test_time_dtw_vector_timewarper.timewarp_first_and_second(\n",
    "        torch.tensor(recon_train,dtype=torch.float), \n",
    "        torch.tensor(train,dtype=torch.float))\n",
    "    train_aligned_loss = np.sqrt(\n",
    "        nn.functional.mse_loss(train_dtw_recon, train_dtw_actual, reduction=\"sum\").detach().numpy()\n",
    "        / (num_ts * num_trains))\n",
    "    test_dtw_recon, test_dtw_actual = test_time_dtw_vector_timewarper.timewarp_first_and_second(\n",
    "        torch.tensor(recon_test,dtype=torch.float), \n",
    "        torch.tensor(test,dtype=torch.float))\n",
    "    test_aligned_loss = np.sqrt(\n",
    "        nn.functional.mse_loss(test_dtw_recon, test_dtw_actual, reduction=\"sum\").detach().numpy()\n",
    "        / (num_ts * num_tests))\n",
    "    test_error = np.sqrt(np.sum(np.square(recon_test - test))/(num_ts * num_tests))\n",
    "    train_error = np.sqrt(np.sum(np.square(recon_train - train))/(num_ts * num_trains))\n",
    "    results.append((model.latent_dim,train_aligned_loss,test_aligned_loss, train_error, test_error))\n",
    "results = np.array(results)\n",
    "np.save(\"pca_results.npy\",results)"
   ]
  },
  {
   "cell_type": "code",
   "execution_count": null,
   "id": "43d5704e",
   "metadata": {},
   "outputs": [],
   "source": [
    "results"
   ]
  },
  {
   "cell_type": "code",
   "execution_count": null,
   "id": "6d5c7a6d",
   "metadata": {
    "ExecuteTime": {
     "end_time": "2023-09-11T18:15:57.138727Z",
     "start_time": "2023-09-11T18:15:56.974448Z"
    }
   },
   "outputs": [],
   "source": [
    "results = np.load(\"pca_results.npy\")\n",
    "plt.figure(figsize=(6,6))\n",
    "plt.scatter(results[:,1],results[:,2])\n",
    "plt.scatter(results[:,3],results[:,4])\n",
    "plt.axis(\"equal\")\n",
    "plt.xlim(0.0,0.4)\n",
    "plt.ylim(0.0,0.4)"
   ]
  },
  {
   "cell_type": "code",
   "execution_count": null,
   "id": "277ef1cd",
   "metadata": {
    "ExecuteTime": {
     "end_time": "2023-09-16T18:16:58.357983Z",
     "start_time": "2023-09-16T18:16:56.500231Z"
    },
    "scrolled": false
   },
   "outputs": [],
   "source": [
    "for modelname in glob.glob(MODELFOLDERGLOB):\n",
    "    model = ma.ModelApplier(modelname)\n",
    "    if model.latent_dim != 16:\n",
    "        continue\n",
    "    for dim in range(16):\n",
    "        plt.figure(figsize=(8,8))\n",
    "        for latent in np.linspace(-0.01,0.01,5):\n",
    "            latents = np.zeros((1,16))\n",
    "            latents[0,dim] = latent\n",
    "            traj = model.apply(latents)\n",
    "            plt.plot(traj[0,:,0],traj[0,:,1])\n",
    "            plt.axis(\"equal\")\n",
    "            plt.xlim(-4,4)\n",
    "            plt.ylim(-4,4)"
   ]
  },
  {
   "cell_type": "code",
   "execution_count": null,
   "id": "16b4818e",
   "metadata": {
    "ExecuteTime": {
     "end_time": "2023-09-15T19:11:32.899722Z",
     "start_time": "2023-09-15T19:11:32.625787Z"
    }
   },
   "outputs": [],
   "source": [
    "plt.figure(figsize=(15,15))\n",
    "for modelname in glob.glob(MODELFOLDERGLOB):\n",
    "    model = ma.ModelApplier(modelname)\n",
    "    if model.latent_dim!=16:\n",
    "        continue\n",
    "    recon_train = model.apply(model.embed(train))\n",
    "    for i in range(5):\n",
    "        plt.scatter(train[i,:,0]+i*5,train[i,:,1])\n",
    "        plt.plot(recon_train[i,:,0]+i*5,recon_train[i,:,1],c=\"k\")\n",
    "plt.axis(\"equal\")"
   ]
  },
  {
   "cell_type": "code",
   "execution_count": null,
   "id": "97ce1d16",
   "metadata": {},
   "outputs": [],
   "source": []
  }
 ],
 "metadata": {
  "kernelspec": {
   "display_name": "Python 3 (ipykernel)",
   "language": "python",
   "name": "python3"
  },
  "language_info": {
   "codemirror_mode": {
    "name": "ipython",
    "version": 3
   },
   "file_extension": ".py",
   "mimetype": "text/x-python",
   "name": "python",
   "nbconvert_exporter": "python",
   "pygments_lexer": "ipython3",
   "version": "3.8.16"
  }
 },
 "nbformat": 4,
 "nbformat_minor": 5
}
