{
 "cells": [
  {
   "cell_type": "code",
   "execution_count": null,
   "id": "debdd8f8",
   "metadata": {
    "ExecuteTime": {
     "end_time": "2023-09-17T18:43:32.663717Z",
     "start_time": "2023-09-17T18:43:30.772559Z"
    }
   },
   "outputs": [],
   "source": [
    "import pandas as pd\n",
    "import json\n",
    "import numpy as np\n",
    "import matplotlib.pyplot as plt"
   ]
  },
  {
   "cell_type": "code",
   "execution_count": null,
   "id": "9eab2ec6",
   "metadata": {
    "ExecuteTime": {
     "end_time": "2023-09-17T18:43:32.750940Z",
     "start_time": "2023-09-17T18:43:32.747833Z"
    }
   },
   "outputs": [],
   "source": [
    "def clean(rawdata):\n",
    "    return rawdata.replace(\"'\",\"\\\"\").replace(\"False\",\"0\").replace(\"True\",\"1\").replace(\"None\",\"\\\"None\\\"\")"
   ]
  },
  {
   "cell_type": "code",
   "execution_count": null,
   "id": "0716f8a6",
   "metadata": {
    "ExecuteTime": {
     "end_time": "2023-09-17T18:43:32.754942Z",
     "start_time": "2023-09-17T18:43:32.752407Z"
    }
   },
   "outputs": [],
   "source": [
    "def safe_check_required_key_value(dictionary, key, value):\n",
    "    return key in dictionary.keys() and dictionary[key] == value"
   ]
  },
  {
   "cell_type": "code",
   "execution_count": null,
   "id": "a0d703ca",
   "metadata": {
    "ExecuteTime": {
     "end_time": "2023-09-17T18:43:32.758915Z",
     "start_time": "2023-09-17T18:43:32.756408Z"
    }
   },
   "outputs": [],
   "source": [
    "def match_dict_values(curdict, goaldict, ignore_keys_list):\n",
    "    for key in goaldict.keys():\n",
    "        if key not in ignore_keys_list:\n",
    "            if not safe_check_required_key_value(curdict, key, goaldict[key]):\n",
    "                return False\n",
    "    return True"
   ]
  },
  {
   "cell_type": "code",
   "execution_count": null,
   "id": "25598eef",
   "metadata": {
    "ExecuteTime": {
     "end_time": "2023-09-17T18:54:31.957525Z",
     "start_time": "2023-09-17T18:54:31.855752Z"
    }
   },
   "outputs": [],
   "source": [
    "all_run_dicts = []\n",
    "rawdata = pd.read_csv(\"../fork_project.csv\")\n",
    "rawdata = rawdata.reset_index()  # make sure indexes pair with number of rows\n",
    "for index, row in rawdata.iterrows():\n",
    "    configdict = json.loads(clean(row.config))\n",
    "    if not any([match_dict_values(configdict, prd,[\"logname\",\"model_save_dir\",\"latent_dim\"]) for prd in all_run_dicts]):\n",
    "        all_run_dicts.append(configdict)"
   ]
  },
  {
   "cell_type": "code",
   "execution_count": null,
   "id": "3b91bf3c",
   "metadata": {},
   "outputs": [],
   "source": [
    "                (\"decoder_name\",\"functional_decoder_complicated\"),\n",
    "                (\"dec_complicated_function_hidden_dims\",[200]),\n",
    "                (\"training_data_added_timing_noise\",0.1)"
   ]
  },
  {
   "cell_type": "code",
   "execution_count": null,
   "id": "494c1b3d",
   "metadata": {
    "ExecuteTime": {
     "end_time": "2023-09-17T18:43:33.580292Z",
     "start_time": "2023-09-17T18:43:33.577499Z"
    }
   },
   "outputs": [],
   "source": [
    "def create_dataset_combine(sweep_dictionaries,ignore_keys_list = [\"logname\",\"model_save_dir\",\"latent_dim\"]):\n",
    "    all_data = []\n",
    "    for sweep_dictionary in sweep_dictionaries:\n",
    "        data = create_dataset(sweep_dictionary,ignore_keys_list)\n",
    "        all_data.append(data)\n",
    "    all_data = np.concatenate(all_data, axis=0)\n",
    "    return all_data"
   ]
  },
  {
   "cell_type": "code",
   "execution_count": null,
   "id": "5b1bf554",
   "metadata": {
    "ExecuteTime": {
     "end_time": "2023-09-17T18:44:44.926167Z",
     "start_time": "2023-09-17T18:44:44.921668Z"
    },
    "scrolled": true
   },
   "outputs": [],
   "source": [
    "def create_dataset(sweep_dictionary,ignore_keys_list = [\"logname\",\"model_save_dir\",\"latent_dim\"], minstamp = None):\n",
    "    data = []\n",
    "    rawdata = pd.read_csv(\"../fork_project.csv\")\n",
    "    rawdata = rawdata.reset_index()  # make sure indexes pair with number of rows\n",
    "\n",
    "    for index, row in rawdata.iterrows():\n",
    "        configdict = json.loads(clean(row.config))\n",
    "        if match_dict_values(configdict,sweep_dictionary,ignore_keys_list):\n",
    "            rowdata = json.loads(clean(row.summary))\n",
    "            if \"train_alignedRMSE\" in rowdata.keys() and rowdata[\"_step\"] >= 99:\n",
    "                if minstamp is None or configdict[\"logname\"][21:43] >= minstamp:\n",
    "                    data.append((configdict[\"latent_dim\"],\n",
    "                                 rowdata[\"train_alignedRMSE\"],\n",
    "                                 rowdata[\"test_alignedRMSE\"],\n",
    "                                 rowdata[\"train_noiselessRMSE\"],\n",
    "                                 rowdata[\"test_noiselessRMSE\"],\n",
    "                                 np.log2(rowdata[\"train_KLD\"])))\n",
    "    data = np.array(data)       \n",
    "    return data"
   ]
  },
  {
   "cell_type": "code",
   "execution_count": null,
   "id": "4619ed90",
   "metadata": {},
   "outputs": [],
   "source": [
    "datasets = [create_dataset(rd) for rd in all_run_dicts]"
   ]
  },
  {
   "cell_type": "code",
   "execution_count": null,
   "id": "fde68684",
   "metadata": {},
   "outputs": [],
   "source": [
    "[print(d.shape[0]) for d in datasets]"
   ]
  },
  {
   "cell_type": "code",
   "execution_count": null,
   "id": "73f6de01",
   "metadata": {},
   "outputs": [],
   "source": [
    "valid_indices = [i for i,d in enumerate(datasets) if d.shape[0]>3]"
   ]
  },
  {
   "cell_type": "code",
   "execution_count": null,
   "id": "f050174d",
   "metadata": {},
   "outputs": [],
   "source": [
    "valid_indices"
   ]
  },
  {
   "cell_type": "code",
   "execution_count": null,
   "id": "6d8d4e56",
   "metadata": {
    "scrolled": true
   },
   "outputs": [],
   "source": [
    "datasets = [datasets[vi] for vi in valid_indices]\n",
    "all_run_dicts = [all_run_dicts[vi] for vi in valid_indices]"
   ]
  },
  {
   "cell_type": "code",
   "execution_count": null,
   "id": "1289b204",
   "metadata": {
    "ExecuteTime": {
     "end_time": "2023-09-17T18:55:09.889637Z",
     "start_time": "2023-09-17T18:55:09.886251Z"
    }
   },
   "outputs": [],
   "source": [
    "def table_with_average_variance_line(data):\n",
    "    #ax.scatter(data[:,0],data[:,1],c=color,alpha=1,marker=markerstyle)\n",
    "    xvals = []\n",
    "    yvals = []\n",
    "    stdyvals = []\n",
    "    for x,y in data:\n",
    "        if x not in xvals:\n",
    "            xvals.append(x)\n",
    "            yvals.append(np.mean(data[data[:,0]==x,1]))\n",
    "            stdyvals.append(np.std(data[data[:,0]==x,1]))\n",
    "    xvals = np.array(xvals)\n",
    "    yvals = np.array(yvals)\n",
    "    stdyvals = np.array(stdyvals)\n",
    "    order = np.argsort(xvals)\n",
    "\n",
    "    return(xvals, yvals, stdyvals)"
   ]
  },
  {
   "cell_type": "code",
   "execution_count": null,
   "id": "2a7cd97d",
   "metadata": {
    "ExecuteTime": {
     "end_time": "2023-09-17T18:55:09.896563Z",
     "start_time": "2023-09-17T18:55:09.890874Z"
    }
   },
   "outputs": [],
   "source": [
    "\n",
    "pcaresults = np.load(\"../fork_pca_results.npy\")\n",
    "pcaresults = pcaresults[pcaresults[:,0]>0]\n",
    "pcaresults = pcaresults[pcaresults[:,0]<17]\n",
    "datasets.append(pcaresults)"
   ]
  },
  {
   "cell_type": "code",
   "execution_count": null,
   "id": "7f84ef4e",
   "metadata": {
    "ExecuteTime": {
     "end_time": "2023-09-17T18:55:09.903558Z",
     "start_time": "2023-09-17T18:55:09.899349Z"
    },
    "scrolled": true
   },
   "outputs": [],
   "source": [
    "pcaresults"
   ]
  },
  {
   "cell_type": "code",
   "execution_count": null,
   "id": "98b1e3dc",
   "metadata": {},
   "outputs": [],
   "source": [
    "import matplotlib.lines as mlines \n",
    "#https://stackoverflow.com/questions/47391702/how-to-make-a-colored-markers-legend-from-scratch"
   ]
  },
  {
   "cell_type": "code",
   "execution_count": null,
   "id": "3f108e40",
   "metadata": {
    "ExecuteTime": {
     "end_time": "2023-09-17T18:55:09.917280Z",
     "start_time": "2023-09-17T18:55:09.911607Z"
    },
    "scrolled": false
   },
   "outputs": [],
   "source": [
    "def save_table(namebase,toplot = None):\n",
    "\n",
    "    if toplot is None:\n",
    "        toplot = range(len(datasets))\n",
    "    ratedat = []\n",
    "    for i in toplot:\n",
    "        dataval = datasets[i]\n",
    "        if dataval.shape[1] > 5:\n",
    "            returnval = table_with_average_variance_line(dataval[:,(0,5)])\n",
    "            ratedat.append(returnval)\n",
    "            \n",
    "    traindat = []\n",
    "    for i in toplot:\n",
    "        dataval = datasets[i]\n",
    "        if dataval.shape[1] > 5:\n",
    "            returnval = table_with_average_variance_line(dataval[:,(0,1)])\n",
    "            traindat.append(returnval)\n",
    "            \n",
    "    testdat = []\n",
    "    for i in toplot:\n",
    "        dataval = datasets[i]\n",
    "        if dataval.shape[1] > 5:\n",
    "            returnval = table_with_average_variance_line(dataval[:,(0,2)])\n",
    "            testdat.append(returnval)\n",
    "            \n",
    "    \n",
    "    return (ratedat, traindat, testdat)"
   ]
  },
  {
   "cell_type": "code",
   "execution_count": null,
   "id": "6a345f8b",
   "metadata": {},
   "outputs": [],
   "source": [
    "def is_base_config(testdict,must_not_match=[]):\n",
    "    checks = [(\"beta\",0.1),\n",
    "                (\"scalar_timewarper_name\",\"modeled_scalar_timewarper\"),\n",
    "                (\"decoder_name\",\"functional_decoder_complicated\"),\n",
    "                (\"dec_complicated_function_hidden_dims\",[200]),\n",
    "                (\"training_data_added_timing_noise\",0.1)\n",
    "             ]\n",
    "    for check in checks:\n",
    "        if check[0] in must_not_match:\n",
    "            if safe_check_required_key_value(testdict,check[0],check[1]):\n",
    "                return False\n",
    "        elif not safe_check_required_key_value(testdict,check[0],check[1]):\n",
    "            return False\n",
    "    return True"
   ]
  },
  {
   "cell_type": "code",
   "execution_count": null,
   "id": "9a393234",
   "metadata": {},
   "outputs": [],
   "source": [
    "np.array([is_base_config(d) for d in all_run_dicts])"
   ]
  },
  {
   "cell_type": "code",
   "execution_count": null,
   "id": "46fac769",
   "metadata": {
    "scrolled": false
   },
   "outputs": [],
   "source": [
    "np.sum(np.array([is_base_config(d) for d in all_run_dicts]))"
   ]
  },
  {
   "cell_type": "code",
   "execution_count": null,
   "id": "555ef329",
   "metadata": {
    "scrolled": true
   },
   "outputs": [],
   "source": [
    "base_config_index = np.where(np.array([is_base_config(d) for d in all_run_dicts]))[0].item()\n",
    "notimewarp_index = np.where(np.array([is_base_config(d,\"scalar_timewarper_name\") for d in all_run_dicts]))[0].item()\n",
    "conv_index = np.where(np.array([is_base_config(d,[\"decoder_name\",\"scalar_timewarper_name\",\"dec_complicated_function_hidden_dims\"]) for d in all_run_dicts]))[0].item()\n",
    "\n",
    "beta_inds = list(np.where(np.array([is_base_config(d,[\"beta\"]) for d in all_run_dicts]))[0])\n",
    "no_tw_beta_inds = list(np.where(np.array([is_base_config(d,[\"beta\",\"scalar_timewarper_name\"]) for d in all_run_dicts]))[0])\n",
    "conv_beta_inds = list(np.where(np.array([is_base_config(d,[\"beta\",\"decoder_name\",\"scalar_timewarper_name\",\"dec_complicated_function_hidden_dims\"]) for d in all_run_dicts]))[0])\n",
    "\n",
    "print(len(all_run_dicts))"
   ]
  },
  {
   "cell_type": "code",
   "execution_count": null,
   "id": "d9d4b063",
   "metadata": {},
   "outputs": [],
   "source": [
    "toplots=[base_config_index] + beta_inds+ no_tw_beta_inds + [notimewarp_index] + conv_beta_inds + [conv_index]"
   ]
  },
  {
   "cell_type": "code",
   "execution_count": null,
   "id": "1ea0fc5a",
   "metadata": {
    "scrolled": false
   },
   "outputs": [],
   "source": [
    "(rates, trains, tests) = save_table(\"beta\",toplots)"
   ]
  },
  {
   "cell_type": "code",
   "execution_count": null,
   "id": "2cde76d8",
   "metadata": {
    "scrolled": false
   },
   "outputs": [],
   "source": [
    "trains"
   ]
  },
  {
   "cell_type": "code",
   "execution_count": null,
   "id": "05edbcd5",
   "metadata": {},
   "outputs": [],
   "source": [
    "names = [\"TimewarpVAE\" if all_run_dicts[i][\"scalar_timewarper_name\"] == \"modeled_scalar_timewarper\" else \n",
    "         \"beta-VAE\" if all_run_dicts[i][\"decoder_name\"] == \"convolutional_decoder_upsampling\" else \n",
    "         \"NoTimewarp\" for i in toplots]\n",
    "betas = np.array([all_run_dicts[i][\"beta\"] for i in toplots])"
   ]
  },
  {
   "cell_type": "code",
   "execution_count": null,
   "id": "cde799e6",
   "metadata": {},
   "outputs": [],
   "source": [
    "outstring = \"\"\n",
    "prevname = None\n",
    "almost_sorted = np.flip(np.lexsort((-betas,names)))\n",
    "sorted_indices = [almost_sorted[j] for j in [3,4,5,6,7,8,0,1,2]]\n",
    "for i in sorted_indices:\n",
    "    if betas[i] == 0.0001:\n",
    "        continue\n",
    "    (n,b,r,trai,test) = (names[i], betas[i], rates[i], trains[i],tests[i])\n",
    "    if prevname is not None and n == prevname:\n",
    "        thisname = \"\"\n",
    "    else:\n",
    "        thisname = n\n",
    "    openbrace=\"{\"\n",
    "    closebrace=\"}\"\n",
    "    if n == \"TimewarpVAE\" and b == 0.1:\n",
    "        outstring += (f\"{thisname} & {b} & {r[1].item():.3f} & \"\n",
    "                    +f\"\\\\textbf{openbrace}{trai[1].item():.3f} $\\\\pm$ {3*trai[2].item():.3f}{closebrace} & \"\n",
    "                    +f\"{test[1].item():.3f} $\\\\pm$ {3*test[2].item():.3f} \\\\\\\\\\n\")\n",
    "    elif n == \"TimewarpVAE\" and b == 0.01:\n",
    "        outstring += (f\"{thisname} & {b} & {r[1].item():.3f} & \"\n",
    "                    +f\"{trai[1].item():.3f} $\\\\pm$ {3*trai[2].item():.3f} & \"\n",
    "                    +f\"\\\\textbf{openbrace}{test[1].item():.3f} $\\\\pm$ {3*test[2].item():.3f}{closebrace} \\\\\\\\\\n\")\n",
    "    else:\n",
    "        outstring += (f\"{thisname} & {b} & {r[1].item():.3f} & \"\n",
    "                    +f\"{trai[1].item():.3f} $\\\\pm$ {3*trai[2].item():.3f} & \"\n",
    "                    +f\"{test[1].item():.3f} $\\\\pm$ {3*test[2].item():.3f}\\\\\\\\\\n\")\n",
    "    prevname = n\n",
    "print(outstring)"
   ]
  },
  {
   "cell_type": "code",
   "execution_count": null,
   "id": "274013d7",
   "metadata": {},
   "outputs": [],
   "source": [
    "with open(\"forkResultsTable.tex\", \"w\") as text_file:\n",
    "    text_file.write(outstring[:-2]) # the last line needs its return to be hardcoded into the main tex file"
   ]
  },
  {
   "cell_type": "code",
   "execution_count": null,
   "id": "49734488",
   "metadata": {},
   "outputs": [],
   "source": []
  }
 ],
 "metadata": {
  "kernelspec": {
   "display_name": "Python 3 (ipykernel)",
   "language": "python",
   "name": "python3"
  },
  "language_info": {
   "codemirror_mode": {
    "name": "ipython",
    "version": 3
   },
   "file_extension": ".py",
   "mimetype": "text/x-python",
   "name": "python",
   "nbconvert_exporter": "python",
   "pygments_lexer": "ipython3",
   "version": "3.8.16"
  }
 },
 "nbformat": 4,
 "nbformat_minor": 5
}
