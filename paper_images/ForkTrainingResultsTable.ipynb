{
 "cells": [
  {
   "cell_type": "code",
   "execution_count": 1,
   "id": "debdd8f8",
   "metadata": {
    "ExecuteTime": {
     "end_time": "2023-09-17T18:43:32.663717Z",
     "start_time": "2023-09-17T18:43:30.772559Z"
    }
   },
   "outputs": [],
   "source": [
    "import pandas as pd\n",
    "import json\n",
    "import numpy as np\n",
    "import matplotlib.pyplot as plt"
   ]
  },
  {
   "cell_type": "code",
   "execution_count": 2,
   "id": "9d89f153",
   "metadata": {},
   "outputs": [],
   "source": [
    "import pickle\n",
    "\n",
    "with open('../paper_calculations/fork_aligned_reconstruction_wo_tw_errors.pickle', 'rb') as handle:\n",
    "      aligned_reconstruction_wo_tw_errors = pickle.load(handle)\n",
    "        \n",
    "keys = [a[1] for a in aligned_reconstruction_wo_tw_errors]\n",
    "values = [a[2:] for a in aligned_reconstruction_wo_tw_errors]\n",
    "\n",
    "aligned_notw_errors_dict = dict(zip(keys,values))"
   ]
  },
  {
   "cell_type": "code",
   "execution_count": 3,
   "id": "9eab2ec6",
   "metadata": {
    "ExecuteTime": {
     "end_time": "2023-09-17T18:43:32.750940Z",
     "start_time": "2023-09-17T18:43:32.747833Z"
    }
   },
   "outputs": [],
   "source": [
    "def clean(rawdata):\n",
    "    return rawdata.replace(\"'\",\"\\\"\").replace(\"False\",\"0\").replace(\"True\",\"1\").replace(\"None\",\"\\\"None\\\"\")"
   ]
  },
  {
   "cell_type": "code",
   "execution_count": 4,
   "id": "0716f8a6",
   "metadata": {
    "ExecuteTime": {
     "end_time": "2023-09-17T18:43:32.754942Z",
     "start_time": "2023-09-17T18:43:32.752407Z"
    }
   },
   "outputs": [],
   "source": [
    "def safe_check_required_key_value(dictionary, key, value):\n",
    "    return key in dictionary.keys() and dictionary[key] == value"
   ]
  },
  {
   "cell_type": "code",
   "execution_count": 5,
   "id": "a0d703ca",
   "metadata": {
    "ExecuteTime": {
     "end_time": "2023-09-17T18:43:32.758915Z",
     "start_time": "2023-09-17T18:43:32.756408Z"
    }
   },
   "outputs": [],
   "source": [
    "def match_dict_values(curdict, goaldict, ignore_keys_list):\n",
    "    for key in goaldict.keys():\n",
    "        if key not in ignore_keys_list:\n",
    "            if not safe_check_required_key_value(curdict, key, goaldict[key]):\n",
    "                return False\n",
    "    return True"
   ]
  },
  {
   "cell_type": "code",
   "execution_count": 6,
   "id": "3ba3563d",
   "metadata": {},
   "outputs": [],
   "source": [
    "def get_all_data():\n",
    "    rawdata1 = pd.read_csv(\"../fork_project.csv\")\n",
    "    rawdata1 = rawdata1.reset_index()  # make sure indexes pair with number of rows\n",
    "\n",
    "    rawdata2 = pd.read_csv(\"../forkprojectrateinvariantvae.csv\")\n",
    "    rawdata2 = rawdata2.reset_index()  # make sure indexes pair with number of rows\n",
    "\n",
    "\n",
    "    rawdata = pd.concat([rawdata1,rawdata2])\n",
    "    rawdata.reset_index()\n",
    "    return rawdata"
   ]
  },
  {
   "cell_type": "code",
   "execution_count": 7,
   "id": "25598eef",
   "metadata": {
    "ExecuteTime": {
     "end_time": "2023-09-17T18:54:31.957525Z",
     "start_time": "2023-09-17T18:54:31.855752Z"
    }
   },
   "outputs": [],
   "source": [
    "all_run_dicts = []\n",
    "rawdata = get_all_data()\n",
    "for index, row in rawdata.iterrows():\n",
    "    configdict = json.loads(clean(row.config))\n",
    "    if not any([match_dict_values(configdict, prd,[\"logname\",\"model_save_dir\",\"latent_dim\"]) for prd in all_run_dicts]):\n",
    "        all_run_dicts.append(configdict)"
   ]
  },
  {
   "cell_type": "code",
   "execution_count": 8,
   "id": "3b91bf3c",
   "metadata": {},
   "outputs": [
    {
     "data": {
      "text/plain": [
       "('training_data_added_timing_noise', 0.1)"
      ]
     },
     "execution_count": 8,
     "metadata": {},
     "output_type": "execute_result"
    }
   ],
   "source": [
    "                (\"decoder_name\",\"functional_decoder_complicated\"),\n",
    "                (\"dec_complicated_function_hidden_dims\",[200]),\n",
    "                (\"training_data_added_timing_noise\",0.1)"
   ]
  },
  {
   "cell_type": "code",
   "execution_count": 9,
   "id": "494c1b3d",
   "metadata": {
    "ExecuteTime": {
     "end_time": "2023-09-17T18:43:33.580292Z",
     "start_time": "2023-09-17T18:43:33.577499Z"
    }
   },
   "outputs": [],
   "source": [
    "def create_dataset_combine(sweep_dictionaries,ignore_keys_list = [\"logname\",\"model_save_dir\",\"latent_dim\"]):\n",
    "    all_data = []\n",
    "    for sweep_dictionary in sweep_dictionaries:\n",
    "        data = create_dataset(sweep_dictionary,ignore_keys_list)\n",
    "        all_data.append(data)\n",
    "    all_data = np.concatenate(all_data, axis=0)\n",
    "    return all_data"
   ]
  },
  {
   "cell_type": "code",
   "execution_count": 10,
   "id": "5b1bf554",
   "metadata": {
    "ExecuteTime": {
     "end_time": "2023-09-17T18:44:44.926167Z",
     "start_time": "2023-09-17T18:44:44.921668Z"
    },
    "scrolled": true
   },
   "outputs": [],
   "source": [
    "def create_dataset(sweep_dictionary,ignore_keys_list = [\"logname\",\"model_save_dir\",\"latent_dim\"], minstamp = None):\n",
    "    data = []\n",
    "    rawdata = get_all_data()\n",
    "\n",
    "    for index, row in rawdata.iterrows():\n",
    "        configdict = json.loads(clean(row.config))\n",
    "        if match_dict_values(configdict,sweep_dictionary,ignore_keys_list):\n",
    "            rowdata = json.loads(clean(row.summary))\n",
    "            if \"train_alignedRMSE\" in rowdata.keys() and rowdata[\"_step\"] >= 99:\n",
    "                if minstamp is None or configdict[\"logname\"][21:43] >= minstamp:\n",
    "                    save_key = configdict[\"model_save_dir\"]\n",
    "                    data.append((configdict[\"latent_dim\"],\n",
    "                                 aligned_notw_errors_dict[save_key][0],#rowdata[\"train_alignedRMSE\"],\n",
    "                                 aligned_notw_errors_dict[save_key][1],#rowdata[\"test_alignedRMSE\"],\n",
    "                                 rowdata[\"train_noiselessRMSE\"],\n",
    "                                 rowdata[\"test_noiselessRMSE\"],\n",
    "                                 np.log2(rowdata[\"train_KLD\"])))\n",
    "    data = np.array(data)       \n",
    "    return data"
   ]
  },
  {
   "cell_type": "code",
   "execution_count": 11,
   "id": "4619ed90",
   "metadata": {},
   "outputs": [],
   "source": [
    "datasets = [create_dataset(rd) for rd in all_run_dicts]"
   ]
  },
  {
   "cell_type": "code",
   "execution_count": 12,
   "id": "fde68684",
   "metadata": {},
   "outputs": [
    {
     "name": "stdout",
     "output_type": "stream",
     "text": [
      "5\n",
      "5\n",
      "5\n",
      "5\n",
      "5\n",
      "5\n",
      "5\n",
      "5\n",
      "5\n",
      "0\n",
      "5\n",
      "5\n",
      "5\n",
      "0\n"
     ]
    },
    {
     "data": {
      "text/plain": [
       "[None,\n",
       " None,\n",
       " None,\n",
       " None,\n",
       " None,\n",
       " None,\n",
       " None,\n",
       " None,\n",
       " None,\n",
       " None,\n",
       " None,\n",
       " None,\n",
       " None,\n",
       " None]"
      ]
     },
     "execution_count": 12,
     "metadata": {},
     "output_type": "execute_result"
    }
   ],
   "source": [
    "[print(d.shape[0]) for d in datasets]"
   ]
  },
  {
   "cell_type": "code",
   "execution_count": 13,
   "id": "73f6de01",
   "metadata": {},
   "outputs": [],
   "source": [
    "valid_indices = [i for i,d in enumerate(datasets) if d.shape[0]>3]"
   ]
  },
  {
   "cell_type": "code",
   "execution_count": 14,
   "id": "f050174d",
   "metadata": {},
   "outputs": [
    {
     "data": {
      "text/plain": [
       "[0, 1, 2, 3, 4, 5, 6, 7, 8, 10, 11, 12]"
      ]
     },
     "execution_count": 14,
     "metadata": {},
     "output_type": "execute_result"
    }
   ],
   "source": [
    "valid_indices"
   ]
  },
  {
   "cell_type": "code",
   "execution_count": 15,
   "id": "6d8d4e56",
   "metadata": {
    "scrolled": true
   },
   "outputs": [],
   "source": [
    "datasets = [datasets[vi] for vi in valid_indices]\n",
    "all_run_dicts = [all_run_dicts[vi] for vi in valid_indices]"
   ]
  },
  {
   "cell_type": "code",
   "execution_count": 16,
   "id": "1289b204",
   "metadata": {
    "ExecuteTime": {
     "end_time": "2023-09-17T18:55:09.889637Z",
     "start_time": "2023-09-17T18:55:09.886251Z"
    }
   },
   "outputs": [],
   "source": [
    "def table_with_average_variance_line(data):\n",
    "    #ax.scatter(data[:,0],data[:,1],c=color,alpha=1,marker=markerstyle)\n",
    "    xvals = []\n",
    "    yvals = []\n",
    "    stdyvals = []\n",
    "    for x,y in data:\n",
    "        if x not in xvals:\n",
    "            xvals.append(x)\n",
    "            yvals.append(np.mean(data[data[:,0]==x,1]))\n",
    "            stdyvals.append(np.std(data[data[:,0]==x,1]))\n",
    "    xvals = np.array(xvals)\n",
    "    yvals = np.array(yvals)\n",
    "    stdyvals = np.array(stdyvals)\n",
    "    order = np.argsort(xvals)\n",
    "\n",
    "    return(xvals, yvals, stdyvals)"
   ]
  },
  {
   "cell_type": "code",
   "execution_count": 17,
   "id": "2a7cd97d",
   "metadata": {
    "ExecuteTime": {
     "end_time": "2023-09-17T18:55:09.896563Z",
     "start_time": "2023-09-17T18:55:09.890874Z"
    }
   },
   "outputs": [],
   "source": [
    "\n",
    "pcaresults = np.load(\"../fork_pca_results.npy\")\n",
    "pcaresults = pcaresults[pcaresults[:,0]>0]\n",
    "pcaresults = pcaresults[pcaresults[:,0]<17]\n",
    "datasets.append(pcaresults)"
   ]
  },
  {
   "cell_type": "code",
   "execution_count": 18,
   "id": "7f84ef4e",
   "metadata": {
    "ExecuteTime": {
     "end_time": "2023-09-17T18:55:09.903558Z",
     "start_time": "2023-09-17T18:55:09.899349Z"
    },
    "scrolled": true
   },
   "outputs": [
    {
     "data": {
      "text/plain": [
       "array([[ 6.        ,  0.08166924,  0.0847479 ,  0.10431161,  0.10755246],\n",
       "       [12.        ,  0.05191119,  0.0559249 ,  0.06152879,  0.06641849],\n",
       "       [ 2.        ,  0.2068625 ,  0.21060697,  0.22571039,  0.23426943],\n",
       "       [14.        ,  0.04704228,  0.05101603,  0.05462033,  0.05932844],\n",
       "       [15.        ,  0.04497331,  0.0494777 ,  0.05156177,  0.05698952],\n",
       "       [ 4.        ,  0.11435991,  0.11662743,  0.13723486,  0.14014914],\n",
       "       [13.        ,  0.04895733,  0.05306204,  0.05756523,  0.06249499],\n",
       "       [ 5.        ,  0.094267  ,  0.09844171,  0.11952309,  0.12416502],\n",
       "       [ 9.        ,  0.06454633,  0.06825863,  0.07503412,  0.07911889],\n",
       "       [10.        ,  0.06038601,  0.06382344,  0.07059626,  0.07434678],\n",
       "       [16.        ,  0.04257394,  0.04709355,  0.04872207,  0.05403992],\n",
       "       [11.        ,  0.05545195,  0.05860877,  0.06597965,  0.06954651],\n",
       "       [ 7.        ,  0.07184925,  0.07392275,  0.09072018,  0.09291444],\n",
       "       [ 3.        ,  0.13294786,  0.14109292,  0.16425941,  0.17628396],\n",
       "       [ 1.        ,  0.27302836,  0.28477942,  0.28509643,  0.29854217],\n",
       "       [ 8.        ,  0.06825248,  0.07159165,  0.08203006,  0.08567874]])"
      ]
     },
     "execution_count": 18,
     "metadata": {},
     "output_type": "execute_result"
    }
   ],
   "source": [
    "pcaresults"
   ]
  },
  {
   "cell_type": "code",
   "execution_count": 19,
   "id": "98b1e3dc",
   "metadata": {},
   "outputs": [],
   "source": [
    "import matplotlib.lines as mlines \n",
    "#https://stackoverflow.com/questions/47391702/how-to-make-a-colored-markers-legend-from-scratch"
   ]
  },
  {
   "cell_type": "code",
   "execution_count": 20,
   "id": "3f108e40",
   "metadata": {
    "ExecuteTime": {
     "end_time": "2023-09-17T18:55:09.917280Z",
     "start_time": "2023-09-17T18:55:09.911607Z"
    },
    "scrolled": false
   },
   "outputs": [],
   "source": [
    "def save_table(namebase,toplot = None):\n",
    "\n",
    "    if toplot is None:\n",
    "        toplot = range(len(datasets))\n",
    "    ratedat = []\n",
    "    for i in toplot:\n",
    "        dataval = datasets[i]\n",
    "        if dataval.shape[1] > 5:\n",
    "            returnval = table_with_average_variance_line(dataval[:,(0,5)])\n",
    "            ratedat.append(returnval)\n",
    "            \n",
    "    traindat = []\n",
    "    for i in toplot:\n",
    "        dataval = datasets[i]\n",
    "        if dataval.shape[1] > 5:\n",
    "            returnval = table_with_average_variance_line(dataval[:,(0,1)])\n",
    "            traindat.append(returnval)\n",
    "            \n",
    "    testdat = []\n",
    "    for i in toplot:\n",
    "        dataval = datasets[i]\n",
    "        if dataval.shape[1] > 5:\n",
    "            returnval = table_with_average_variance_line(dataval[:,(0,2)])\n",
    "            testdat.append(returnval)\n",
    "            \n",
    "    \n",
    "    return (ratedat, traindat, testdat)"
   ]
  },
  {
   "cell_type": "code",
   "execution_count": 21,
   "id": "6a345f8b",
   "metadata": {},
   "outputs": [],
   "source": [
    "def is_base_config(testdict,must_not_match=[]):\n",
    "    checks = [(\"beta\",0.1),\n",
    "                (\"scalar_timewarper_name\",\"modeled_scalar_timewarper\"),\n",
    "                (\"decoder_name\",\"functional_decoder_complicated\"),\n",
    "                (\"dec_complicated_function_hidden_dims\",[200]),\n",
    "                (\"training_data_added_timing_noise\",0.1),\n",
    "                (\"dec_use_tanh\",1)\n",
    "             ]\n",
    "    for check in checks:\n",
    "        if check[0] in must_not_match:\n",
    "            if safe_check_required_key_value(testdict,check[0],check[1]):\n",
    "                return False\n",
    "        elif not safe_check_required_key_value(testdict,check[0],check[1]):\n",
    "            return False\n",
    "    return True"
   ]
  },
  {
   "cell_type": "code",
   "execution_count": 22,
   "id": "9a393234",
   "metadata": {},
   "outputs": [
    {
     "data": {
      "text/plain": [
       "array([False, False, False, False, False, False, False, False, False,\n",
       "       False, False, False])"
      ]
     },
     "execution_count": 22,
     "metadata": {},
     "output_type": "execute_result"
    }
   ],
   "source": [
    "np.array([is_base_config(d) for d in all_run_dicts])"
   ]
  },
  {
   "cell_type": "code",
   "execution_count": 23,
   "id": "46fac769",
   "metadata": {
    "scrolled": false
   },
   "outputs": [
    {
     "data": {
      "text/plain": [
       "0"
      ]
     },
     "execution_count": 23,
     "metadata": {},
     "output_type": "execute_result"
    }
   ],
   "source": [
    "np.sum(np.array([is_base_config(d) for d in all_run_dicts]))"
   ]
  },
  {
   "cell_type": "code",
   "execution_count": 24,
   "id": "09b1cbcf",
   "metadata": {
    "scrolled": false
   },
   "outputs": [
    {
     "data": {
      "text/plain": [
       "[{'beta': 0.1,\n",
       "  'dtype': 'torch.float32',\n",
       "  'device': 'cuda',\n",
       "  'logname': 'results/retrainedforkdata/20230928-070327.894474/log',\n",
       "  'useAdam': 1,\n",
       "  'datafile': 'forkdata/forkTrajectoryData.npz',\n",
       "  'traj_len': 200,\n",
       "  'batch_size': 64,\n",
       "  'latent_dim': 3,\n",
       "  'num_epochs': 10000,\n",
       "  'dec_use_elu': 1,\n",
       "  'decoding_lr': 0.0001,\n",
       "  'encoding_lr': 0.0001,\n",
       "  'decoder_name': 'convolutional_decoder_upsampling',\n",
       "  'decoding_eps': 0.0001,\n",
       "  'encoder_name': 'convolutional_encoder',\n",
       "  'encoding_eps': 0.0001,\n",
       "  'traj_channels': 7,\n",
       "  'model_save_dir': 'results/retrainedforkdata/20230928-070327.894474/savedmodel',\n",
       "  'step_each_batch': 1,\n",
       "  'dec_conv_use_elu': 1,\n",
       "  'dec_use_softplus': 0,\n",
       "  'emb_nonlinearity': 'ReLU',\n",
       "  'log_to_wandb_name': 'retrainedforkdata',\n",
       "  'scalar_timewarping_lr': 0,\n",
       "  'dec_gen_first_traj_len': 25,\n",
       "  'learn_decoder_variance': 0,\n",
       "  'scalar_timewarper_name': 'identity_scalar_timewarper',\n",
       "  'scalar_timewarping_eps': 1e-06,\n",
       "  'vector_timewarper_name': 'identity_vector_timewarper',\n",
       "  'curv_loss_epsilon_scale': 0.01,\n",
       "  'emb_conv_layers_strides': [1, 2, 2, 2],\n",
       "  'emb_dropout_probability': 0,\n",
       "  'curv_loss_penalty_weight': 0,\n",
       "  'decoding_l2_weight_decay': 0,\n",
       "  'emb_conv_layers_channels': [16, 32, 64, 32],\n",
       "  'pre_time_learning_epochs': 0,\n",
       "  'scalar_timewarper_timereg': 0,\n",
       "  'scaltw_max_canonical_time': 1,\n",
       "  'scaltw_min_canonical_time': 0,\n",
       "  'dec_gen_upsampling_factors': [2, 2, 2],\n",
       "  'emb_fc_layers_num_features': [],\n",
       "  'dec_gen_conv_layers_channels': [20, 20, 7],\n",
       "  'emb_conv_layers_kernel_sizes': [3, 3, 3, 3],\n",
       "  'scalar_timewarper_endpointreg': 0,\n",
       "  'dec_gen_fc_layers_num_features': [800],\n",
       "  'dec_initial_log_noise_estimate': -4.605170185988091,\n",
       "  'curv_loss_divide_by_zero_epsilon': 1e-07,\n",
       "  'dec_complicated_only_side_latent': 1,\n",
       "  'dec_gen_conv_layers_kernel_sizes': [3, 3, 3],\n",
       "  'training_data_added_timing_noise': 0.1,\n",
       "  'curv_loss_num_new_sampling_points': 1000,\n",
       "  'dec_spatial_regularization_factor': 1,\n",
       "  'dec_template_use_custom_initialization': 0,\n",
       "  'dec_template_custom_initialization_grad_t': 0,\n",
       "  'decoding_spatial_derivative_regularization': 0,\n",
       "  'dec_template_custom_initialization_t_intercept_padding': 0.1}]"
      ]
     },
     "execution_count": 24,
     "metadata": {},
     "output_type": "execute_result"
    }
   ],
   "source": [
    "[d for d in all_run_dicts \n",
    " if is_base_config(d,[\"decoder_name\",\"scalar_timewarper_name\",\"dec_complicated_function_hidden_dims\",\"dec_use_tanh\"])]\n"
   ]
  },
  {
   "cell_type": "code",
   "execution_count": 25,
   "id": "555ef329",
   "metadata": {
    "scrolled": true
   },
   "outputs": [
    {
     "name": "stdout",
     "output_type": "stream",
     "text": [
      "10\n",
      "12\n"
     ]
    }
   ],
   "source": [
    "base_config_index = np.where(np.array([is_base_config(d,\"dec_use_tanh\") for d in all_run_dicts]))[0].item()\n",
    "notimewarp_index = np.where(np.array([is_base_config(d,[\"scalar_timewarper_name\",\"dec_use_tanh\"]) for d in all_run_dicts]))[0].item()\n",
    "conv_index = np.where(np.array([is_base_config(d,[\"decoder_name\",\"scalar_timewarper_name\",\"dec_complicated_function_hidden_dims\",\"dec_use_tanh\"]) for d in all_run_dicts]))[0].item()\n",
    "\n",
    "beta_inds = list(np.where(np.array([is_base_config(d,[\"beta\",\"dec_use_tanh\"]) for d in all_run_dicts]))[0])\n",
    "no_tw_beta_inds = list(np.where(np.array([is_base_config(d,[\"beta\",\"scalar_timewarper_name\",\"dec_use_tanh\"]) for d in all_run_dicts]))[0])\n",
    "conv_beta_inds = list(np.where(np.array([is_base_config(d,[\"beta\",\"decoder_name\",\"scalar_timewarper_name\",\"dec_complicated_function_hidden_dims\",\"dec_use_tanh\"]) for d in all_run_dicts]))[0])\n",
    "\n",
    "ria_ind = list(np.where(np.array([is_base_config(d,[\"decoder_name\",\"scalar_timewarper_name\",\"dec_complicated_function_hidden_dims\"]) for d in all_run_dicts]))[0])[0].item()\n",
    "ria_beta_inds = list(np.where(np.array([is_base_config(d,[\"beta\",\"decoder_name\",\"scalar_timewarper_name\",\"dec_complicated_function_hidden_dims\"]) for d in all_run_dicts]))[0])[0].item()\n",
    "\n",
    "print(ria_ind)\n",
    "\n",
    "print(len(all_run_dicts))"
   ]
  },
  {
   "cell_type": "code",
   "execution_count": 26,
   "id": "40030ac8",
   "metadata": {},
   "outputs": [
    {
     "data": {
      "text/plain": [
       "{'beta': 0.1,\n",
       " 'dtype': 'torch.float32',\n",
       " 'ria_T': 199,\n",
       " 'device': 'cuda',\n",
       " 'logname': '../results/forkrateinvariantvae/20231116-205919.182064/log',\n",
       " 'useAdam': 1,\n",
       " 'datafile': '../forkdata/forkTrajectoryData.npz',\n",
       " 'traj_len': 200,\n",
       " 'batch_size': 64,\n",
       " 'latent_dim': 3,\n",
       " 'num_epochs': 10000,\n",
       " 'dec_use_elu': 0,\n",
       " 'decoding_lr': 0.0001,\n",
       " 'encoding_lr': 0.0001,\n",
       " 'dec_use_tanh': 1,\n",
       " 'decoder_name': 'rate_invariant_conv',\n",
       " 'decoding_eps': 0.0001,\n",
       " 'encoder_name': 'convolutional_encoder',\n",
       " 'encoding_eps': 0.0001,\n",
       " 'traj_channels': 7,\n",
       " 'model_save_dir': '../results/forkrateinvariantvae/20231116-205919.182064/savedmodel',\n",
       " 'step_each_batch': 1,\n",
       " 'dec_use_softplus': 0,\n",
       " 'emb_nonlinearity': 'Tanh',\n",
       " 'force_autoencoder': 0,\n",
       " 'log_to_wandb_name': 'forkrateinvariantvae',\n",
       " 'dec_conv1d_padding': 'same',\n",
       " 'emb_conv1d_padding': 'same',\n",
       " 'scalar_timewarping_lr': 0,\n",
       " 'dec_gen_first_traj_len': 200,\n",
       " 'learn_decoder_variance': 0,\n",
       " 'scalar_timewarper_name': 'identity_scalar_timewarper',\n",
       " 'scalar_timewarping_eps': 1e-06,\n",
       " 'use_rate_invariant_vae': 1,\n",
       " 'vector_timewarper_name': 'identity_vector_timewarper',\n",
       " 'emb_activate_last_layer': 0,\n",
       " 'emb_conv_layers_strides': [1, 1, 1],\n",
       " 'curv_loss_penalty_weight': 0,\n",
       " 'decoding_l2_weight_decay': 0,\n",
       " 'emb_conv_layers_channels': [32, 32, 32],\n",
       " 'pre_time_learning_epochs': 0,\n",
       " 'scalar_timewarper_timereg': 0,\n",
       " 'scaltw_max_canonical_time': 1,\n",
       " 'scaltw_min_canonical_time': 0,\n",
       " 'dec_gen_upsampling_factors': [1, 1, 1],\n",
       " 'emb_fc_layers_num_features': [],\n",
       " 'dec_gen_conv_layers_channels': [32, 32, 7],\n",
       " 'emb_conv_layers_kernel_sizes': [16, 16, 16],\n",
       " 'scalar_timewarper_endpointreg': 0,\n",
       " 'dec_gen_fc_layers_num_features': [6400],\n",
       " 'dec_initial_log_noise_estimate': -4.605170185988091,\n",
       " 'use_rate_invariant_autoencoder': 0,\n",
       " 'dec_gen_conv_layers_kernel_sizes': [16, 16, 16],\n",
       " 'training_data_added_timing_noise': 0.1,\n",
       " 'dec_spatial_regularization_factor': 1,\n",
       " 'decoding_spatial_derivative_regularization': 0}"
      ]
     },
     "execution_count": 26,
     "metadata": {},
     "output_type": "execute_result"
    }
   ],
   "source": [
    "all_run_dicts[ria_ind]"
   ]
  },
  {
   "cell_type": "code",
   "execution_count": 27,
   "id": "d9d4b063",
   "metadata": {},
   "outputs": [],
   "source": [
    "toplots=[base_config_index] + beta_inds+ no_tw_beta_inds + [notimewarp_index] + conv_beta_inds + [conv_index] + [ria_ind,ria_beta_inds]"
   ]
  },
  {
   "cell_type": "code",
   "execution_count": 28,
   "id": "1ea0fc5a",
   "metadata": {
    "scrolled": false
   },
   "outputs": [],
   "source": [
    "(rates, trains, tests) = save_table(\"beta\",toplots)"
   ]
  },
  {
   "cell_type": "code",
   "execution_count": 29,
   "id": "2cde76d8",
   "metadata": {
    "scrolled": false
   },
   "outputs": [
    {
     "data": {
      "text/plain": [
       "[(array([3.]), array([0.18543885]), array([0.00236625])),\n",
       " (array([3.]), array([0.18679758]), array([0.00089315])),\n",
       " (array([3.]), array([0.19314365]), array([0.00104216])),\n",
       " (array([3.]), array([0.26403784]), array([0.00220844])),\n",
       " (array([3.]), array([0.27258224]), array([0.00340732])),\n",
       " (array([3.]), array([0.26509282]), array([0.00212664])),\n",
       " (array([3.]), array([0.29144067]), array([0.00171149])),\n",
       " (array([3.]), array([0.29792553]), array([0.0032399])),\n",
       " (array([3.]), array([0.29273913]), array([0.00244557])),\n",
       " (array([3.]), array([0.28473094]), array([0.05123163])),\n",
       " (array([3.]), array([0.26002272]), array([0.04326267]))]"
      ]
     },
     "execution_count": 29,
     "metadata": {},
     "output_type": "execute_result"
    }
   ],
   "source": [
    "trains"
   ]
  },
  {
   "cell_type": "code",
   "execution_count": 30,
   "id": "862d25cd",
   "metadata": {
    "scrolled": false
   },
   "outputs": [
    {
     "name": "stdout",
     "output_type": "stream",
     "text": [
      "[{'beta': 0.1, 'dtype': 'torch.float32', 'device': 'cuda', 'logname': 'results/retrainedforkdata/20230928-072212.417223/log', 'useAdam': 1, 'datafile': 'forkdata/forkTrajectoryData.npz', 'traj_len': 200, 'batch_size': 64, 'latent_dim': 3, 'num_epochs': 10000, 'dec_use_elu': 1, 'decoding_lr': 0.0001, 'encoding_lr': 0.0001, 'decoder_name': 'functional_decoder_complicated', 'decoding_eps': 0.0001, 'encoder_name': 'convolutional_encoder', 'encoding_eps': 0.0001, 'traj_channels': 7, 'model_save_dir': 'results/retrainedforkdata/20230928-072212.417223/savedmodel', 'step_each_batch': 1, 'dec_conv_use_elu': 1, 'dec_use_softplus': 0, 'emb_nonlinearity': 'ReLU', 'log_to_wandb_name': 'retrainedforkdata', 'scaltw_granularity': 50, 'scalar_timewarping_lr': 0.0001, 'learn_decoder_variance': 0, 'scalar_timewarper_name': 'modeled_scalar_timewarper', 'scalar_timewarping_eps': 1e-06, 'vector_timewarper_name': 'identity_vector_timewarper', 'curv_loss_epsilon_scale': 0.01, 'emb_conv_layers_strides': [1, 2, 2, 2], 'emb_dropout_probability': 0, 'curv_loss_penalty_weight': 0, 'decoding_l2_weight_decay': 0, 'emb_conv_layers_channels': [16, 32, 64, 32], 'pre_time_learning_epochs': 0, 'scalar_timewarper_timereg': 0.05, 'scaltw_max_canonical_time': 1, 'scaltw_min_canonical_time': 0, 'emb_fc_layers_num_features': [], 'emb_conv_layers_kernel_sizes': [3, 3, 3, 3], 'scalar_timewarper_endpointreg': 0, 'dec_initial_log_noise_estimate': -4.605170185988091, 'scaltw_emb_conv_layers_strides': [1, 2, 1, 2, 1, 2], 'scaltw_emb_conv_layers_channels': [16, 32, 32, 64, 64, 64], 'curv_loss_divide_by_zero_epsilon': 1e-07, 'dec_complicated_only_side_latent': 1, 'training_data_added_timing_noise': 0.1, 'curv_loss_num_new_sampling_points': 1000, 'dec_spatial_regularization_factor': 1, 'dec_template_motion_hidden_layers': [500, 500], 'scaltw_emb_fc_layers_num_features': [], 'scaltw_emb_conv_layers_kernel_sizes': [3, 3, 3, 3, 3, 3], 'dec_complicated_function_hidden_dims': [200], 'dec_complicated_function_latent_size': 64, 'dec_template_use_custom_initialization': 1, 'dec_template_custom_initialization_grad_t': 10, 'decoding_spatial_derivative_regularization': 0, 'dec_template_custom_initialization_t_intercept_padding': 0.1}, {'beta': 0.01, 'dtype': 'torch.float32', 'device': 'cuda', 'logname': 'results/retrainedforkdata/20230928-074433.511522/log', 'useAdam': 1, 'datafile': 'forkdata/forkTrajectoryData.npz', 'traj_len': 200, 'batch_size': 64, 'latent_dim': 3, 'num_epochs': 10000, 'dec_use_elu': 1, 'decoding_lr': 0.0001, 'encoding_lr': 0.0001, 'decoder_name': 'functional_decoder_complicated', 'decoding_eps': 0.0001, 'encoder_name': 'convolutional_encoder', 'encoding_eps': 0.0001, 'traj_channels': 7, 'model_save_dir': 'results/retrainedforkdata/20230928-074433.511522/savedmodel', 'step_each_batch': 1, 'dec_conv_use_elu': 1, 'dec_use_softplus': 0, 'emb_nonlinearity': 'ReLU', 'log_to_wandb_name': 'retrainedforkdata', 'scaltw_granularity': 50, 'scalar_timewarping_lr': 0.0001, 'learn_decoder_variance': 0, 'scalar_timewarper_name': 'modeled_scalar_timewarper', 'scalar_timewarping_eps': 1e-06, 'vector_timewarper_name': 'identity_vector_timewarper', 'curv_loss_epsilon_scale': 0.01, 'emb_conv_layers_strides': [1, 2, 2, 2], 'emb_dropout_probability': 0, 'curv_loss_penalty_weight': 0, 'decoding_l2_weight_decay': 0, 'emb_conv_layers_channels': [16, 32, 64, 32], 'pre_time_learning_epochs': 0, 'scalar_timewarper_timereg': 0.05, 'scaltw_max_canonical_time': 1, 'scaltw_min_canonical_time': 0, 'emb_fc_layers_num_features': [], 'emb_conv_layers_kernel_sizes': [3, 3, 3, 3], 'scalar_timewarper_endpointreg': 0, 'dec_initial_log_noise_estimate': -4.605170185988091, 'scaltw_emb_conv_layers_strides': [1, 2, 1, 2, 1, 2], 'scaltw_emb_conv_layers_channels': [16, 32, 32, 64, 64, 64], 'curv_loss_divide_by_zero_epsilon': 1e-07, 'dec_complicated_only_side_latent': 1, 'training_data_added_timing_noise': 0.1, 'curv_loss_num_new_sampling_points': 1000, 'dec_spatial_regularization_factor': 1, 'dec_template_motion_hidden_layers': [500, 500], 'scaltw_emb_fc_layers_num_features': [], 'scaltw_emb_conv_layers_kernel_sizes': [3, 3, 3, 3, 3, 3], 'dec_complicated_function_hidden_dims': [200], 'dec_complicated_function_latent_size': 64, 'dec_template_use_custom_initialization': 1, 'dec_template_custom_initialization_grad_t': 10, 'decoding_spatial_derivative_regularization': 0, 'dec_template_custom_initialization_t_intercept_padding': 0.1}, {'beta': 1, 'dtype': 'torch.float32', 'device': 'cuda', 'logname': 'results/retrainedforkdata/20230928-065206.641930/log', 'useAdam': 1, 'datafile': 'forkdata/forkTrajectoryData.npz', 'traj_len': 200, 'batch_size': 64, 'latent_dim': 3, 'num_epochs': 10000, 'dec_use_elu': 1, 'decoding_lr': 0.0001, 'encoding_lr': 0.0001, 'decoder_name': 'functional_decoder_complicated', 'decoding_eps': 0.0001, 'encoder_name': 'convolutional_encoder', 'encoding_eps': 0.0001, 'traj_channels': 7, 'model_save_dir': 'results/retrainedforkdata/20230928-065206.641930/savedmodel', 'step_each_batch': 1, 'dec_conv_use_elu': 1, 'dec_use_softplus': 0, 'emb_nonlinearity': 'ReLU', 'log_to_wandb_name': 'retrainedforkdata', 'scaltw_granularity': 50, 'scalar_timewarping_lr': 0.0001, 'learn_decoder_variance': 0, 'scalar_timewarper_name': 'modeled_scalar_timewarper', 'scalar_timewarping_eps': 1e-06, 'vector_timewarper_name': 'identity_vector_timewarper', 'curv_loss_epsilon_scale': 0.01, 'emb_conv_layers_strides': [1, 2, 2, 2], 'emb_dropout_probability': 0, 'curv_loss_penalty_weight': 0, 'decoding_l2_weight_decay': 0, 'emb_conv_layers_channels': [16, 32, 64, 32], 'pre_time_learning_epochs': 0, 'scalar_timewarper_timereg': 0.05, 'scaltw_max_canonical_time': 1, 'scaltw_min_canonical_time': 0, 'emb_fc_layers_num_features': [], 'emb_conv_layers_kernel_sizes': [3, 3, 3, 3], 'scalar_timewarper_endpointreg': 0, 'dec_initial_log_noise_estimate': -4.605170185988091, 'scaltw_emb_conv_layers_strides': [1, 2, 1, 2, 1, 2], 'scaltw_emb_conv_layers_channels': [16, 32, 32, 64, 64, 64], 'curv_loss_divide_by_zero_epsilon': 1e-07, 'dec_complicated_only_side_latent': 1, 'training_data_added_timing_noise': 0.1, 'curv_loss_num_new_sampling_points': 1000, 'dec_spatial_regularization_factor': 1, 'dec_template_motion_hidden_layers': [500, 500], 'scaltw_emb_fc_layers_num_features': [], 'scaltw_emb_conv_layers_kernel_sizes': [3, 3, 3, 3, 3, 3], 'dec_complicated_function_hidden_dims': [200], 'dec_complicated_function_latent_size': 64, 'dec_template_use_custom_initialization': 1, 'dec_template_custom_initialization_grad_t': 10, 'decoding_spatial_derivative_regularization': 0, 'dec_template_custom_initialization_t_intercept_padding': 0.1}, {'beta': 0.01, 'dtype': 'torch.float32', 'device': 'cuda', 'logname': 'results/retrainedforkdata/20230928-065850.694856/log', 'useAdam': 1, 'datafile': 'forkdata/forkTrajectoryData.npz', 'traj_len': 200, 'batch_size': 64, 'latent_dim': 3, 'num_epochs': 10000, 'dec_use_elu': 1, 'decoding_lr': 0.0001, 'encoding_lr': 0.0001, 'decoder_name': 'functional_decoder_complicated', 'decoding_eps': 0.0001, 'encoder_name': 'convolutional_encoder', 'encoding_eps': 0.0001, 'traj_channels': 7, 'model_save_dir': 'results/retrainedforkdata/20230928-065850.694856/savedmodel', 'step_each_batch': 1, 'dec_conv_use_elu': 1, 'dec_use_softplus': 0, 'emb_nonlinearity': 'ReLU', 'log_to_wandb_name': 'retrainedforkdata', 'scalar_timewarping_lr': 0, 'learn_decoder_variance': 0, 'scalar_timewarper_name': 'identity_scalar_timewarper', 'scalar_timewarping_eps': 1e-06, 'vector_timewarper_name': 'identity_vector_timewarper', 'curv_loss_epsilon_scale': 0.01, 'emb_conv_layers_strides': [1, 2, 2, 2], 'emb_dropout_probability': 0, 'curv_loss_penalty_weight': 0, 'decoding_l2_weight_decay': 0, 'emb_conv_layers_channels': [16, 32, 64, 32], 'pre_time_learning_epochs': 0, 'scalar_timewarper_timereg': 0, 'scaltw_max_canonical_time': 1, 'scaltw_min_canonical_time': 0, 'emb_fc_layers_num_features': [], 'emb_conv_layers_kernel_sizes': [3, 3, 3, 3], 'scalar_timewarper_endpointreg': 0, 'dec_initial_log_noise_estimate': -4.605170185988091, 'curv_loss_divide_by_zero_epsilon': 1e-07, 'dec_complicated_only_side_latent': 1, 'training_data_added_timing_noise': 0.1, 'curv_loss_num_new_sampling_points': 1000, 'dec_spatial_regularization_factor': 1, 'dec_template_motion_hidden_layers': [500, 500], 'dec_complicated_function_hidden_dims': [200], 'dec_complicated_function_latent_size': 64, 'dec_template_use_custom_initialization': 1, 'dec_template_custom_initialization_grad_t': 10, 'decoding_spatial_derivative_regularization': 0, 'dec_template_custom_initialization_t_intercept_padding': 0.1}, {'beta': 1, 'dtype': 'torch.float32', 'device': 'cuda', 'logname': 'results/retrainedforkdata/20230928-060652.404760/log', 'useAdam': 1, 'datafile': 'forkdata/forkTrajectoryData.npz', 'traj_len': 200, 'batch_size': 64, 'latent_dim': 3, 'num_epochs': 10000, 'dec_use_elu': 1, 'decoding_lr': 0.0001, 'encoding_lr': 0.0001, 'decoder_name': 'functional_decoder_complicated', 'decoding_eps': 0.0001, 'encoder_name': 'convolutional_encoder', 'encoding_eps': 0.0001, 'traj_channels': 7, 'model_save_dir': 'results/retrainedforkdata/20230928-060652.404760/savedmodel', 'step_each_batch': 1, 'dec_conv_use_elu': 1, 'dec_use_softplus': 0, 'emb_nonlinearity': 'ReLU', 'log_to_wandb_name': 'retrainedforkdata', 'scalar_timewarping_lr': 0, 'learn_decoder_variance': 0, 'scalar_timewarper_name': 'identity_scalar_timewarper', 'scalar_timewarping_eps': 1e-06, 'vector_timewarper_name': 'identity_vector_timewarper', 'curv_loss_epsilon_scale': 0.01, 'emb_conv_layers_strides': [1, 2, 2, 2], 'emb_dropout_probability': 0, 'curv_loss_penalty_weight': 0, 'decoding_l2_weight_decay': 0, 'emb_conv_layers_channels': [16, 32, 64, 32], 'pre_time_learning_epochs': 0, 'scalar_timewarper_timereg': 0, 'scaltw_max_canonical_time': 1, 'scaltw_min_canonical_time': 0, 'emb_fc_layers_num_features': [], 'emb_conv_layers_kernel_sizes': [3, 3, 3, 3], 'scalar_timewarper_endpointreg': 0, 'dec_initial_log_noise_estimate': -4.605170185988091, 'curv_loss_divide_by_zero_epsilon': 1e-07, 'dec_complicated_only_side_latent': 1, 'training_data_added_timing_noise': 0.1, 'curv_loss_num_new_sampling_points': 1000, 'dec_spatial_regularization_factor': 1, 'dec_template_motion_hidden_layers': [500, 500], 'dec_complicated_function_hidden_dims': [200], 'dec_complicated_function_latent_size': 64, 'dec_template_use_custom_initialization': 1, 'dec_template_custom_initialization_grad_t': 10, 'decoding_spatial_derivative_regularization': 0, 'dec_template_custom_initialization_t_intercept_padding': 0.1}, {'beta': 0.1, 'dtype': 'torch.float32', 'device': 'cuda', 'logname': 'results/retrainedforkdata/20230928-063302.541375/log', 'useAdam': 1, 'datafile': 'forkdata/forkTrajectoryData.npz', 'traj_len': 200, 'batch_size': 64, 'latent_dim': 3, 'num_epochs': 10000, 'dec_use_elu': 1, 'decoding_lr': 0.0001, 'encoding_lr': 0.0001, 'decoder_name': 'functional_decoder_complicated', 'decoding_eps': 0.0001, 'encoder_name': 'convolutional_encoder', 'encoding_eps': 0.0001, 'traj_channels': 7, 'model_save_dir': 'results/retrainedforkdata/20230928-063302.541375/savedmodel', 'step_each_batch': 1, 'dec_conv_use_elu': 1, 'dec_use_softplus': 0, 'emb_nonlinearity': 'ReLU', 'log_to_wandb_name': 'retrainedforkdata', 'scalar_timewarping_lr': 0, 'learn_decoder_variance': 0, 'scalar_timewarper_name': 'identity_scalar_timewarper', 'scalar_timewarping_eps': 1e-06, 'vector_timewarper_name': 'identity_vector_timewarper', 'curv_loss_epsilon_scale': 0.01, 'emb_conv_layers_strides': [1, 2, 2, 2], 'emb_dropout_probability': 0, 'curv_loss_penalty_weight': 0, 'decoding_l2_weight_decay': 0, 'emb_conv_layers_channels': [16, 32, 64, 32], 'pre_time_learning_epochs': 0, 'scalar_timewarper_timereg': 0, 'scaltw_max_canonical_time': 1, 'scaltw_min_canonical_time': 0, 'emb_fc_layers_num_features': [], 'emb_conv_layers_kernel_sizes': [3, 3, 3, 3], 'scalar_timewarper_endpointreg': 0, 'dec_initial_log_noise_estimate': -4.605170185988091, 'curv_loss_divide_by_zero_epsilon': 1e-07, 'dec_complicated_only_side_latent': 1, 'training_data_added_timing_noise': 0.1, 'curv_loss_num_new_sampling_points': 1000, 'dec_spatial_regularization_factor': 1, 'dec_template_motion_hidden_layers': [500, 500], 'dec_complicated_function_hidden_dims': [200], 'dec_complicated_function_latent_size': 64, 'dec_template_use_custom_initialization': 1, 'dec_template_custom_initialization_grad_t': 10, 'decoding_spatial_derivative_regularization': 0, 'dec_template_custom_initialization_t_intercept_padding': 0.1}, {'beta': 0.01, 'dtype': 'torch.float32', 'device': 'cuda', 'logname': 'results/retrainedforkdata/20230928-072924.055377/log', 'useAdam': 1, 'datafile': 'forkdata/forkTrajectoryData.npz', 'traj_len': 200, 'batch_size': 64, 'latent_dim': 3, 'num_epochs': 10000, 'dec_use_elu': 1, 'decoding_lr': 0.0001, 'encoding_lr': 0.0001, 'decoder_name': 'convolutional_decoder_upsampling', 'decoding_eps': 0.0001, 'encoder_name': 'convolutional_encoder', 'encoding_eps': 0.0001, 'traj_channels': 7, 'model_save_dir': 'results/retrainedforkdata/20230928-072924.055377/savedmodel', 'step_each_batch': 1, 'dec_conv_use_elu': 1, 'dec_use_softplus': 0, 'emb_nonlinearity': 'ReLU', 'log_to_wandb_name': 'retrainedforkdata', 'scalar_timewarping_lr': 0, 'dec_gen_first_traj_len': 25, 'learn_decoder_variance': 0, 'scalar_timewarper_name': 'identity_scalar_timewarper', 'scalar_timewarping_eps': 1e-06, 'vector_timewarper_name': 'identity_vector_timewarper', 'curv_loss_epsilon_scale': 0.01, 'emb_conv_layers_strides': [1, 2, 2, 2], 'emb_dropout_probability': 0, 'curv_loss_penalty_weight': 0, 'decoding_l2_weight_decay': 0, 'emb_conv_layers_channels': [16, 32, 64, 32], 'pre_time_learning_epochs': 0, 'scalar_timewarper_timereg': 0, 'scaltw_max_canonical_time': 1, 'scaltw_min_canonical_time': 0, 'dec_gen_upsampling_factors': [2, 2, 2], 'emb_fc_layers_num_features': [], 'dec_gen_conv_layers_channels': [20, 20, 7], 'emb_conv_layers_kernel_sizes': [3, 3, 3, 3], 'scalar_timewarper_endpointreg': 0, 'dec_gen_fc_layers_num_features': [800], 'dec_initial_log_noise_estimate': -4.605170185988091, 'curv_loss_divide_by_zero_epsilon': 1e-07, 'dec_complicated_only_side_latent': 1, 'dec_gen_conv_layers_kernel_sizes': [3, 3, 3], 'training_data_added_timing_noise': 0.1, 'curv_loss_num_new_sampling_points': 1000, 'dec_spatial_regularization_factor': 1, 'dec_template_use_custom_initialization': 0, 'dec_template_custom_initialization_grad_t': 0, 'decoding_spatial_derivative_regularization': 0, 'dec_template_custom_initialization_t_intercept_padding': 0.1}, {'beta': 1, 'dtype': 'torch.float32', 'device': 'cuda', 'logname': 'results/retrainedforkdata/20230928-063605.455896/log', 'useAdam': 1, 'datafile': 'forkdata/forkTrajectoryData.npz', 'traj_len': 200, 'batch_size': 64, 'latent_dim': 3, 'num_epochs': 10000, 'dec_use_elu': 1, 'decoding_lr': 0.0001, 'encoding_lr': 0.0001, 'decoder_name': 'convolutional_decoder_upsampling', 'decoding_eps': 0.0001, 'encoder_name': 'convolutional_encoder', 'encoding_eps': 0.0001, 'traj_channels': 7, 'model_save_dir': 'results/retrainedforkdata/20230928-063605.455896/savedmodel', 'step_each_batch': 1, 'dec_conv_use_elu': 1, 'dec_use_softplus': 0, 'emb_nonlinearity': 'ReLU', 'log_to_wandb_name': 'retrainedforkdata', 'scalar_timewarping_lr': 0, 'dec_gen_first_traj_len': 25, 'learn_decoder_variance': 0, 'scalar_timewarper_name': 'identity_scalar_timewarper', 'scalar_timewarping_eps': 1e-06, 'vector_timewarper_name': 'identity_vector_timewarper', 'curv_loss_epsilon_scale': 0.01, 'emb_conv_layers_strides': [1, 2, 2, 2], 'emb_dropout_probability': 0, 'curv_loss_penalty_weight': 0, 'decoding_l2_weight_decay': 0, 'emb_conv_layers_channels': [16, 32, 64, 32], 'pre_time_learning_epochs': 0, 'scalar_timewarper_timereg': 0, 'scaltw_max_canonical_time': 1, 'scaltw_min_canonical_time': 0, 'dec_gen_upsampling_factors': [2, 2, 2], 'emb_fc_layers_num_features': [], 'dec_gen_conv_layers_channels': [20, 20, 7], 'emb_conv_layers_kernel_sizes': [3, 3, 3, 3], 'scalar_timewarper_endpointreg': 0, 'dec_gen_fc_layers_num_features': [800], 'dec_initial_log_noise_estimate': -4.605170185988091, 'curv_loss_divide_by_zero_epsilon': 1e-07, 'dec_complicated_only_side_latent': 1, 'dec_gen_conv_layers_kernel_sizes': [3, 3, 3], 'training_data_added_timing_noise': 0.1, 'curv_loss_num_new_sampling_points': 1000, 'dec_spatial_regularization_factor': 1, 'dec_template_use_custom_initialization': 0, 'dec_template_custom_initialization_grad_t': 0, 'decoding_spatial_derivative_regularization': 0, 'dec_template_custom_initialization_t_intercept_padding': 0.1}, {'beta': 0.1, 'dtype': 'torch.float32', 'device': 'cuda', 'logname': 'results/retrainedforkdata/20230928-070327.894474/log', 'useAdam': 1, 'datafile': 'forkdata/forkTrajectoryData.npz', 'traj_len': 200, 'batch_size': 64, 'latent_dim': 3, 'num_epochs': 10000, 'dec_use_elu': 1, 'decoding_lr': 0.0001, 'encoding_lr': 0.0001, 'decoder_name': 'convolutional_decoder_upsampling', 'decoding_eps': 0.0001, 'encoder_name': 'convolutional_encoder', 'encoding_eps': 0.0001, 'traj_channels': 7, 'model_save_dir': 'results/retrainedforkdata/20230928-070327.894474/savedmodel', 'step_each_batch': 1, 'dec_conv_use_elu': 1, 'dec_use_softplus': 0, 'emb_nonlinearity': 'ReLU', 'log_to_wandb_name': 'retrainedforkdata', 'scalar_timewarping_lr': 0, 'dec_gen_first_traj_len': 25, 'learn_decoder_variance': 0, 'scalar_timewarper_name': 'identity_scalar_timewarper', 'scalar_timewarping_eps': 1e-06, 'vector_timewarper_name': 'identity_vector_timewarper', 'curv_loss_epsilon_scale': 0.01, 'emb_conv_layers_strides': [1, 2, 2, 2], 'emb_dropout_probability': 0, 'curv_loss_penalty_weight': 0, 'decoding_l2_weight_decay': 0, 'emb_conv_layers_channels': [16, 32, 64, 32], 'pre_time_learning_epochs': 0, 'scalar_timewarper_timereg': 0, 'scaltw_max_canonical_time': 1, 'scaltw_min_canonical_time': 0, 'dec_gen_upsampling_factors': [2, 2, 2], 'emb_fc_layers_num_features': [], 'dec_gen_conv_layers_channels': [20, 20, 7], 'emb_conv_layers_kernel_sizes': [3, 3, 3, 3], 'scalar_timewarper_endpointreg': 0, 'dec_gen_fc_layers_num_features': [800], 'dec_initial_log_noise_estimate': -4.605170185988091, 'curv_loss_divide_by_zero_epsilon': 1e-07, 'dec_complicated_only_side_latent': 1, 'dec_gen_conv_layers_kernel_sizes': [3, 3, 3], 'training_data_added_timing_noise': 0.1, 'curv_loss_num_new_sampling_points': 1000, 'dec_spatial_regularization_factor': 1, 'dec_template_use_custom_initialization': 0, 'dec_template_custom_initialization_grad_t': 0, 'decoding_spatial_derivative_regularization': 0, 'dec_template_custom_initialization_t_intercept_padding': 0.1}, {'beta': 0.1, 'dtype': 'torch.float32', 'ria_T': 199, 'device': 'cuda', 'logname': '../results/forkrateinvariantvae/20231116-205919.182064/log', 'useAdam': 1, 'datafile': '../forkdata/forkTrajectoryData.npz', 'traj_len': 200, 'batch_size': 64, 'latent_dim': 3, 'num_epochs': 10000, 'dec_use_elu': 0, 'decoding_lr': 0.0001, 'encoding_lr': 0.0001, 'dec_use_tanh': 1, 'decoder_name': 'rate_invariant_conv', 'decoding_eps': 0.0001, 'encoder_name': 'convolutional_encoder', 'encoding_eps': 0.0001, 'traj_channels': 7, 'model_save_dir': '../results/forkrateinvariantvae/20231116-205919.182064/savedmodel', 'step_each_batch': 1, 'dec_use_softplus': 0, 'emb_nonlinearity': 'Tanh', 'force_autoencoder': 0, 'log_to_wandb_name': 'forkrateinvariantvae', 'dec_conv1d_padding': 'same', 'emb_conv1d_padding': 'same', 'scalar_timewarping_lr': 0, 'dec_gen_first_traj_len': 200, 'learn_decoder_variance': 0, 'scalar_timewarper_name': 'identity_scalar_timewarper', 'scalar_timewarping_eps': 1e-06, 'use_rate_invariant_vae': 1, 'vector_timewarper_name': 'identity_vector_timewarper', 'emb_activate_last_layer': 0, 'emb_conv_layers_strides': [1, 1, 1], 'curv_loss_penalty_weight': 0, 'decoding_l2_weight_decay': 0, 'emb_conv_layers_channels': [32, 32, 32], 'pre_time_learning_epochs': 0, 'scalar_timewarper_timereg': 0, 'scaltw_max_canonical_time': 1, 'scaltw_min_canonical_time': 0, 'dec_gen_upsampling_factors': [1, 1, 1], 'emb_fc_layers_num_features': [], 'dec_gen_conv_layers_channels': [32, 32, 7], 'emb_conv_layers_kernel_sizes': [16, 16, 16], 'scalar_timewarper_endpointreg': 0, 'dec_gen_fc_layers_num_features': [6400], 'dec_initial_log_noise_estimate': -4.605170185988091, 'use_rate_invariant_autoencoder': 0, 'dec_gen_conv_layers_kernel_sizes': [16, 16, 16], 'training_data_added_timing_noise': 0.1, 'dec_spatial_regularization_factor': 1, 'decoding_spatial_derivative_regularization': 0}, {'beta': 0.01, 'dtype': 'torch.float32', 'ria_T': 199, 'device': 'cuda', 'logname': '../results/forkrateinvariantvae/20231116-211358.159254/log', 'useAdam': 1, 'datafile': '../forkdata/forkTrajectoryData.npz', 'traj_len': 200, 'batch_size': 64, 'latent_dim': 3, 'num_epochs': 10000, 'dec_use_elu': 0, 'decoding_lr': 0.0001, 'encoding_lr': 0.0001, 'dec_use_tanh': 1, 'decoder_name': 'rate_invariant_conv', 'decoding_eps': 0.0001, 'encoder_name': 'convolutional_encoder', 'encoding_eps': 0.0001, 'traj_channels': 7, 'model_save_dir': '../results/forkrateinvariantvae/20231116-211358.159254/savedmodel', 'step_each_batch': 1, 'dec_use_softplus': 0, 'emb_nonlinearity': 'Tanh', 'force_autoencoder': 0, 'log_to_wandb_name': 'forkrateinvariantvae', 'dec_conv1d_padding': 'same', 'emb_conv1d_padding': 'same', 'scalar_timewarping_lr': 0, 'dec_gen_first_traj_len': 200, 'learn_decoder_variance': 0, 'scalar_timewarper_name': 'identity_scalar_timewarper', 'scalar_timewarping_eps': 1e-06, 'use_rate_invariant_vae': 1, 'vector_timewarper_name': 'identity_vector_timewarper', 'emb_activate_last_layer': 0, 'emb_conv_layers_strides': [1, 1, 1], 'curv_loss_penalty_weight': 0, 'decoding_l2_weight_decay': 0, 'emb_conv_layers_channels': [32, 32, 32], 'pre_time_learning_epochs': 0, 'scalar_timewarper_timereg': 0, 'scaltw_max_canonical_time': 1, 'scaltw_min_canonical_time': 0, 'dec_gen_upsampling_factors': [1, 1, 1], 'emb_fc_layers_num_features': [], 'dec_gen_conv_layers_channels': [32, 32, 7], 'emb_conv_layers_kernel_sizes': [16, 16, 16], 'scalar_timewarper_endpointreg': 0, 'dec_gen_fc_layers_num_features': [6400], 'dec_initial_log_noise_estimate': -4.605170185988091, 'use_rate_invariant_autoencoder': 0, 'dec_gen_conv_layers_kernel_sizes': [16, 16, 16], 'training_data_added_timing_noise': 0.1, 'dec_spatial_regularization_factor': 1, 'decoding_spatial_derivative_regularization': 0}]\n"
     ]
    }
   ],
   "source": [
    "print([all_run_dicts[i] for i in toplots])"
   ]
  },
  {
   "cell_type": "code",
   "execution_count": 31,
   "id": "05edbcd5",
   "metadata": {},
   "outputs": [],
   "source": [
    "names = [\"TimewarpVAE\" if all_run_dicts[i][\"scalar_timewarper_name\"] == \"modeled_scalar_timewarper\" else \n",
    "         \"beta-VAE\" if all_run_dicts[i][\"decoder_name\"] == \"convolutional_decoder_upsampling\" else \n",
    "         \"RateInvariantAE\" if all_run_dicts[i][\"decoder_name\"] == \"rate_invariant_conv\" else\n",
    "         \"NoTimewarp\" for i in toplots]\n",
    "betas = np.array([all_run_dicts[i][\"beta\"] for i in toplots])"
   ]
  },
  {
   "cell_type": "code",
   "execution_count": 32,
   "id": "c0c442f3",
   "metadata": {},
   "outputs": [
    {
     "data": {
      "text/plain": [
       "array([0.1 , 0.01, 1.  , 0.01, 1.  , 0.1 , 0.01, 1.  , 0.1 , 0.1 , 0.01])"
      ]
     },
     "execution_count": 32,
     "metadata": {},
     "output_type": "execute_result"
    }
   ],
   "source": [
    "betas"
   ]
  },
  {
   "cell_type": "code",
   "execution_count": 33,
   "id": "cde799e6",
   "metadata": {},
   "outputs": [
    {
     "name": "stdout",
     "output_type": "stream",
     "text": [
      "TimewarpVAE & 0.01 & 3.716 & 0.187 $\\pm$ 0.003 & \\textbf{0.233 $\\pm$ 0.003} \\\\\n",
      " & 0.1 & 3.227 & \\textbf{0.185 $\\pm$ 0.007} & 0.234 $\\pm$ 0.008 \\\\\n",
      "RateInvariantAE & 0.01 & 4.095 & 0.260 $\\pm$ 0.130 & 0.316 $\\pm$ 0.188\\\\\n",
      " & 0.1 & 3.280 & 0.285 $\\pm$ 0.154 & 0.325 $\\pm$ 0.132\\\\\n",
      "beta-VAE & 0.01 & 4.759 & 0.291 $\\pm$ 0.005 & 0.343 $\\pm$ 0.016\\\\\n",
      " & 0.1 & 3.670 & 0.293 $\\pm$ 0.007 & 0.342 $\\pm$ 0.011\\\\\n",
      "NoTimewarp & 0.01 & 3.924 & 0.264 $\\pm$ 0.007 & 0.360 $\\pm$ 0.017\\\\\n",
      " & 0.1 & 3.508 & 0.265 $\\pm$ 0.006 & 0.354 $\\pm$ 0.014\\\\\n",
      "\n"
     ]
    }
   ],
   "source": [
    "outstring = \"\"\n",
    "prevname = None\n",
    "almost_sorted = np.flip(np.lexsort((-betas,names)))\n",
    "sorted_indices = [almost_sorted[j] for j in [3,4,6,7,0,1,8,9]]\n",
    "for i in sorted_indices:\n",
    "    if betas[i] == 0.0001:\n",
    "        continue\n",
    "    (n,b,r,trai,test) = (names[i], betas[i], rates[i], trains[i],tests[i])\n",
    "    if prevname is not None and n == prevname:\n",
    "        thisname = \"\"\n",
    "    else:\n",
    "        thisname = n\n",
    "    openbrace=\"{\"\n",
    "    closebrace=\"}\"\n",
    "    if n == \"TimewarpVAE\" and b == 0.1:\n",
    "        outstring += (f\"{thisname} & {b} & {r[1].item():.3f} & \"\n",
    "                    +f\"\\\\textbf{openbrace}{trai[1].item():.3f} $\\\\pm$ {3*trai[2].item():.3f}{closebrace} & \"\n",
    "                    +f\"{test[1].item():.3f} $\\\\pm$ {3*test[2].item():.3f} \\\\\\\\\\n\")\n",
    "    elif n == \"TimewarpVAE\" and b == 0.01:\n",
    "        outstring += (f\"{thisname} & {b} & {r[1].item():.3f} & \"\n",
    "                    +f\"{trai[1].item():.3f} $\\\\pm$ {3*trai[2].item():.3f} & \"\n",
    "                    +f\"\\\\textbf{openbrace}{test[1].item():.3f} $\\\\pm$ {3*test[2].item():.3f}{closebrace} \\\\\\\\\\n\")\n",
    "    else:\n",
    "        outstring += (f\"{thisname} & {b} & {r[1].item():.3f} & \"\n",
    "                    +f\"{trai[1].item():.3f} $\\\\pm$ {3*trai[2].item():.3f} & \"\n",
    "                    +f\"{test[1].item():.3f} $\\\\pm$ {3*test[2].item():.3f}\\\\\\\\\\n\")\n",
    "    prevname = n\n",
    "print(outstring)"
   ]
  },
  {
   "cell_type": "code",
   "execution_count": 34,
   "id": "274013d7",
   "metadata": {},
   "outputs": [],
   "source": [
    "with open(\"forkResultsTable.tex\", \"w\") as text_file:\n",
    "    text_file.write(outstring[:-2]) # the last line needs its return to be hardcoded into the main tex file"
   ]
  },
  {
   "cell_type": "code",
   "execution_count": null,
   "id": "49734488",
   "metadata": {},
   "outputs": [],
   "source": []
  }
 ],
 "metadata": {
  "kernelspec": {
   "display_name": "Python 3 (ipykernel)",
   "language": "python",
   "name": "python3"
  },
  "language_info": {
   "codemirror_mode": {
    "name": "ipython",
    "version": 3
   },
   "file_extension": ".py",
   "mimetype": "text/x-python",
   "name": "python",
   "nbconvert_exporter": "python",
   "pygments_lexer": "ipython3",
   "version": "3.8.16"
  }
 },
 "nbformat": 4,
 "nbformat_minor": 5
}
