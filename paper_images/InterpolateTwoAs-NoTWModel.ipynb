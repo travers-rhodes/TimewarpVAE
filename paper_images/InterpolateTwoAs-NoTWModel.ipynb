{
 "cells": [
  {
   "cell_type": "code",
   "execution_count": null,
   "id": "1a4e690a",
   "metadata": {
    "ExecuteTime": {
     "end_time": "2023-09-27T14:36:13.619243Z",
     "start_time": "2023-09-27T14:36:06.987341Z"
    }
   },
   "outputs": [],
   "source": [
    "import numpy as np\n",
    "import matplotlib.pyplot as plt\n",
    "import timewarp_lib.load_model as lm\n",
    "import timewarp_lib.train_utils as tu\n",
    "import torch\n",
    "import pandas as pd\n",
    "import json\n",
    "import numpy as np\n",
    "import matplotlib"
   ]
  },
  {
   "cell_type": "code",
   "execution_count": null,
   "id": "239425e8",
   "metadata": {
    "ExecuteTime": {
     "end_time": "2023-09-27T14:36:13.624218Z",
     "start_time": "2023-09-27T14:36:13.621445Z"
    }
   },
   "outputs": [],
   "source": [
    "cmap = plt.get_cmap(\"viridis\")"
   ]
  },
  {
   "cell_type": "code",
   "execution_count": null,
   "id": "27e3ec9d",
   "metadata": {
    "ExecuteTime": {
     "end_time": "2023-09-27T14:36:13.630664Z",
     "start_time": "2023-09-27T14:36:13.628445Z"
    }
   },
   "outputs": [],
   "source": [
    "\n",
    "####clean_model_dirs = [\"../results/overnight/20230921-093159.705744/savedmodel\"] # TenDTWModel\n",
    "\n"
   ]
  },
  {
   "cell_type": "code",
   "execution_count": null,
   "id": "47549d4d",
   "metadata": {
    "ExecuteTime": {
     "end_time": "2023-09-27T14:36:13.637330Z",
     "start_time": "2023-09-27T14:36:13.635016Z"
    }
   },
   "outputs": [],
   "source": [
    "import matplotlib\n",
    "font = {        'size'   : 22}\n",
    "\n",
    "matplotlib.rc('font', **font)"
   ]
  },
  {
   "cell_type": "code",
   "execution_count": null,
   "id": "b99061dd",
   "metadata": {
    "ExecuteTime": {
     "end_time": "2023-09-27T14:36:13.666030Z",
     "start_time": "2023-09-27T14:36:13.638892Z"
    }
   },
   "outputs": [],
   "source": [
    "datatype = \"train\"\n",
    "dtype=torch.float\n",
    "device=\"cpu\"\n",
    "batch_size=100\n",
    "training_data_timing_noise=0\n",
    "\n",
    "dataName = \"../data/trainTest2DLetterAScaled.npz\"\n",
    "# the datafile has information on how the data was cleaned\n",
    "# the learned/applied model is on clean data\n",
    "# so we need to convert back to trajectory data\n",
    "loaded_data_dict = np.load(dataName)\n",
    "\n",
    "ydata = torch.tensor(loaded_data_dict[datatype],dtype=dtype).to(device)\n",
    "np_ydata = ydata.detach().cpu().numpy()\n",
    "num_trajs, numts, traj_channels = ydata.shape\n",
    "tdata = torch.tensor(np.linspace(0,1,numts),dtype=dtype).to(device).expand(num_trajs,numts).unsqueeze(2)\n",
    "\n",
    "torch_train_data = torch.utils.data.TensorDataset(tdata, ydata)\n",
    "training_dataloader = torch.utils.data.DataLoader(torch_train_data, batch_size=batch_size, shuffle=True)"
   ]
  },
  {
   "cell_type": "code",
   "execution_count": null,
   "id": "36f038a9",
   "metadata": {
    "ExecuteTime": {
     "end_time": "2023-09-27T14:36:13.670683Z",
     "start_time": "2023-09-27T14:36:13.667505Z"
    }
   },
   "outputs": [],
   "source": [
    "ixs=(10,15)"
   ]
  },
  {
   "cell_type": "code",
   "execution_count": null,
   "id": "7c5b69aa",
   "metadata": {
    "ExecuteTime": {
     "end_time": "2023-09-27T14:36:13.679144Z",
     "start_time": "2023-09-27T14:36:13.672065Z"
    },
    "scrolled": false
   },
   "outputs": [],
   "source": [
    "def get_interps(saved_model_dir):\n",
    "    pose_mean = loaded_data_dict[\"pose_mean\"]\n",
    "    pose_scaling = loaded_data_dict[\"pose_scaling\"]\n",
    "\n",
    "    modelApplier = lm.LoadedModel(saved_model_dir)\n",
    "    modeldatafileobj = np.load(f\"{saved_model_dir}/saved_model_info.npz\",allow_pickle=True)\n",
    "    modeldata = {key : (modeldatafileobj[key] if key != \"initialization_function\" else True) for key in modeldatafileobj.keys()}\n",
    "    num_timesteps = 200\n",
    "    num_channels = 2\n",
    "    latent_dim = (int)(modeldata[\"latent_dim\"])\n",
    "\n",
    "    hi=modelApplier.model\n",
    "\n",
    "    embeds,_ = hi.encoder.encode(ydata[ixs,],tdata[ixs,])\n",
    "    embeds = embeds.detach().cpu().numpy()\n",
    "\n",
    "    scaled_ts = hi.scalar_timewarper.timewarp(ydata[ixs,],tdata[ixs,]).detach().cpu().numpy()\n",
    "\n",
    "    lambd = np.linspace(0,1,3)\n",
    "    interpembeds = torch.tensor(np.array([embeds[0] * (1-l) + embeds[1] * (l) for l in lambd]))\n",
    "    canonical_ts = torch.tensor(np.array([np.array(tdata[0,] * (1-l) + tdata[1,] * (l)) for l in lambd]))\n",
    "    canonicaltime_trajs = hi.decoder.decode(interpembeds, canonical_ts).detach().numpy()\n",
    "\n",
    "    lambd2 = np.linspace(0,1,11)\n",
    "    full_interpembeds = torch.tensor(np.array([embeds[0] * (1-l) + embeds[1] * (l) for l in lambd2]))\n",
    "    full_canonical_ts = torch.tensor(np.array([np.array(tdata[0,] * (1-l) + tdata[1,] * (l)) for l in lambd2]))\n",
    "    full_canonicaltime_trajs = hi.decoder.decode(full_interpembeds, full_canonical_ts).detach().numpy()\n",
    "\n",
    "    return canonical_ts,canonicaltime_trajs,full_canonical_ts,full_canonicaltime_trajs"
   ]
  },
  {
   "cell_type": "code",
   "execution_count": null,
   "id": "5792c26a",
   "metadata": {},
   "outputs": [],
   "source": [
    "import matplotlib.lines as mlines \n",
    "#https://stackoverflow.com/questions/47391702/how-to-make-a-colored-markers-legend-from-scratch"
   ]
  },
  {
   "cell_type": "code",
   "execution_count": null,
   "id": "a3e2c199",
   "metadata": {
    "ExecuteTime": {
     "end_time": "2023-09-27T14:36:13.691675Z",
     "start_time": "2023-09-27T14:36:13.681605Z"
    }
   },
   "outputs": [],
   "source": [
    "def make_plot(trajs,specified_ts,full_interp,name,ts):\n",
    "    plot_order = [2,0,1]\n",
    "    linestyles = [\"dotted\", \"dashed\",\"dashdot\"]\n",
    "    \n",
    "    f = plt.figure(figsize=(8,16))\n",
    "    smallht = 0.37/2\n",
    "    ax1 = f.add_axes([0.1, 0.6, 0.8, 0.4])  # add the left Axes\n",
    "    ax2 = f.add_axes([0.1, 0.1, 0.8, smallht])  # add the bottomright Axes\n",
    "    ax3 = f.add_axes([0.1, 0.5-smallht, 0.8, smallht])  # add the topright Axes\n",
    "    alpha = 0.5\n",
    "    threeixs = (0,1,-1)\n",
    "    legend_lines = []\n",
    "    shapes =[\"+\",None,\"x\"]\n",
    "    for i,traj in zip(plot_order,trajs[plot_order]):\n",
    "        ax1.plot(traj[:,0],traj[:,1],c=cmap(i/3),\n",
    "                 linewidth=2 if i != 1 else 8,\n",
    "                 alpha=alpha if i != 1 else 0.9, zorder=1,marker=shapes[i],markeredgecolor=cmap(i/3))\n",
    "        legend_lines.append(\n",
    "            mlines.Line2D([], [], color=cmap(i/3), marker=shapes[i], label=f\"---------\",\n",
    "                          markersize=10,markeredgecolor= cmap(i/3),markeredgewidth=1))\n",
    "    \n",
    "    ax1.legend(handles=legend_lines,labelcolor=\"white\", frameon=False)\n",
    "    for i,t in enumerate(specified_ts):\n",
    "        t = (int)(t)\n",
    "        ax1.plot(full_interp[:,t,0],full_interp[:,t,1],c=\"k\",linestyle=linestyles[i])\n",
    "        ax1.scatter(trajs[:,t,0],trajs[:,t,1],c=cmap((0,1/3,2/3)),\n",
    "                    alpha=1,edgecolors= \"k\",linewidth=1, zorder=2)\n",
    "    ax1.set_xlim(-3.5,4)\n",
    "    ax1.set_ylim(-3,4.5)\n",
    "\n",
    "    for pltax, axis, axisname in ((ax2,0,\"X\"),(ax3, 1,\"Y\")):\n",
    "        for i,traj in zip(plot_order,trajs[plot_order]):\n",
    "            pltax.plot(ts,traj[:,axis],c=cmap(i/3),\n",
    "                     linewidth=2 if i != 1 else 5,\n",
    "                     alpha=alpha if i != 1 else 0.9, zorder=1)\n",
    "        for i,t in enumerate(specified_ts):\n",
    "            pltax.plot(ts[t].repeat(3),trajs[:,t,axis],c=\"k\",linestyle=linestyles[i])\n",
    "            pltax.scatter(ts[t].repeat(3),trajs[:,t,axis],c=cmap((0,1/3,2/3)),\n",
    "                        alpha=1,edgecolors= \"k\",linewidth=1, zorder=2)\n",
    "        if axis==1:\n",
    "            pltax.set_xticklabels([])\n",
    "            pltax.set_ylim(-3,4.5)\n",
    "        else:\n",
    "            pltax.set_ylim(-3.5,4)\n",
    "    plt.savefig(f\"{name}InterpolationA.pdf\",bbox_inches=matplotlib.transforms.Bbox([[0,0], [8,16]]))\n",
    "    plt.show()"
   ]
  },
  {
   "cell_type": "code",
   "execution_count": null,
   "id": "c2fb7dd9",
   "metadata": {
    "ExecuteTime": {
     "end_time": "2023-09-27T14:36:13.696269Z",
     "start_time": "2023-09-27T14:36:13.693170Z"
    }
   },
   "outputs": [],
   "source": [
    "def make_plot_from_name(modelname,name,special_ts = [119,130,140]):\n",
    "    canonical_ts,canonicaltime_trajs,full_canonical_ts,full_canonicaltime_trajs = get_interps(modelname)\n",
    "    make_plot(canonicaltime_trajs,special_ts,full_canonicaltime_trajs,name,np.linspace(0,1,len(canonicaltime_trajs[0])))\n"
   ]
  },
  {
   "cell_type": "code",
   "execution_count": null,
   "id": "02b32423",
   "metadata": {
    "ExecuteTime": {
     "end_time": "2023-09-27T14:38:43.626179Z",
     "start_time": "2023-09-27T14:38:42.334527Z"
    },
    "scrolled": false
   },
   "outputs": [],
   "source": [
    "make_plot_from_name(\"../results/overnight/20230922-085211.515931/savedmodel\",\"noTW\")\n",
    "make_plot_from_name(\"../results/overnight/20230921-102107.639151/savedmodel\",\"conv\")\n",
    "make_plot_from_name(\"../results/overnight/20230926-185326.134624/savedmodel\",\"TimewarpVAEDTW\",[129,130,134])"
   ]
  },
  {
   "cell_type": "code",
   "execution_count": null,
   "id": "910ff0d2",
   "metadata": {},
   "outputs": [],
   "source": []
  },
  {
   "cell_type": "code",
   "execution_count": null,
   "id": "91e97df8",
   "metadata": {},
   "outputs": [],
   "source": []
  }
 ],
 "metadata": {
  "kernelspec": {
   "display_name": "Python 3 (ipykernel)",
   "language": "python",
   "name": "python3"
  },
  "language_info": {
   "codemirror_mode": {
    "name": "ipython",
    "version": 3
   },
   "file_extension": ".py",
   "mimetype": "text/x-python",
   "name": "python",
   "nbconvert_exporter": "python",
   "pygments_lexer": "ipython3",
   "version": "3.8.16"
  }
 },
 "nbformat": 4,
 "nbformat_minor": 5
}
