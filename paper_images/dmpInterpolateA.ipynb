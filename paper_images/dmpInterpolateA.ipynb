{
 "cells": [
  {
   "cell_type": "code",
   "execution_count": null,
   "id": "6f6388b1",
   "metadata": {},
   "outputs": [],
   "source": [
    "import numpy as np\n",
    "import matplotlib.pyplot as plt"
   ]
  },
  {
   "cell_type": "code",
   "execution_count": null,
   "id": "81f690e3",
   "metadata": {},
   "outputs": [],
   "source": [
    "tau = 1\n",
    "yzero = 0\n",
    "\n",
    "# arbitrary?\n",
    "alpha_z = 10\n",
    "beta_z = alpha_z/4"
   ]
  },
  {
   "cell_type": "code",
   "execution_count": null,
   "id": "b37676f7",
   "metadata": {},
   "outputs": [],
   "source": [
    "def phase_func(t):\n",
    "    phasefactor = -np.log(0.01)\n",
    "    return np.exp(-t * phasefactor)\n",
    "N = 50\n",
    "sigma = 2/N\n",
    "cs = phase_func(np.linspace(0,1,N,endpoint=True))"
   ]
  },
  {
   "cell_type": "code",
   "execution_count": null,
   "id": "6ef41c04",
   "metadata": {},
   "outputs": [],
   "source": [
    "# Yeah, i don't _really_ get it, but an original Ijspeert paper\n",
    "# (and the Learning Parametric Dynamic Movement... paper)\n",
    "# have the forcing term affect velocity, not acceleration\n",
    "def numeric_integration(ydemos, ts, tau, g, alpha_z, beta_z):\n",
    "    step_size = 0.00001\n",
    "    i = 0\n",
    "    t = ts[i]\n",
    "    i += 1\n",
    "    z = 0\n",
    "    zs = []\n",
    "    zs.append(z)\n",
    "    while i < len(ts):\n",
    "        while i < len(ts) and t < ts[i]:\n",
    "            interp_frac = (t - ts[i-1])/(ts[i] - ts[i-1])\n",
    "            y = (1-interp_frac) * ydemos[i-1] + interp_frac * ydemos[i]\n",
    "            z += alpha_z * (beta_z * (g - y) - z)/tau * step_size\n",
    "            t += step_size\n",
    "        zs.append(z)\n",
    "        i += 1\n",
    "    return np.array(zs)"
   ]
  },
  {
   "cell_type": "code",
   "execution_count": null,
   "id": "3fd9ae2b",
   "metadata": {},
   "outputs": [],
   "source": [
    "# basisphis, targetfunction, xs are all evaluated at ts\n",
    "def fit_target_i(i, basisphis, targetfunction, xs, yzero, g):\n",
    "    s = xs * (g - yzero)\n",
    "    gamma = np.diag(basisphis[i])\n",
    "    # equation 2.14 from Dynamical Movement Primitives: Learning Attractor Models for Motor Behaviors\n",
    "    numerator = s @ gamma @ targetfunction\n",
    "    denominator = s @ gamma @ s\n",
    "    return numerator / denominator"
   ]
  },
  {
   "cell_type": "code",
   "execution_count": null,
   "id": "80bfd633",
   "metadata": {},
   "outputs": [],
   "source": [
    "def simulate(fitted_f, ts, g, alpha_z, beta_z):\n",
    "    step_size = 0.00001\n",
    "    i = 0\n",
    "    t = ts[i]\n",
    "    ys = [] # position\n",
    "    zs = [] # velocity\n",
    "    y = 0\n",
    "    z = 0\n",
    "    t = 0\n",
    "    while i < len(ts):\n",
    "        while i < len(ts) and t < ts[i]:\n",
    "            interp_frac = (t - ts[i-1])/(ts[i] - ts[i-1])\n",
    "            f = (1-interp_frac) * fitted_f[i-1] + interp_frac * fitted_f[i]\n",
    "            z += alpha_z * (beta_z * (g - y) - z)/tau * step_size\n",
    "            y += (z + f)/tau * step_size\n",
    "            t += step_size\n",
    "        ys.append(y)\n",
    "        zs.append(z)\n",
    "        i += 1\n",
    "    return (np.array(ys), np.array(zs))"
   ]
  },
  {
   "cell_type": "code",
   "execution_count": null,
   "id": "a7cb897b",
   "metadata": {},
   "outputs": [],
   "source": [
    "fulldat = np.load(\"../data/trainTest2DLetterARescaled.npz\")\n",
    "fulldat[\"train\"].shape"
   ]
  },
  {
   "cell_type": "code",
   "execution_count": null,
   "id": "af2ae374",
   "metadata": {},
   "outputs": [],
   "source": []
  },
  {
   "cell_type": "code",
   "execution_count": null,
   "id": "69508500",
   "metadata": {},
   "outputs": [],
   "source": [
    "ixs=(10,15)#(0,1)\n",
    "dat = fulldat[\"train\"][(ixs),]\n",
    "start_offset = dat[:,0:1,:]\n",
    "dat = dat - start_offset\n",
    "print(dat.shape)\n",
    "ixs = (0,1)\n",
    "\n",
    "# somewhere in the indexing below we don't use ixs,\n",
    "# but just assert 2 trajectories in dat and assume ixs is (0,1)\n",
    "# To make the rest of the code work, ensure you only have 2 trajs here"
   ]
  },
  {
   "cell_type": "code",
   "execution_count": null,
   "id": "1c6b8728",
   "metadata": {},
   "outputs": [],
   "source": [
    "numdims = dat.shape[2]\n",
    "numts = dat.shape[1]\n",
    "numtrajs = dat.shape[0]"
   ]
  },
  {
   "cell_type": "code",
   "execution_count": null,
   "id": "b01de585",
   "metadata": {},
   "outputs": [],
   "source": []
  },
  {
   "cell_type": "code",
   "execution_count": null,
   "id": "edaf72e0",
   "metadata": {},
   "outputs": [],
   "source": [
    "\n",
    "ts = np.linspace(0,1,numts)\n",
    "xs = phase_func(ts)\n",
    "\n",
    "zdemos = []\n",
    "ydemos = []\n",
    "ydemoprimes = []\n",
    "ftargets = []\n",
    "fitted_fs = []\n",
    "\n",
    "for dim in range(numdims):\n",
    "    print(\"dim\",dim)\n",
    "    for i in ixs:\n",
    "        ydemo = dat[i,:,dim]\n",
    "        ydemoprime = (ydemo[2:]-ydemo[:-2])/(ts[1]-ts[0])/2\n",
    "        ydemoprime = np.concatenate(((ydemo[1:2]-ydemo[:1])/(ts[1]-ts[0]),ydemoprime,(ydemo[-1:]-ydemo[-2:-1])/(ts[1]-ts[0])))\n",
    "\n",
    "        yzero = ydemo[0]\n",
    "        g = ydemo[-1]\n",
    "        basisphis = np.array([np.exp(-(phase_func(ts) - c)**2/((sigma * c)**2)) for c in cs])\n",
    "        zdemo = numeric_integration(ydemo, ts, tau, g, alpha_z, beta_z)\n",
    "        ftarget = tau * ydemoprime - zdemo\n",
    "        ws = np.array([fit_target_i(i, basisphis, ftarget, xs, yzero, g) for i in range(len(basisphis))])\n",
    "        fitted_f = np.einsum(\"it,i->t\",basisphis,ws)/np.einsum(\"it->t\",basisphis) * xs * (g-yzero)\n",
    "        zdemos.append(zdemo)\n",
    "        ydemos.append(ydemo)\n",
    "        ydemoprimes.append(ydemoprime)\n",
    "        ftargets.append(ftarget)\n",
    "        fitted_fs.append(fitted_f)"
   ]
  },
  {
   "cell_type": "code",
   "execution_count": null,
   "id": "c135cc48",
   "metadata": {
    "scrolled": false
   },
   "outputs": [],
   "source": [
    "for i in range(4):\n",
    "    plt.scatter(ts,-zdemos[i])\n",
    "    plt.scatter(ts,ftargets[i])\n",
    "    plt.scatter(ts,fitted_fs[i])\n",
    "    plt.show()"
   ]
  },
  {
   "cell_type": "code",
   "execution_count": null,
   "id": "08ea9112",
   "metadata": {},
   "outputs": [],
   "source": [
    "visualization_dims = [0,1]\n",
    "interp_inds = [0,1]"
   ]
  },
  {
   "cell_type": "code",
   "execution_count": null,
   "id": "15fa44d0",
   "metadata": {},
   "outputs": [],
   "source": [
    "i = 0\n",
    "for dim in visualization_dims:\n",
    "    for i in range(len(ixs)):\n",
    "        jindex = dim * 2 + i\n",
    "        ys,zs = simulate(fitted_fs[jindex],ts,dat[ixs[i],-1,dim],alpha_z,beta_z)\n",
    "        plt.scatter(ts,dat[ixs[i],:,dim])\n",
    "        plt.plot(ts,ys)\n",
    "        plt.show()"
   ]
  },
  {
   "cell_type": "code",
   "execution_count": null,
   "id": "0bfeeb3a",
   "metadata": {
    "scrolled": false
   },
   "outputs": [],
   "source": [
    "for i in range(2):\n",
    "    simulated_ys = []\n",
    "    for dim in visualization_dims:\n",
    "        jindex = dim * 2 + i\n",
    "        ys,zs = simulate(fitted_fs[jindex],ts,dat[ixs[i],-1,dim],alpha_z,beta_z)\n",
    "        simulated_ys.append(ys)\n",
    "    simulated_ys = np.array(simulated_ys)\n",
    "    plt.scatter(dat[ixs[i],:,visualization_dims[0]],dat[ixs[i],:,visualization_dims[1]])\n",
    "    plt.scatter(simulated_ys[0,:],simulated_ys[1,:])\n",
    "    plt.show()"
   ]
  },
  {
   "cell_type": "markdown",
   "id": "340aeacb",
   "metadata": {},
   "source": [
    "# Relevant Methodology of Learning parametric dynamic movement primitives from multiple demonstrations"
   ]
  },
  {
   "cell_type": "code",
   "execution_count": null,
   "id": "e50267ab",
   "metadata": {},
   "outputs": [],
   "source": [
    "num_interp=3"
   ]
  },
  {
   "cell_type": "code",
   "execution_count": null,
   "id": "9ab5996c",
   "metadata": {},
   "outputs": [],
   "source": [
    "# perform an interpolating sweep of the subspace encoding the attractor landscape for the 2 demonstrations\n",
    "interp_ftargets = []\n",
    "interp_fitted_fs = []\n",
    "for dim in visualization_dims:\n",
    "    for interp_weight in np.linspace(0,1,num_interp):\n",
    "        # dat is just used to interpolate the goals, for smooth visualization....\n",
    "        # if DMP worked perfectly, you could pick any goal\n",
    "        g = (1-interp_weight) * dat[ixs[0],-1,dim] + interp_weight * dat[ixs[1],-1,dim]\n",
    "        # we zero-centered everything, at least.\n",
    "        yzero = 0\n",
    "        \n",
    "        basisphis = np.array([np.exp(-(phase_func(ts) - c)**2/((sigma * c)**2)) for c in cs])\n",
    "        ftarget = (1-interp_weight) * ftargets[dim*2 + 0] + interp_weight * ftargets[dim*2 + 1]\n",
    "        \n",
    "        ws = np.array([fit_target_i(i, basisphis, ftarget, xs, yzero, g) for i in range(len(basisphis))])\n",
    "        fitted_f = np.einsum(\"it,i->t\",basisphis,ws)/np.einsum(\"it->t\",basisphis) * xs * (g-yzero)\n",
    "        interp_ftargets.append(ftarget)\n",
    "        interp_fitted_fs.append(fitted_f)"
   ]
  },
  {
   "cell_type": "code",
   "execution_count": null,
   "id": "ac1d6587",
   "metadata": {},
   "outputs": [],
   "source": [
    "startoffsets_interp = start_offset[interp_inds[0]] + np.linspace(0,1,num_interp).reshape(-1,1) * (start_offset[interp_inds[1]] - start_offset[interp_inds[0]])\n",
    "print(startoffsets_interp)"
   ]
  },
  {
   "cell_type": "code",
   "execution_count": null,
   "id": "6a9d5f4c",
   "metadata": {},
   "outputs": [],
   "source": [
    "targets = dat\n",
    "f,ax = plt.subplots()\n",
    "for i in range(2):\n",
    "    plt.plot(targets[i][:,visualization_dims[0]] + i * 4*0 + start_offset[interp_inds[i],0,visualization_dims[0]],\n",
    "             targets[i][:,visualization_dims[1]] + start_offset[interp_inds[i],0,visualization_dims[1]],c=\"k\")\n",
    "all_trajs = [targets[0],targets[1]]\n",
    "all_offsets = [start_offset[0][0],start_offset[1][0]]\n",
    "print([t.shape for t in all_trajs])\n",
    "for i in [1]:\n",
    "    interp_weight = i/(num_interp-1)\n",
    "    simulated_ys = []\n",
    "    for ix in range(2):\n",
    "        g = (1-interp_weight) * dat[ixs[0],-1,visualization_dims[ix]] + interp_weight * dat[ixs[1],-1,visualization_dims[ix]]\n",
    "        jindex = ix * num_interp + i\n",
    "        ys,zs = simulate(interp_fitted_fs[jindex],ts,g,alpha_z,beta_z)\n",
    "        simulated_ys.append(ys)\n",
    "    simulated_ys = np.array(simulated_ys)\n",
    "    plt.plot(simulated_ys[0,:]+i*0 + startoffsets_interp[i,visualization_dims[0]],\n",
    "             simulated_ys[1,:] + startoffsets_interp[i,visualization_dims[1]])\n",
    "    all_offsets.append(startoffsets_interp[i])\n",
    "    all_trajs.append(simulated_ys.T)\n",
    "plt.axis(\"equal\")\n",
    "all_trajs = np.array(all_trajs)\n",
    "all_offsets = np.array(all_offsets)\n",
    "\n",
    "### that order is traj0, traj1, interp\n",
    "### switch ordering to traj0, interp, traj1\n",
    "all_trajs = all_trajs[(0,2,1),]\n",
    "all_offsets = all_offsets[(0,2,1),]"
   ]
  },
  {
   "cell_type": "code",
   "execution_count": null,
   "id": "1826be21",
   "metadata": {},
   "outputs": [],
   "source": [
    "import matplotlib.lines as mlines \n",
    "#https://stackoverflow.com/questions/47391702/how-to-make-a-colored-markers-legend-from-scratch\n",
    "import matplotlib\n",
    "font = {        'size'   : 22}\n",
    "\n",
    "matplotlib.rc('font', **font)\n",
    "cmap = plt.get_cmap(\"viridis\")\n",
    "def make_plot(trajs,specified_ts,full_interp,name,ts,startoffsets):\n",
    "    plot_order = [2,0,1]\n",
    "    linestyles = [\"dotted\", \"dashed\",\"dashdot\"]\n",
    "    \n",
    "    f = plt.figure(figsize=(8,16))\n",
    "    smallht = 0.37/2\n",
    "    ax1 = f.add_axes([0.1, 0.6, 0.8, 0.4])  # add the left Axes\n",
    "    ax2 = f.add_axes([0.1, 0.1, 0.8, smallht])  # add the bottomright Axes\n",
    "    ax3 = f.add_axes([0.1, 0.5-smallht, 0.8, smallht])  # add the topright Axes\n",
    "    alpha = 0.5\n",
    "    threeixs = (0,1,-1)\n",
    "    legend_lines = []\n",
    "    shapes =[\"+\",None,\"x\"]\n",
    "    for i,traj in zip(plot_order,trajs[plot_order]):\n",
    "        ax1.plot(traj[:,0]+startoffsets[i][0],traj[:,1]+startoffsets[i][1],c=cmap(i/3),\n",
    "                 linewidth=2 if i != 1 else 8,\n",
    "                 alpha=alpha if i != 1 else 0.9, zorder=1,marker=shapes[i],markeredgecolor=cmap(i/3))\n",
    "        legend_lines.append(\n",
    "            mlines.Line2D([], [], color=cmap(i/3), marker=shapes[i], label=f\"---------\",\n",
    "                          markersize=10,markeredgecolor= cmap(i/3),markeredgewidth=1))\n",
    "    \n",
    "    ax1.legend(handles=legend_lines,labelcolor=\"white\", frameon=False)\n",
    "    for i,t in enumerate(specified_ts):\n",
    "        t = (int)(t)\n",
    "        ax1.plot(full_interp[:,t,0]+startoffsets[:,0],\n",
    "                 full_interp[:,t,1]+startoffsets[:,1],c=\"k\",linestyle=linestyles[i])\n",
    "        ax1.scatter(trajs[:,t,0]+startoffsets[:,0],\n",
    "                    trajs[:,t,1]+startoffsets[:,1],\n",
    "                    c=cmap((0,1/3,2/3)),\n",
    "                    alpha=1,edgecolors= \"k\",linewidth=1, zorder=2)\n",
    "    ax1.set_xlim(-2.5,3)\n",
    "    ax1.set_ylim(-2,3.5)\n",
    "\n",
    "    for pltax, axis, axisname in ((ax2,0,\"X\"),(ax3, 1,\"Y\")):\n",
    "        for i,traj in zip(plot_order,trajs[plot_order]):\n",
    "            pltax.plot(ts,traj[:,axis]+startoffsets[i,axis],c=cmap(i/3),\n",
    "                     linewidth=2 if i != 1 else 5,\n",
    "                     alpha=alpha if i != 1 else 0.9, zorder=1)\n",
    "        for i,t in enumerate(specified_ts):\n",
    "            pltax.plot(ts[t].repeat(3),\n",
    "                       trajs[:,t,axis]+startoffsets[:,axis],\n",
    "                       c=\"k\",linestyle=linestyles[i])\n",
    "            pltax.scatter(ts[t].repeat(3),\n",
    "                          trajs[:,t,axis]+startoffsets[:,axis],\n",
    "                          c=cmap((0,1/3,2/3)),\n",
    "                        alpha=1,edgecolors= \"k\",linewidth=1, zorder=2)\n",
    "        if axis==1:\n",
    "            pltax.set_xticklabels([])\n",
    "            pltax.set_ylim(-2,3.5)\n",
    "        else:\n",
    "            pltax.set_ylim(-2.5,3)\n",
    "    print(f\"{name}InterpolationA.pdf\")\n",
    "    plt.savefig(f\"{name}InterpolationA.pdf\",bbox_inches=matplotlib.transforms.Bbox([[0,0], [8,16]]))\n",
    "    plt.show()"
   ]
  },
  {
   "cell_type": "code",
   "execution_count": null,
   "id": "faed6901",
   "metadata": {},
   "outputs": [],
   "source": [
    "all_trajs.shape"
   ]
  },
  {
   "cell_type": "code",
   "execution_count": null,
   "id": "872a1317",
   "metadata": {},
   "outputs": [],
   "source": [
    "make_plot(all_trajs,[118,132,138],all_trajs,\"dmp\",np.linspace(0,1,200),all_offsets)"
   ]
  },
  {
   "cell_type": "code",
   "execution_count": null,
   "id": "d94b55c7",
   "metadata": {},
   "outputs": [],
   "source": []
  },
  {
   "cell_type": "code",
   "execution_count": null,
   "id": "7b42379c",
   "metadata": {},
   "outputs": [],
   "source": []
  },
  {
   "cell_type": "code",
   "execution_count": null,
   "id": "525467d2",
   "metadata": {},
   "outputs": [],
   "source": []
  }
 ],
 "metadata": {
  "kernelspec": {
   "display_name": "Python 3 (ipykernel)",
   "language": "python",
   "name": "python3"
  },
  "language_info": {
   "codemirror_mode": {
    "name": "ipython",
    "version": 3
   },
   "file_extension": ".py",
   "mimetype": "text/x-python",
   "name": "python",
   "nbconvert_exporter": "python",
   "pygments_lexer": "ipython3",
   "version": "3.8.16"
  }
 },
 "nbformat": 4,
 "nbformat_minor": 5
}
