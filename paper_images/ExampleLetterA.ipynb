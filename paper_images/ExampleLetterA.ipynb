{
 "cells": [
  {
   "cell_type": "code",
   "execution_count": null,
   "id": "8f8ed7e9",
   "metadata": {},
   "outputs": [],
   "source": [
    "import numpy as np\n",
    "import matplotlib.pyplot as plt"
   ]
  },
  {
   "cell_type": "code",
   "execution_count": null,
   "id": "dd66c63f",
   "metadata": {},
   "outputs": [],
   "source": [
    "dat = np.load(\"../data/trainTest2DLetterAScaled.npz\")"
   ]
  },
  {
   "cell_type": "code",
   "execution_count": null,
   "id": "cdf22fa2",
   "metadata": {
    "scrolled": false
   },
   "outputs": [],
   "source": [
    "for j,i in enumerate([0,14,60,95,10]):\n",
    "    scale=6\n",
    "    traj=dat[\"train\"][i]\n",
    "    plt.figure(figsize=(4,4))\n",
    "    plt.plot(traj[:,0],traj[:,1],c=\"k\")\n",
    "    plt.axis(\"off\")\n",
    "    plt.axis(\"equal\")\n",
    "    plt.ylim(-scale,scale)\n",
    "    plt.xlim(-scale,scale)\n",
    "    plt.savefig(f\"ExampleA{j}.pdf\",bbox_inches=\"tight\")"
   ]
  },
  {
   "cell_type": "code",
   "execution_count": null,
   "id": "0e34a35d",
   "metadata": {},
   "outputs": [],
   "source": []
  }
 ],
 "metadata": {
  "kernelspec": {
   "display_name": "Python 3 (ipykernel)",
   "language": "python",
   "name": "python3"
  },
  "language_info": {
   "codemirror_mode": {
    "name": "ipython",
    "version": 3
   },
   "file_extension": ".py",
   "mimetype": "text/x-python",
   "name": "python",
   "nbconvert_exporter": "python",
   "pygments_lexer": "ipython3",
   "version": "3.8.16"
  }
 },
 "nbformat": 4,
 "nbformat_minor": 5
}
