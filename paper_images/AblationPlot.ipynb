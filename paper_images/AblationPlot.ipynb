{
 "cells": [
  {
   "cell_type": "code",
   "execution_count": null,
   "id": "debdd8f8",
   "metadata": {
    "ExecuteTime": {
     "end_time": "2023-09-17T18:43:32.663717Z",
     "start_time": "2023-09-17T18:43:30.772559Z"
    }
   },
   "outputs": [],
   "source": [
    "import pandas as pd\n",
    "import json\n",
    "import numpy as np\n",
    "import matplotlib.pyplot as plt"
   ]
  },
  {
   "cell_type": "code",
   "execution_count": null,
   "id": "9eab2ec6",
   "metadata": {
    "ExecuteTime": {
     "end_time": "2023-09-17T18:43:32.750940Z",
     "start_time": "2023-09-17T18:43:32.747833Z"
    }
   },
   "outputs": [],
   "source": [
    "def clean(rawdata):\n",
    "    return rawdata.replace(\"'\",\"\\\"\").replace(\"False\",\"0\").replace(\"True\",\"1\").replace(\"None\",\"\\\"None\\\"\")"
   ]
  },
  {
   "cell_type": "code",
   "execution_count": null,
   "id": "0716f8a6",
   "metadata": {
    "ExecuteTime": {
     "end_time": "2023-09-17T18:43:32.754942Z",
     "start_time": "2023-09-17T18:43:32.752407Z"
    }
   },
   "outputs": [],
   "source": [
    "def safe_check_required_key_value(dictionary, key, value):\n",
    "    return key in dictionary.keys() and dictionary[key] == value"
   ]
  },
  {
   "cell_type": "code",
   "execution_count": null,
   "id": "a0d703ca",
   "metadata": {
    "ExecuteTime": {
     "end_time": "2023-09-17T18:43:32.758915Z",
     "start_time": "2023-09-17T18:43:32.756408Z"
    }
   },
   "outputs": [],
   "source": [
    "def match_dict_values(curdict, goaldict, ignore_keys_list):\n",
    "    for key in goaldict.keys():\n",
    "        if key not in ignore_keys_list:\n",
    "            if not safe_check_required_key_value(curdict, key, goaldict[key]):\n",
    "                return False\n",
    "    return True"
   ]
  },
  {
   "cell_type": "code",
   "execution_count": null,
   "id": "25598eef",
   "metadata": {
    "ExecuteTime": {
     "end_time": "2023-09-17T18:54:31.957525Z",
     "start_time": "2023-09-17T18:54:31.855752Z"
    }
   },
   "outputs": [],
   "source": [
    "all_run_dicts = []\n",
    "rawdata = pd.read_csv(\"../project.csv\")\n",
    "rawdata = rawdata.reset_index()  # make sure indexes pair with number of rows\n",
    "for index, row in rawdata.iterrows():\n",
    "    configdict = json.loads(clean(row.config))\n",
    "    if not any([match_dict_values(configdict, prd,[\"logname\",\"model_save_dir\",\"latent_dim\"]) for prd in all_run_dicts]):\n",
    "        all_run_dicts.append(configdict)"
   ]
  },
  {
   "cell_type": "code",
   "execution_count": null,
   "id": "494c1b3d",
   "metadata": {
    "ExecuteTime": {
     "end_time": "2023-09-17T18:43:33.580292Z",
     "start_time": "2023-09-17T18:43:33.577499Z"
    }
   },
   "outputs": [],
   "source": [
    "def create_dataset_combine(sweep_dictionaries,ignore_keys_list = [\"logname\",\"model_save_dir\",\"latent_dim\"]):\n",
    "    all_data = []\n",
    "    for sweep_dictionary in sweep_dictionaries:\n",
    "        data = create_dataset(sweep_dictionary,ignore_keys_list)\n",
    "        all_data.append(data)\n",
    "    all_data = np.concatenate(all_data, axis=0)\n",
    "    return all_data"
   ]
  },
  {
   "cell_type": "code",
   "execution_count": null,
   "id": "5b1bf554",
   "metadata": {
    "ExecuteTime": {
     "end_time": "2023-09-17T18:44:44.926167Z",
     "start_time": "2023-09-17T18:44:44.921668Z"
    },
    "scrolled": true
   },
   "outputs": [],
   "source": [
    "def create_dataset(sweep_dictionary,ignore_keys_list = [\"logname\",\"model_save_dir\",\"latent_dim\"], minstamp = None):\n",
    "    data = []\n",
    "    rawdata = pd.read_csv(\"../project.csv\")\n",
    "    rawdata = rawdata.reset_index()  # make sure indexes pair with number of rows\n",
    "\n",
    "    for index, row in rawdata.iterrows():\n",
    "        configdict = json.loads(clean(row.config))\n",
    "        if match_dict_values(configdict,sweep_dictionary,ignore_keys_list):\n",
    "            rowdata = json.loads(clean(row.summary))\n",
    "            if \"train_alignedRMSE\" in rowdata.keys() and rowdata[\"_step\"] >= 99:\n",
    "                if minstamp is None or configdict[\"logname\"][21:43] >= minstamp:\n",
    "                    data.append((configdict[\"latent_dim\"],\n",
    "                                 rowdata[\"train_alignedRMSE\"],\n",
    "                                 rowdata[\"test_alignedRMSE\"],\n",
    "                                 rowdata[\"train_noiselessRMSE\"],\n",
    "                                 rowdata[\"test_noiselessRMSE\"],\n",
    "                                 rowdata[\"train_KLD\"]))\n",
    "    data = np.array(data)       \n",
    "    return data"
   ]
  },
  {
   "cell_type": "code",
   "execution_count": null,
   "id": "4619ed90",
   "metadata": {},
   "outputs": [],
   "source": [
    "datasets = [create_dataset(rd) for rd in all_run_dicts]"
   ]
  },
  {
   "cell_type": "code",
   "execution_count": null,
   "id": "fde68684",
   "metadata": {},
   "outputs": [],
   "source": [
    "[print(d.shape) for d in datasets]"
   ]
  },
  {
   "cell_type": "code",
   "execution_count": null,
   "id": "6d8d4e56",
   "metadata": {},
   "outputs": [],
   "source": [
    "datasets"
   ]
  },
  {
   "cell_type": "code",
   "execution_count": null,
   "id": "1289b204",
   "metadata": {
    "ExecuteTime": {
     "end_time": "2023-09-17T18:55:09.889637Z",
     "start_time": "2023-09-17T18:55:09.886251Z"
    }
   },
   "outputs": [],
   "source": [
    "def plot_with_average_variance_line(ax,data,color,label,markerstyle):\n",
    "    #ax.scatter(data[:,0],data[:,1],c=color,alpha=1,marker=markerstyle)\n",
    "    xvals = []\n",
    "    yvals = []\n",
    "    stdyvals = []\n",
    "    for x,y in data:\n",
    "        if x not in xvals:\n",
    "            xvals.append(x)\n",
    "            yvals.append(np.mean(data[data[:,0]==x,1]))\n",
    "            stdyvals.append(np.std(data[data[:,0]==x,1]))\n",
    "    xvals = np.array(xvals)\n",
    "    yvals = np.array(yvals)\n",
    "    stdyvals = np.array(stdyvals)\n",
    "    order = np.argsort(xvals)\n",
    "\n",
    "    ax.plot(xvals[order],yvals[order],c=color,label=label,zorder=2)\n",
    "    ax.scatter(xvals[order],yvals[order],c=color,alpha=1,marker=markerstyle,s=100,edgecolors= \"k\",linewidth=1,zorder=3)\n",
    "    ax.fill_between(xvals[order], yvals[order]-stdyvals[order], yvals[order]+stdyvals[order], facecolor=color, alpha=0.5,zorder=1)"
   ]
  },
  {
   "cell_type": "code",
   "execution_count": null,
   "id": "2a7cd97d",
   "metadata": {
    "ExecuteTime": {
     "end_time": "2023-09-17T18:55:09.896563Z",
     "start_time": "2023-09-17T18:55:09.890874Z"
    }
   },
   "outputs": [],
   "source": [
    "\n",
    "pcaresults = np.load(\"../paper_calculations/pca_results.npy\")\n",
    "pcaresults = pcaresults[pcaresults[:,0]>0]\n",
    "pcaresults = pcaresults[pcaresults[:,0]<17]\n",
    "datasets.append(pcaresults)"
   ]
  },
  {
   "cell_type": "code",
   "execution_count": null,
   "id": "7f84ef4e",
   "metadata": {
    "ExecuteTime": {
     "end_time": "2023-09-17T18:55:09.903558Z",
     "start_time": "2023-09-17T18:55:09.899349Z"
    },
    "scrolled": true
   },
   "outputs": [],
   "source": [
    "pcaresults"
   ]
  },
  {
   "cell_type": "code",
   "execution_count": null,
   "id": "98b1e3dc",
   "metadata": {},
   "outputs": [],
   "source": [
    "import matplotlib.lines as mlines \n",
    "#https://stackoverflow.com/questions/47391702/how-to-make-a-colored-markers-legend-from-scratch"
   ]
  },
  {
   "cell_type": "code",
   "execution_count": null,
   "id": "3f108e40",
   "metadata": {
    "ExecuteTime": {
     "end_time": "2023-09-17T18:55:09.917280Z",
     "start_time": "2023-09-17T18:55:09.911607Z"
    },
    "scrolled": false
   },
   "outputs": [],
   "source": [
    "def save_plots(namebase,rateylim,toplot = None,labels=None,colors=None,shapes=None,labeltextcolor=\"white\"):\n",
    "\n",
    "    fsize=(8,6)\n",
    "    odds = [i for i in range(1,17) if i % 5 == 1]\n",
    "    \n",
    "    \n",
    "    if toplot is None:\n",
    "        toplot = range(len(datasets))\n",
    "    if labels is None:\n",
    "        labels = toplot\n",
    "    if colors is None:\n",
    "        colors = [f\"C{i}\" for i in range(len(labels))]\n",
    "    if shapes is None:\n",
    "        shapes = [\"o\"] * len(datasets)\n",
    "        \n",
    "    f = plt.figure(figsize=fsize)\n",
    "    ax = f.add_axes([0.1, 0.1, 0.8, 0.8])  # add the left Axes\n",
    "    for i,label,color,shape in zip(toplot,labels,colors,shapes):\n",
    "        dataval = datasets[i]\n",
    "        if dataval.shape[1] > 5:\n",
    "            plotdat = np.copy(dataval[:,(0,5)])\n",
    "            plotdat[:,1] = np.log2(plotdat[:,1])\n",
    "            plot_with_average_variance_line(ax, plotdat, color,label=f\"{label}\",markerstyle=shape)\n",
    "    ax.set_ylim(2,np.log2(rateylim))\n",
    "    ax.set_xlim(0.5,16.5)\n",
    "    ax.set_xticks(odds,odds)\n",
    "    ax.set_xticks(range(1,17),minor=True)\n",
    "    plt.savefig(f\"{namebase}LatentSweepRate.pdf\",bbox_inches=\"tight\")\n",
    "    \n",
    "    f = plt.figure(figsize=fsize)\n",
    "    ax = f.add_axes([0.1, 0.1, 0.8, 0.8])  # add the left Axes\n",
    "    for i,label,color,shape in zip(toplot,labels,colors,shapes):\n",
    "        dataval = datasets[i]\n",
    "        plot_with_average_variance_line(ax, dataval[:,(0,1)],color,label=f\"{label}\",markerstyle=shape)\n",
    "    ax.set_ylim(0,1.2)\n",
    "    ax.set_xlim(0.5,16.5)\n",
    "    ax.set_xticks(odds,odds)\n",
    "    ax.set_xticks(range(1,17),minor=True)\n",
    "    plt.savefig(f\"{namebase}LatentSweepTrain.pdf\",bbox_inches=\"tight\")\n",
    "    \n",
    "    f = plt.figure(figsize=fsize)\n",
    "    ax = f.add_axes([0.1, 0.1, 0.8, 0.8])  # add the left Axes\n",
    "    legend_lines = []\n",
    "    for i,label,color,shape in zip(toplot,labels,colors,shapes):\n",
    "        dataval = datasets[i]\n",
    "        plot_with_average_variance_line(ax, dataval[:,(0,2)],color,label=f\"{label}\",markerstyle=shape)\n",
    "        legend_lines.append(\n",
    "            mlines.Line2D([], [], color=color, marker=shape, label=f\"{label}\",markersize=10,markeredgecolor= \"k\",markeredgewidth=1))\n",
    "    ax.set_ylim(0,1.2)\n",
    "    ax.set_xlim(0.5,16.5)\n",
    "    ax.set_xticks(odds,odds)\n",
    "    ax.set_xticks(range(1,17),minor=True)\n",
    "    plt.legend(handles=legend_lines,labelcolor=labeltextcolor, frameon=False)\n",
    "    plt.savefig(f\"{namebase}LatentSweepTest.pdf\",bbox_inches=\"tight\")\n",
    "    plt.show()"
   ]
  },
  {
   "cell_type": "code",
   "execution_count": null,
   "id": "6a345f8b",
   "metadata": {},
   "outputs": [],
   "source": [
    "def is_base_config(testdict,must_not_match=[]):\n",
    "    checks = [(\"beta\",0.001),\n",
    "                (\"scalar_timewarper_name\",\"modeled_scalar_timewarper\"),\n",
    "                (\"decoder_name\",\"functional_decoder_complicated\"),\n",
    "                (\"dec_complicated_function_hidden_dims\",[200]),\n",
    "                (\"training_data_added_timing_noise\",0.1),\n",
    "                (\"vector_timewarper_name\",\"identity_vector_timewarper\"),\n",
    "                (\"encoder_name\", \"convolutional_encoder\")\n",
    "             ]\n",
    "    for check in checks:\n",
    "        #print(check[0])\n",
    "        if check[0] in must_not_match:\n",
    "            if safe_check_required_key_value(testdict,check[0],check[1]):\n",
    "                #print(\"The problem was NOTMATCH\",testdict,check[0],check[1])\n",
    "                return False\n",
    "        elif not safe_check_required_key_value(testdict,check[0],check[1]):\n",
    "            #print(\"The problem was\",testdict,check[0],check[1])\n",
    "            return False\n",
    "    return True"
   ]
  },
  {
   "cell_type": "code",
   "execution_count": null,
   "id": "56e2d808",
   "metadata": {},
   "outputs": [],
   "source": [
    "all_run_dicts[1]"
   ]
  },
  {
   "cell_type": "code",
   "execution_count": null,
   "id": "46fac769",
   "metadata": {
    "scrolled": false
   },
   "outputs": [],
   "source": [
    "[d for d in all_run_dicts if is_base_config(d,[\"vector_timewarper_name\",\"scalar_timewarper_name\"])]"
   ]
  },
  {
   "cell_type": "code",
   "execution_count": null,
   "id": "555ef329",
   "metadata": {
    "scrolled": true
   },
   "outputs": [],
   "source": [
    "base_config_index = np.where(np.array([is_base_config(d) for d in all_run_dicts]))[0].item()\n",
    "noise_off_index = np.where(np.array([is_base_config(d,\"training_data_added_timing_noise\") for d in all_run_dicts]))[0].item()\n",
    "timewarp_PCA_index = np.where(np.array([is_base_config(d,\"dec_complicated_function_hidden_dims\") for d in all_run_dicts]))[0].item()\n",
    "notimewarp_index = np.where(np.array([is_base_config(d,\"scalar_timewarper_name\") for d in all_run_dicts]))[0].item()\n",
    "\n",
    "conv_index = np.where(np.array([is_base_config(d,[\"decoder_name\",\"dec_complicated_function_hidden_dims\",\"scalar_timewarper_name\"]) for d in all_run_dicts]))[0].item()\n",
    "no_noise_timewarp_PCA_index = np.where(np.array([is_base_config(d,[\"training_data_added_timing_noise\",\"dec_complicated_function_hidden_dims\"]) for d in all_run_dicts]))[0].item()\n",
    "no_timewarp_PCA_index = np.where(np.array([is_base_config(d,[\"scalar_timewarper_name\",\"dec_complicated_function_hidden_dims\"]) for d in all_run_dicts]))[0].item()\n",
    "\n",
    "beta_inds = list(np.where(np.array([is_base_config(d,[\"beta\"]) for d in all_run_dicts]))[0])\n",
    "no_tw_beta_inds = list(np.where(np.array([is_base_config(d,[\"beta\",\"scalar_timewarper_name\"]) for d in all_run_dicts]))[0])\n",
    "conv_beta_inds = list(np.where(np.array([is_base_config(d,[\"beta\",\"decoder_name\",\"dec_complicated_function_hidden_dims\",\"scalar_timewarper_name\"]) for d in all_run_dicts]))[0])\n",
    "\n",
    "dtw_index = np.where(np.array([is_base_config(d,[\"vector_timewarper_name\", \"scalar_timewarper_name\"]) for d in all_run_dicts]))[0].item()\n",
    "trans_index = np.where(np.array([is_base_config(d,[\"encoder_name\",\"scalar_timewarper_name\"]) for d in all_run_dicts]))[0].item()\n",
    "\n",
    "# 4 + 3 + 2 + 2 + 2\n",
    "print(len(all_run_dicts))"
   ]
  },
  {
   "cell_type": "code",
   "execution_count": null,
   "id": "1c3285a7",
   "metadata": {},
   "outputs": [],
   "source": [
    "import matplotlib\n",
    "font = {        'size'   : 22}\n",
    "\n",
    "matplotlib.rc('font', **font)"
   ]
  },
  {
   "cell_type": "code",
   "execution_count": null,
   "id": "d285b2bc",
   "metadata": {
    "scrolled": false
   },
   "outputs": [],
   "source": [
    "save_plots(\"ablation\",rateylim=115,toplot=[base_config_index,noise_off_index,timewarp_PCA_index,notimewarp_index],\n",
    "           labels=[\"TimewarpVAE\",\"ndaug\",\"nnonlin\",\"NoTimewarp\"],\n",
    "          shapes=[\"o\",\"P\",\"X\",\".\"])"
   ]
  },
  {
   "cell_type": "code",
   "execution_count": null,
   "id": "c8d2d871",
   "metadata": {},
   "outputs": [],
   "source": []
  },
  {
   "cell_type": "code",
   "execution_count": null,
   "id": "0e7610a2",
   "metadata": {},
   "outputs": [],
   "source": [
    "save_plots(\"conv\",rateylim=500,toplot=[base_config_index,no_timewarp_PCA_index,no_noise_timewarp_PCA_index],\n",
    "           labels=[\"TimewarpVAE\",\"NoTWNoNonlinear\",\"NoNoiseNoNonlinear\"])"
   ]
  },
  {
   "cell_type": "code",
   "execution_count": null,
   "id": "1ea0fc5a",
   "metadata": {
    "scrolled": false
   },
   "outputs": [],
   "source": [
    "save_plots(\"beta\",rateylim=100,toplot=[base_config_index] + beta_inds)\n",
    "save_plots(\"BetaNoTw\",rateylim=100,toplot=[base_config_index] + no_tw_beta_inds + [notimewarp_index])"
   ]
  },
  {
   "cell_type": "code",
   "execution_count": null,
   "id": "b0a9bfa9",
   "metadata": {},
   "outputs": [],
   "source": [
    "def rate_distortion(namebase,rateylim,latent_dim,toplot,colors=None,shapes=None):\n",
    "    fsize=(8,6)\n",
    "    if colors is None:\n",
    "        colors = [f\"C{i}\" for i in range(2)]\n",
    "    if shapes is None:\n",
    "        shapes = [\"o\"] * len(datasets)\n",
    "        \n",
    "    f = plt.figure(figsize=fsize)\n",
    "    ax = f.add_axes([0.1, 0.1, 0.8, 0.8])  # add the left Axes\n",
    "    for i in toplot:\n",
    "        dataval = datasets[i]\n",
    "        dataval = dataval[dataval[:,0]==latent_dim]\n",
    "        ax.scatter(dataval[:,5],dataval[:,1],c=colors[0],label=f\"Training\" if i == 0 else None,marker=shapes[0])\n",
    "        ax.scatter(dataval[:,5],dataval[:,2],c=colors[1],label=f\"Test\" if i == 0 else None,marker=shapes[1])\n",
    "    ax.set_xlim(0,rateylim)\n",
    "    ax.set_ylim(0,1)\n",
    "    plt.legend()\n",
    "    plt.savefig(f\"{namebase}RateDistortion.pdf\",bbox_inches=\"tight\")\n",
    "    "
   ]
  },
  {
   "cell_type": "code",
   "execution_count": null,
   "id": "00e1ee29",
   "metadata": {},
   "outputs": [],
   "source": [
    "rate_distortion(\"base\",100,16,[base_config_index] + beta_inds,colors=None,shapes=None)"
   ]
  },
  {
   "cell_type": "code",
   "execution_count": null,
   "id": "271bb4e9",
   "metadata": {},
   "outputs": [],
   "source": [
    "# These base distortion results make sense compared to bottom right of figure 3 in http://proceedings.mlr.press/v130/bozkurt21a/bozkurt21a.pdf\n",
    "# but they aren't very \"excitign\""
   ]
  },
  {
   "cell_type": "code",
   "execution_count": null,
   "id": "77b5bba0",
   "metadata": {},
   "outputs": [],
   "source": [
    "all_conv_inds = conv_beta_inds + [conv_index]\n",
    "conv_betas = [all_run_dicts[ix][\"beta\"] for ix in all_conv_inds]\n",
    "sortorder = np.argsort(conv_betas)\n",
    "sorted_conv_inds = [all_conv_inds[s] for s in sortorder]\n",
    "all_timewarpvae_indices =  [base_config_index] + beta_inds\n",
    "timewarpvae_betas = [all_run_dicts[ix][\"beta\"] for ix in all_timewarpvae_indices]\n",
    "twvae_sortorder = np.argsort(timewarpvae_betas)\n",
    "sorted_twvae_inds = [all_timewarpvae_indices[s] for s in twvae_sortorder]\n",
    "\n",
    "\n",
    "# just plot the first 2 betas\n",
    "labels = [f\"TimewarpVAEbt{timewarpvae_betas[s]}\" for s in twvae_sortorder[:2]] + [f\"Conv{conv_betas[s]}\" for s in sortorder[:2]]\n",
    "save_plots(\"BetaConvTwo\",rateylim=500,\n",
    "           toplot=sorted_twvae_inds[:2] + sorted_conv_inds[:2] + [-1], \n",
    "           labels=labels + [\"PCA\"],\n",
    "           colors=[\"C0\"]*2 + [\"C1\"]*2 +[\"C2\"],\n",
    "          shapes=[\"o\",\"X\"]*2 + [\".\"],\n",
    "          labeltextcolor=\"white\")"
   ]
  },
  {
   "cell_type": "code",
   "execution_count": null,
   "id": "a2a427ee",
   "metadata": {},
   "outputs": [],
   "source": [
    "all_conv_inds = conv_beta_inds + [conv_index]\n",
    "conv_betas = [all_run_dicts[ix][\"beta\"] for ix in all_conv_inds]\n",
    "sortorder = np.argsort(conv_betas)\n",
    "sorted_conv_inds = [all_conv_inds[s] for s in sortorder]\n",
    "all_timewarpvae_indices =  [base_config_index] + beta_inds\n",
    "timewarpvae_betas = [all_run_dicts[ix][\"beta\"] for ix in all_timewarpvae_indices]\n",
    "twvae_sortorder = np.argsort(timewarpvae_betas)\n",
    "sorted_twvae_inds = [all_timewarpvae_indices[s] for s in twvae_sortorder]\n",
    "\n",
    "labels = [f\"TimewarpVAEbt{timewarpvae_betas[s]}\" for s in twvae_sortorder] + [f\"Conv{conv_betas[s]}\" for s in sortorder]\n",
    "save_plots(\"BetaConv\",rateylim=500,toplot=sorted_twvae_inds + sorted_conv_inds, \n",
    "           labels=labels,\n",
    "           colors=[\"C0\"]*3 + [\"C1\"]*3,\n",
    "          shapes=[\"o\",\"P\",\"X\"]*2,\n",
    "          labeltextcolor=\"white\")"
   ]
  },
  {
   "cell_type": "code",
   "execution_count": null,
   "id": "875cf5c2",
   "metadata": {},
   "outputs": [],
   "source": [
    "dtw_index\n",
    "trans_index\n",
    "base_config_index\n",
    "\n",
    "save_plots(\"TimewarpVAEDTW\",rateylim=100,toplot=[base_config_index,dtw_index], \n",
    "           labels=[\"TimewarpVAE\", \"beta-VAE DTW---sp\"],\n",
    "           colors=[\"C0\",\"C1\"],\n",
    "          shapes=[\"o\",\"P\"],\n",
    "          labeltextcolor=\"white\")"
   ]
  },
  {
   "cell_type": "code",
   "execution_count": null,
   "id": "ab337a37",
   "metadata": {},
   "outputs": [],
   "source": []
  },
  {
   "cell_type": "code",
   "execution_count": null,
   "id": "9d384d47",
   "metadata": {},
   "outputs": [],
   "source": []
  },
  {
   "cell_type": "code",
   "execution_count": null,
   "id": "d3cf9615",
   "metadata": {},
   "outputs": [],
   "source": []
  }
 ],
 "metadata": {
  "kernelspec": {
   "display_name": "Python 3 (ipykernel)",
   "language": "python",
   "name": "python3"
  },
  "language_info": {
   "codemirror_mode": {
    "name": "ipython",
    "version": 3
   },
   "file_extension": ".py",
   "mimetype": "text/x-python",
   "name": "python",
   "nbconvert_exporter": "python",
   "pygments_lexer": "ipython3",
   "version": "3.8.16"
  }
 },
 "nbformat": 4,
 "nbformat_minor": 5
}
