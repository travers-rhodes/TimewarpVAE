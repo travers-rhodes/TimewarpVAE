{
 "cells": [
  {
   "cell_type": "code",
   "execution_count": null,
   "metadata": {
    "ExecuteTime": {
     "end_time": "2023-10-23T17:05:02.738711Z",
     "start_time": "2023-10-23T17:05:01.540493Z"
    }
   },
   "outputs": [],
   "source": [
    "import pandas as pd\n",
    "import json\n",
    "import numpy as np\n",
    "import matplotlib.pyplot as plt"
   ]
  },
  {
   "cell_type": "code",
   "execution_count": null,
   "metadata": {},
   "outputs": [],
   "source": [
    "import pickle\n",
    "\n",
    "with open('../paper_calculations/aligned_reconstruction_wo_tw_errors.pickle', 'rb') as handle:\n",
    "      aligned_reconstruction_wo_tw_errors = pickle.load(handle)\n",
    "        \n",
    "keys = [a[1] for a in aligned_reconstruction_wo_tw_errors]\n",
    "values = [a[2:] for a in aligned_reconstruction_wo_tw_errors]\n",
    "\n",
    "aligned_notw_errors_dict = dict(zip(keys,values))"
   ]
  },
  {
   "cell_type": "code",
   "execution_count": null,
   "metadata": {},
   "outputs": [],
   "source": [
    "#aligned_notw_errors_dict.keys()"
   ]
  },
  {
   "cell_type": "code",
   "execution_count": null,
   "metadata": {
    "ExecuteTime": {
     "end_time": "2023-10-23T17:05:02.743540Z",
     "start_time": "2023-10-23T17:05:02.740864Z"
    }
   },
   "outputs": [],
   "source": [
    "def clean(rawdata):\n",
    "    return rawdata.replace(\"'\",\"\\\"\").replace(\"False\",\"0\").replace(\"True\",\"1\").replace(\"None\",\"\\\"None\\\"\")"
   ]
  },
  {
   "cell_type": "code",
   "execution_count": null,
   "metadata": {
    "ExecuteTime": {
     "end_time": "2023-10-23T17:05:02.749482Z",
     "start_time": "2023-10-23T17:05:02.744960Z"
    }
   },
   "outputs": [],
   "source": [
    "def safe_check_required_key_value(dictionary, key, value):\n",
    "    return key in dictionary.keys() and dictionary[key] == value"
   ]
  },
  {
   "cell_type": "code",
   "execution_count": null,
   "metadata": {
    "ExecuteTime": {
     "end_time": "2023-10-23T17:05:02.754163Z",
     "start_time": "2023-10-23T17:05:02.750832Z"
    }
   },
   "outputs": [],
   "source": [
    "def match_dict_values(curdict, goaldict, ignore_keys_list):\n",
    "    for key in goaldict.keys():\n",
    "        if key not in ignore_keys_list:\n",
    "            if not safe_check_required_key_value(curdict, key, goaldict[key]):\n",
    "                return False\n",
    "    return True"
   ]
  },
  {
   "cell_type": "code",
   "execution_count": null,
   "metadata": {},
   "outputs": [],
   "source": [
    "def get_all_data():\n",
    "    rawdata1 = pd.read_csv(\"../project.csv\")\n",
    "    rawdata1 = rawdata1.reset_index()  # make sure indexes pair with number of rows\n",
    "\n",
    "    rawdata2 = pd.read_csv(\"../projectrateinvariantvae.csv\")\n",
    "    rawdata2 = rawdata2.reset_index()  # make sure indexes pair with number of rows\n",
    "\n",
    "\n",
    "    rawdata = pd.concat([rawdata1,rawdata2])\n",
    "    rawdata.reset_index()\n",
    "    return rawdata"
   ]
  },
  {
   "cell_type": "code",
   "execution_count": null,
   "metadata": {
    "ExecuteTime": {
     "end_time": "2023-10-23T17:05:02.818630Z",
     "start_time": "2023-10-23T17:05:02.756856Z"
    }
   },
   "outputs": [],
   "source": [
    "rawdata = get_all_data()\n",
    "\n",
    "all_run_dicts = []\n",
    "\n",
    "for index, row in rawdata.iterrows():\n",
    "    configdict = json.loads(clean(row.config))\n",
    "    if not any([match_dict_values(configdict, prd,[\"logname\",\"model_save_dir\",\"latent_dim\"]) for prd in all_run_dicts]):\n",
    "        # \"convolutional_decoder\" is deprecated. use \"convolutional_decoder_upsampling\" results instead\n",
    "        if configdict[\"decoder_name\"] != \"convolutional_decoder\":\n",
    "            all_run_dicts.append(configdict)"
   ]
  },
  {
   "cell_type": "code",
   "execution_count": null,
   "metadata": {},
   "outputs": [],
   "source": [
    "all_run_dicts"
   ]
  },
  {
   "cell_type": "code",
   "execution_count": null,
   "metadata": {},
   "outputs": [],
   "source": [
    "# This was used to debug and figure out that this run was aborted before it completed,\n",
    "# so there was no saved model associated with it\n",
    "#weirdrunname = '../results/rateinvariantvae/20231114-204924.596986/savedmodel'\n",
    "#\n",
    "#\n",
    "#weird_run = [a for a in all_run_dicts if a[\"model_save_dir\"] == weirdrunname]\n",
    "#\n",
    "#for index, row in rawdata.iterrows():\n",
    "#    configdict = json.loads(clean(row.config))\n",
    "#    rowdata = json.loads(clean(row.summary))\n",
    "#    if configdict[\"model_save_dir\"] != weirdrunname:\n",
    "#        #print(weird_run)\n",
    "#        #print(row.summary)"
   ]
  },
  {
   "cell_type": "code",
   "execution_count": null,
   "metadata": {
    "ExecuteTime": {
     "end_time": "2023-10-23T17:05:02.822763Z",
     "start_time": "2023-10-23T17:05:02.820077Z"
    }
   },
   "outputs": [],
   "source": [
    "def create_dataset_combine(sweep_dictionaries,ignore_keys_list = [\"logname\",\"model_save_dir\",\"latent_dim\"]):\n",
    "    all_data = []\n",
    "    for sweep_dictionary in sweep_dictionaries:\n",
    "        data = create_dataset(sweep_dictionary,ignore_keys_list)\n",
    "        all_data.append(data)\n",
    "    all_data = np.concatenate(all_data, axis=0)\n",
    "    return all_data"
   ]
  },
  {
   "cell_type": "code",
   "execution_count": null,
   "metadata": {
    "ExecuteTime": {
     "end_time": "2023-10-23T17:05:02.830220Z",
     "start_time": "2023-10-23T17:05:02.824413Z"
    },
    "scrolled": true
   },
   "outputs": [],
   "source": [
    "# add a default maxstamp so results don't change if we add more results\n",
    "def create_dataset(sweep_dictionary,ignore_keys_list = [\"logname\",\"model_save_dir\",\"latent_dim\"], maxstamp = None):\n",
    "    data = []\n",
    "    data_timestamps = []\n",
    "    rawdata = get_all_data()\n",
    "\n",
    "    for index, row in rawdata.iterrows():\n",
    "        configdict = json.loads(clean(row.config))\n",
    "        if match_dict_values(configdict,sweep_dictionary,ignore_keys_list):\n",
    "            rowdata = json.loads(clean(row.summary))\n",
    "            if \"train_alignedRMSE\" in rowdata.keys() and rowdata[\"_step\"] >= 199:\n",
    "                if maxstamp is None or configdict[\"logname\"][-26:-4] <= maxstamp:\n",
    "                    save_key = configdict[\"model_save_dir\"]\n",
    "                    data.append((configdict[\"latent_dim\"],\n",
    "                                 aligned_notw_errors_dict[save_key][0],#rowdata[\"train_alignedRMSE\"],\n",
    "                                 aligned_notw_errors_dict[save_key][1],#rowdata[\"test_alignedRMSE\"],\n",
    "                                 rowdata[\"train_noiselessRMSE\"],\n",
    "                                 rowdata[\"test_noiselessRMSE\"],\n",
    "                                 rowdata[\"train_KLD\"]))\n",
    "                    data_timestamps.append(configdict[\"logname\"][-26:-4])\n",
    "    data = np.array(data) \n",
    "    data_timestamps=np.array(data_timestamps)\n",
    "    return data, data_timestamps"
   ]
  },
  {
   "cell_type": "code",
   "execution_count": null,
   "metadata": {
    "ExecuteTime": {
     "end_time": "2023-10-23T17:05:03.383894Z",
     "start_time": "2023-10-23T17:05:02.831858Z"
    }
   },
   "outputs": [],
   "source": [
    "datasets = [create_dataset(rd,maxstamp=None) for rd in all_run_dicts]"
   ]
  },
  {
   "cell_type": "code",
   "execution_count": null,
   "metadata": {
    "ExecuteTime": {
     "end_time": "2023-10-23T17:05:03.419195Z",
     "start_time": "2023-10-23T17:05:03.412540Z"
    }
   },
   "outputs": [],
   "source": [
    "def plot_with_average_variance_line(ax,data,color,label,markerstyle,stamps,allow_partial):\n",
    "    #ax.scatter(data[:,0],data[:,1],c=color,alpha=1,marker=markerstyle)\n",
    "    xvals = []\n",
    "    yvals = []\n",
    "    times = []\n",
    "    stdyvals = []\n",
    "    for x,y in data:\n",
    "        if x not in xvals:\n",
    "            matching_inds = np.where(data[:,0]==x)[0]\n",
    "            corresponding_stamps = stamps[matching_inds]\n",
    "            if (not allow_partial) and len(corresponding_stamps) < 5:\n",
    "                continue\n",
    "            xvals.append(x)\n",
    "            most_recent_stamps = np.argsort(corresponding_stamps)[-5:]\n",
    "            most_recent_matching_data = data[matching_inds[most_recent_stamps]]\n",
    "            yvals.append(np.mean(most_recent_matching_data[:,1]))\n",
    "            stdyvals.append(np.std(most_recent_matching_data[:,1]))\n",
    "    xvals = np.array(xvals)\n",
    "    yvals = np.array(yvals)\n",
    "    stdyvals = np.array(stdyvals)\n",
    "    order = np.argsort(xvals)\n",
    "    if len(xvals) == 0:\n",
    "        return\n",
    "    ax.plot(xvals[order],yvals[order],c=color,label=label,zorder=2)\n",
    "    ax.scatter(xvals[order],yvals[order],c=color,alpha=1,marker=markerstyle,s=100,edgecolors= \"k\",linewidth=1,zorder=3)\n",
    "    ax.fill_between(xvals[order], yvals[order]-stdyvals[order], yvals[order]+stdyvals[order], facecolor=color, alpha=0.5,zorder=1)\n",
    "    "
   ]
  },
  {
   "cell_type": "code",
   "execution_count": null,
   "metadata": {
    "ExecuteTime": {
     "end_time": "2023-10-23T17:05:03.424732Z",
     "start_time": "2023-10-23T17:05:03.420500Z"
    }
   },
   "outputs": [],
   "source": [
    "dmpresults = np.load(\"../paper_calculations/dmpmodels/dmp_results_simple.npy\")\n",
    "dmpresults = dmpresults[dmpresults[:,0]>0]\n",
    "dmpresults = dmpresults[dmpresults[:,0]<17]\n",
    "# repeat five times with dummy dates so that these are plotted correctly (not filtered out for too few runs)\n",
    "datasets.append((dmpresults.repeat(5,0),np.ones(len(dmpresults)).repeat(5,0)))"
   ]
  },
  {
   "cell_type": "code",
   "execution_count": null,
   "metadata": {
    "ExecuteTime": {
     "end_time": "2023-10-23T17:05:03.431042Z",
     "start_time": "2023-10-23T17:05:03.426515Z"
    }
   },
   "outputs": [],
   "source": [
    "dmpresults"
   ]
  },
  {
   "cell_type": "code",
   "execution_count": null,
   "metadata": {
    "ExecuteTime": {
     "end_time": "2023-10-23T17:05:03.439975Z",
     "start_time": "2023-10-23T17:05:03.435727Z"
    }
   },
   "outputs": [],
   "source": [
    "\n",
    "pcaresults = np.load(\"../paper_calculations/pca_results.npy\")\n",
    "pcaresults = pcaresults[pcaresults[:,0]>0]\n",
    "pcaresults = pcaresults[pcaresults[:,0]<17]\n",
    "# repeat five times with dummy dates so that these are plotted correctly (not filtered out for too few runs)\n",
    "datasets.append((pcaresults.repeat(5,0),np.ones(len(pcaresults)).repeat(5,0)))"
   ]
  },
  {
   "cell_type": "code",
   "execution_count": null,
   "metadata": {
    "ExecuteTime": {
     "end_time": "2023-10-23T17:05:03.445618Z",
     "start_time": "2023-10-23T17:05:03.441640Z"
    },
    "scrolled": true
   },
   "outputs": [],
   "source": [
    "pcaresults"
   ]
  },
  {
   "cell_type": "code",
   "execution_count": null,
   "metadata": {
    "ExecuteTime": {
     "end_time": "2023-10-23T17:05:03.452560Z",
     "start_time": "2023-10-23T17:05:03.447025Z"
    }
   },
   "outputs": [],
   "source": [
    "datasets[-1]"
   ]
  },
  {
   "cell_type": "code",
   "execution_count": null,
   "metadata": {
    "ExecuteTime": {
     "end_time": "2023-10-23T17:05:03.456605Z",
     "start_time": "2023-10-23T17:05:03.454183Z"
    }
   },
   "outputs": [],
   "source": [
    "import matplotlib.lines as mlines \n",
    "#https://stackoverflow.com/questions/47391702/how-to-make-a-colored-markers-legend-from-scratch"
   ]
  },
  {
   "cell_type": "code",
   "execution_count": null,
   "metadata": {},
   "outputs": [],
   "source": [
    "import pickle\n"
   ]
  },
  {
   "cell_type": "code",
   "execution_count": null,
   "metadata": {
    "ExecuteTime": {
     "end_time": "2023-10-23T17:05:03.467679Z",
     "start_time": "2023-10-23T17:05:03.458161Z"
    },
    "scrolled": false
   },
   "outputs": [],
   "source": [
    "def save_plots(namebase,rateylim,toplot = None,labels=None,colors=None,shapes=None,labeltextcolor=\"white\",allow_partial=False):\n",
    "    \n",
    "    fsize=(8,6)\n",
    "    odds = [i for i in range(1,17) if i % 5 == 1]\n",
    "    \n",
    "    \n",
    "    if toplot is None:\n",
    "        toplot = range(len(datasets))\n",
    "    if labels is None:\n",
    "        labels = toplot\n",
    "    if colors is None:\n",
    "        colors = [f\"C{i}\" for i in range(len(labels))]\n",
    "    if shapes is None:\n",
    "        shapes = [\"o\"] * len(datasets)\n",
    "        \n",
    "    print((toplot,labels,colors,shapes))\n",
    "        \n",
    "    f = plt.figure(figsize=fsize)\n",
    "    ax = f.add_axes([0.1, 0.1, 0.8, 0.8])  # add the left Axes\n",
    "    for i,label,color,shape in zip(toplot,labels,colors,shapes):\n",
    "        dataval, stamps = datasets[i]\n",
    "        if len(dataval.shape) > 1 and dataval.shape[1] > 5: # No KL for PCA\n",
    "            plotdat = np.copy(dataval[:,(0,5)])\n",
    "            plotdat[:,1] = np.log2(plotdat[:,1])\n",
    "            plot_with_average_variance_line(ax, plotdat, color,label=f\"{label}\",markerstyle=shape, stamps=stamps,allow_partial=allow_partial)\n",
    "    ax.set_ylim(2,np.log2(rateylim))\n",
    "    ax.set_xlim(0.5,16.5)\n",
    "    ax.set_xticks(odds,odds)\n",
    "    ax.set_xticks(range(1,17),minor=True)\n",
    "    plt.savefig(f\"{namebase}LatentSweepRate.pdf\",bbox_inches=\"tight\")\n",
    "    \n",
    "    f = plt.figure(figsize=fsize)\n",
    "    ax = f.add_axes([0.1, 0.1, 0.8, 0.8])  # add the left Axes\n",
    "    for i,label,color,shape in zip(toplot,labels,colors,shapes):\n",
    "        dataval, stamps = datasets[i]\n",
    "        if len(dataval.shape) > 1:\n",
    "            plot_with_average_variance_line(ax, dataval[:,(0,1)],color,label=f\"{label}\",markerstyle=shape, stamps=stamps,allow_partial=allow_partial)\n",
    "    ax.set_ylim(0,1.2)\n",
    "    ax.set_xlim(0.5,16.5)\n",
    "    ax.set_xticks(odds,odds)\n",
    "    ax.set_xticks(range(1,17),minor=True)\n",
    "    plt.savefig(f\"{namebase}LatentSweepTrain.pdf\",bbox_inches=\"tight\")\n",
    "    \n",
    "    f = plt.figure(figsize=fsize)\n",
    "    ax = f.add_axes([0.1, 0.1, 0.8, 0.8])  # add the left Axes\n",
    "    legend_lines = []\n",
    "    for i,label,color,shape in zip(toplot,labels,colors,shapes):\n",
    "        dataval, stamps = datasets[i]\n",
    "        if len(dataval.shape) > 1:\n",
    "            plot_line_info = plot_with_average_variance_line(ax, dataval[:,(0,2)],color,label=f\"{label}\",markerstyle=shape, stamps=stamps,allow_partial=allow_partial)\n",
    "            legend_lines.append(\n",
    "                mlines.Line2D([], [], color=color, marker=shape, label=f\"{label}\",markersize=10,markeredgecolor= \"k\",markeredgewidth=1))\n",
    "            \n",
    "    ax.set_ylim(0,1.2)\n",
    "    ax.set_xlim(0.5,16.5)\n",
    "    ax.set_xticks(odds,odds)\n",
    "    ax.set_xticks(range(1,17),minor=True)\n",
    "    plt.legend(handles=legend_lines,labelcolor=labeltextcolor, frameon=False,labelspacing=0.4)\n",
    "    plt.savefig(f\"{namebase}LatentSweepTest.pdf\",bbox_inches=\"tight\")\n",
    "    plt.show()"
   ]
  },
  {
   "cell_type": "code",
   "execution_count": null,
   "metadata": {
    "ExecuteTime": {
     "end_time": "2023-10-23T17:05:03.473655Z",
     "start_time": "2023-10-23T17:05:03.469462Z"
    }
   },
   "outputs": [],
   "source": [
    "def is_base_config(testdict,must_not_match=[]):\n",
    "    checks = [(\"beta\",0.001),\n",
    "                (\"scalar_timewarper_name\",\"modeled_scalar_timewarper\"),\n",
    "                (\"decoder_name\",\"functional_decoder_complicated\"),\n",
    "                (\"dec_complicated_function_hidden_dims\",[200]),\n",
    "                (\"training_data_added_timing_noise\",0.1),\n",
    "                (\"vector_timewarper_name\",\"identity_vector_timewarper\"),\n",
    "                (\"encoder_name\", \"convolutional_encoder\"),\n",
    "                (\"use_rate_invariant_autoencoder\",1),\n",
    "                (\"use_rate_invariant_vae\",1),\n",
    "                (\"device\",\"cuda\"),\n",
    "                (\"emb_nonlinearity\",\"ReLU\"),\n",
    "                (\"dec_use_elu\",True),\n",
    "                (\"dec_use_tanh\",True)\n",
    "             ]\n",
    "    for check in checks:\n",
    "        #print(check[0])\n",
    "        if check[0] in must_not_match:\n",
    "            if safe_check_required_key_value(testdict,check[0],check[1]):\n",
    "                #print(\"The problem was NOTMATCH\",testdict,check[0],check[1])\n",
    "                return False\n",
    "        elif not safe_check_required_key_value(testdict,check[0],check[1]):\n",
    "            #print(\"The problem was\",testdict,check[0],check[1])\n",
    "            return False\n",
    "    return True"
   ]
  },
  {
   "cell_type": "code",
   "execution_count": null,
   "metadata": {},
   "outputs": [],
   "source": [
    "[d for d in all_run_dicts if safe_check_required_key_value(d,\"use_rate_invariant_autoencoder\",False)]"
   ]
  },
  {
   "cell_type": "code",
   "execution_count": null,
   "metadata": {
    "ExecuteTime": {
     "end_time": "2023-10-23T17:05:03.479137Z",
     "start_time": "2023-10-23T17:05:03.475389Z"
    },
    "scrolled": true
   },
   "outputs": [],
   "source": [
    "all_run_dicts[1]"
   ]
  },
  {
   "cell_type": "code",
   "execution_count": null,
   "metadata": {},
   "outputs": [],
   "source": [
    "[d for d in all_run_dicts if is_base_config(d,[\"use_rate_invariant_autoencoder\",\"use_rate_invariant_vae\",\"dec_use_tanh\"])]"
   ]
  },
  {
   "cell_type": "code",
   "execution_count": null,
   "metadata": {
    "ExecuteTime": {
     "end_time": "2023-10-23T17:05:03.485331Z",
     "start_time": "2023-10-23T17:05:03.480588Z"
    },
    "scrolled": true
   },
   "outputs": [],
   "source": [
    "[d for d in all_run_dicts if is_base_config(d,[\"beta\",\"decoder_name\",\"dec_complicated_function_hidden_dims\",\"scalar_timewarper_name\",\"use_rate_invariant_vae\",\"dec_use_tanh\"])]"
   ]
  },
  {
   "cell_type": "code",
   "execution_count": null,
   "metadata": {
    "ExecuteTime": {
     "end_time": "2023-10-23T17:05:03.495856Z",
     "start_time": "2023-10-23T17:05:03.487172Z"
    },
    "scrolled": true
   },
   "outputs": [],
   "source": [
    "#doesn't have a flag for dec_use_tanh, so we mark it here\n",
    "base_config_index = np.where(np.array([is_base_config(d,(\"use_rate_invariant_autoencoder\",\"use_rate_invariant_vae\",\"dec_use_tanh\")) for d in all_run_dicts]))[0].item()\n",
    "noise_off_index = np.where(np.array([is_base_config(d,[\"training_data_added_timing_noise\",\"use_rate_invariant_autoencoder\",\"use_rate_invariant_vae\",\"dec_use_tanh\"]) for d in all_run_dicts]))[0].item()\n",
    "timewarp_PCA_index = np.where(np.array([is_base_config(d,[\"dec_complicated_function_hidden_dims\",\"use_rate_invariant_autoencoder\",\"use_rate_invariant_vae\",\"dec_use_tanh\"]) for d in all_run_dicts]))[0].item()\n",
    "notimewarp_index = np.where(np.array([is_base_config(d,[\"scalar_timewarper_name\",\"use_rate_invariant_autoencoder\",\"use_rate_invariant_vae\",\"dec_use_tanh\"]) for d in all_run_dicts]))[0].item()\n",
    "\n",
    "conv_index = np.where(np.array([is_base_config(d,[\"decoder_name\",\"dec_complicated_function_hidden_dims\",\"scalar_timewarper_name\",\"use_rate_invariant_autoencoder\",\"use_rate_invariant_vae\",\"dec_use_tanh\"]) for d in all_run_dicts]))[0].item()\n",
    "no_noise_timewarp_PCA_index = np.where(np.array([is_base_config(d,[\"training_data_added_timing_noise\",\"dec_complicated_function_hidden_dims\",\"use_rate_invariant_autoencoder\",\"use_rate_invariant_vae\",\"dec_use_tanh\"]) for d in all_run_dicts]))[0].item()\n",
    "no_timewarp_PCA_index = np.where(np.array([is_base_config(d,[\"scalar_timewarper_name\",\"dec_complicated_function_hidden_dims\",\"use_rate_invariant_autoencoder\",\"use_rate_invariant_vae\",\"dec_use_tanh\"]) for d in all_run_dicts]))[0].item()\n",
    "\n",
    "beta_inds = list(np.where(np.array([is_base_config(d,[\"beta\",\"use_rate_invariant_autoencoder\",\"use_rate_invariant_vae\",\"dec_use_tanh\"]) for d in all_run_dicts]))[0])\n",
    "no_tw_beta_inds = list(np.where(np.array([is_base_config(d,[\"beta\",\"scalar_timewarper_name\",\"use_rate_invariant_autoencoder\",\"use_rate_invariant_vae\",\"dec_use_tanh\"]) for d in all_run_dicts]))[0])\n",
    "conv_beta_inds = list(np.where(np.array([is_base_config(d,[\"beta\",\"decoder_name\",\"dec_complicated_function_hidden_dims\",\"scalar_timewarper_name\",\"use_rate_invariant_autoencoder\",\"use_rate_invariant_vae\",\"dec_use_tanh\"]) for d in all_run_dicts]))[0])\n",
    "\n",
    "dtw_index = np.where(np.array([is_base_config(d,[\"vector_timewarper_name\", \"scalar_timewarper_name\",\"use_rate_invariant_autoencoder\",\"use_rate_invariant_vae\",\"dec_use_tanh\"]) for d in all_run_dicts]))[0].item()\n",
    "#trans_index = np.where(np.array([is_base_config(d,[\"encoder_name\",\"scalar_timewarper_name\"]) for d in all_run_dicts]))[0].item()\n",
    "\n",
    "ria_index = np.where(np.array([is_base_config(d,[\"scalar_timewarper_name\",\"decoder_name\",\"dec_complicated_function_hidden_dims\",\"use_rate_invariant_autoencoder\",\"emb_nonlinearity\",\"dec_use_elu\"]) for d in all_run_dicts]))[0].item()\n",
    "\n",
    "# 4 + 3 + 2 + 2 + 2\n",
    "print(len(all_run_dicts))"
   ]
  },
  {
   "cell_type": "code",
   "execution_count": null,
   "metadata": {},
   "outputs": [],
   "source": [
    "[all_run_dicts[b] for b in beta_inds]"
   ]
  },
  {
   "cell_type": "code",
   "execution_count": null,
   "metadata": {
    "scrolled": false
   },
   "outputs": [],
   "source": [
    "print(all_run_dicts[ria_index])"
   ]
  },
  {
   "cell_type": "code",
   "execution_count": null,
   "metadata": {},
   "outputs": [],
   "source": [
    "def print_matching_runs(sweep_dictionary, latent_dim=16, ignore_keys_list = [\"logname\",\"model_save_dir\",\"latent_dim\"], minstamp = None):\n",
    "    data = []\n",
    "    data_timestamps = []\n",
    "    rawdata = get_all_data()\n",
    "\n",
    "    for index, row in rawdata.iterrows():\n",
    "        configdict = json.loads(clean(row.config))\n",
    "        if (match_dict_values(configdict,sweep_dictionary,ignore_keys_list)\n",
    "                             and configdict[\"latent_dim\"]==latent_dim):\n",
    "            print(configdict[\"logname\"][:-4])\n",
    "            \n"
   ]
  },
  {
   "cell_type": "code",
   "execution_count": null,
   "metadata": {},
   "outputs": [],
   "source": [
    "for name, idval in [(\"timewarp:\", base_config_index),\n",
    "                    (\"nodataaug:\", noise_off_index),\n",
    "                    (\"nononlin:\", timewarp_PCA_index),\n",
    "                    (\"noTimewarp:\", notimewarp_index),\n",
    "                    (\"TimewarpVAEDTW\", dtw_index),\n",
    "                    (\"conv\",conv_index),\n",
    "                    (\"ria\",ria_index)\n",
    "                   ]:\n",
    "    print(name)                \n",
    "    print_matching_runs(all_run_dicts[idval])"
   ]
  },
  {
   "cell_type": "code",
   "execution_count": null,
   "metadata": {
    "ExecuteTime": {
     "end_time": "2023-10-23T17:05:03.503215Z",
     "start_time": "2023-10-23T17:05:03.497252Z"
    }
   },
   "outputs": [],
   "source": [
    "import matplotlib\n",
    "font = {        'size'   : 22}\n",
    "\n",
    "matplotlib.rc('font', **font)"
   ]
  },
  {
   "cell_type": "code",
   "execution_count": null,
   "metadata": {
    "ExecuteTime": {
     "end_time": "2023-10-23T17:05:04.257734Z",
     "start_time": "2023-10-23T17:05:03.504701Z"
    },
    "scrolled": false
   },
   "outputs": [],
   "source": [
    "save_plots(\"ablation\",rateylim=115,toplot=[base_config_index,noise_off_index,timewarp_PCA_index,notimewarp_index],\n",
    "           labels=[\"TimewarpVAE\",\"ndaug\",\"nnonlin\",\"NoTimewarp\"],\n",
    "          shapes=[\"o\",\"P\",\"X\",\".\"])"
   ]
  },
  {
   "cell_type": "code",
   "execution_count": null,
   "metadata": {},
   "outputs": [],
   "source": []
  },
  {
   "cell_type": "code",
   "execution_count": null,
   "metadata": {
    "ExecuteTime": {
     "end_time": "2023-10-23T17:05:04.920403Z",
     "start_time": "2023-10-23T17:05:04.259088Z"
    }
   },
   "outputs": [],
   "source": [
    "save_plots(\"conv\",rateylim=500,toplot=[base_config_index,no_timewarp_PCA_index,no_noise_timewarp_PCA_index],\n",
    "           labels=[\"TimewarpVAE\",\"NoTWNoNonlinear\",\"NoNoiseNoNonlinear\"])"
   ]
  },
  {
   "cell_type": "code",
   "execution_count": null,
   "metadata": {
    "ExecuteTime": {
     "end_time": "2023-10-23T17:05:06.278367Z",
     "start_time": "2023-10-23T17:05:04.921780Z"
    },
    "scrolled": false
   },
   "outputs": [],
   "source": [
    "save_plots(\"beta\",rateylim=100,toplot=[base_config_index] + beta_inds)\n",
    "save_plots(\"BetaNoTw\",rateylim=100,toplot=[base_config_index] + no_tw_beta_inds + [notimewarp_index])"
   ]
  },
  {
   "cell_type": "code",
   "execution_count": null,
   "metadata": {
    "ExecuteTime": {
     "end_time": "2023-10-23T17:05:06.284193Z",
     "start_time": "2023-10-23T17:05:06.279749Z"
    }
   },
   "outputs": [],
   "source": [
    "def rate_distortion(namebase,rateylim,latent_dim,toplot,colors=None,shapes=None):\n",
    "    fsize=(8,6)\n",
    "    if colors is None:\n",
    "        colors = [f\"C{i}\" for i in range(2)]\n",
    "    if shapes is None:\n",
    "        shapes = [\"o\"] * len(datasets)\n",
    "        \n",
    "    f = plt.figure(figsize=fsize)\n",
    "    ax = f.add_axes([0.1, 0.1, 0.8, 0.8])  # add the left Axes\n",
    "    for i in toplot:\n",
    "        dataval = datasets[i][0]\n",
    "        dataval = dataval[dataval[:,0]==latent_dim]\n",
    "        ax.scatter(dataval[:,5],dataval[:,1],c=colors[0],label=f\"Training\" if i == 0 else None,marker=shapes[0])\n",
    "        ax.scatter(dataval[:,5],dataval[:,2],c=colors[1],label=f\"Test\" if i == 0 else None,marker=shapes[1])\n",
    "    ax.set_xlim(0,rateylim)\n",
    "    ax.set_ylim(0,1)\n",
    "    plt.legend()\n",
    "    plt.savefig(f\"{namebase}RateDistortion.pdf\",bbox_inches=\"tight\")\n",
    "    "
   ]
  },
  {
   "cell_type": "code",
   "execution_count": null,
   "metadata": {
    "ExecuteTime": {
     "end_time": "2023-10-23T17:05:06.617485Z",
     "start_time": "2023-10-23T17:05:06.285770Z"
    },
    "scrolled": false
   },
   "outputs": [],
   "source": [
    "rate_distortion(\"base\",100,16,[base_config_index] + beta_inds,colors=None,shapes=None)"
   ]
  },
  {
   "cell_type": "code",
   "execution_count": null,
   "metadata": {
    "ExecuteTime": {
     "end_time": "2023-10-23T17:05:06.621413Z",
     "start_time": "2023-10-23T17:05:06.619082Z"
    }
   },
   "outputs": [],
   "source": [
    "# These base distortion results make sense compared to bottom right of figure 3 in http://proceedings.mlr.press/v130/bozkurt21a/bozkurt21a.pdf\n",
    "# but they aren't very \"excitign\""
   ]
  },
  {
   "cell_type": "code",
   "execution_count": null,
   "metadata": {
    "ExecuteTime": {
     "end_time": "2023-10-23T17:09:33.124134Z",
     "start_time": "2023-10-23T17:09:32.399663Z"
    },
    "scrolled": false
   },
   "outputs": [],
   "source": [
    "all_conv_inds = conv_beta_inds + [conv_index]\n",
    "conv_betas = [all_run_dicts[ix][\"beta\"] for ix in all_conv_inds]\n",
    "sortorder = np.argsort(conv_betas)\n",
    "sorted_conv_inds = [all_conv_inds[s] for s in sortorder]\n",
    "all_timewarpvae_indices =  [base_config_index] + beta_inds\n",
    "timewarpvae_betas = [all_run_dicts[ix][\"beta\"] for ix in all_timewarpvae_indices]\n",
    "twvae_sortorder = np.argsort(timewarpvae_betas)\n",
    "sorted_twvae_inds = [all_timewarpvae_indices[s] for s in twvae_sortorder]\n",
    "\n",
    "print(\"twvae:\",sorted_twvae_inds[:2])\n",
    "print(\"conv:\",sorted_conv_inds)\n",
    "# just plot the first 2 betas\n",
    "labels = [f\"TimewarpVAEbt{timewarpvae_betas[s]}\" for s in twvae_sortorder[1:3]] + [f\"Conv{conv_betas[s]}\" for s in sortorder[:2]]+ [\"DMP\"]+ [\"PCA\"] + [\"RIA\"]\n",
    "save_plots(\"BetaConvTwo\",rateylim=500,\n",
    "           toplot=sorted_twvae_inds[:2] + sorted_conv_inds[:2]+ [-2] + [-1]+ [ria_index], \n",
    "           labels=labels,\n",
    "           colors=[\"C0\"]*2 + [\"C1\"]*2 +[\"C3\"]+[\"C2\"]+[\"C4\"],\n",
    "          shapes=[\"o\",\"X\"]*2 + [\"*\"] + [\".\"] + [\"^\"],\n",
    "          labeltextcolor=\"white\",\n",
    "          allow_partial=False)"
   ]
  },
  {
   "cell_type": "code",
   "execution_count": null,
   "metadata": {
    "ExecuteTime": {
     "end_time": "2023-10-23T17:05:08.026440Z",
     "start_time": "2023-10-23T17:05:07.309659Z"
    },
    "scrolled": false
   },
   "outputs": [],
   "source": [
    "all_conv_inds = conv_beta_inds + [conv_index]\n",
    "conv_betas = [all_run_dicts[ix][\"beta\"] for ix in all_conv_inds]\n",
    "sortorder = np.argsort(conv_betas)\n",
    "sorted_conv_inds = [all_conv_inds[s] for s in sortorder]\n",
    "all_timewarpvae_indices =  [base_config_index] + beta_inds\n",
    "timewarpvae_betas = [all_run_dicts[ix][\"beta\"] for ix in all_timewarpvae_indices]\n",
    "twvae_sortorder = np.argsort(timewarpvae_betas)\n",
    "sorted_twvae_inds = [all_timewarpvae_indices[s] for s in twvae_sortorder]\n",
    "\n",
    "labels = [f\"TimewarpVAEbt{timewarpvae_betas[s]}\" for s in twvae_sortorder] + [f\"Conv{conv_betas[s]}\" for s in sortorder]\n",
    "save_plots(\"BetaConv\",rateylim=500,toplot=sorted_twvae_inds + sorted_conv_inds, \n",
    "           labels=labels,\n",
    "           colors=[\"C0\"]*4 + [\"C1\"]*4,\n",
    "          shapes=[\"o\",\"P\",\"X\",\"*\"]*2,\n",
    "          labeltextcolor=\"white\")"
   ]
  },
  {
   "cell_type": "code",
   "execution_count": null,
   "metadata": {
    "ExecuteTime": {
     "end_time": "2023-10-23T17:05:08.613809Z",
     "start_time": "2023-10-23T17:05:08.028245Z"
    }
   },
   "outputs": [],
   "source": [
    "dtw_index\n",
    "#trans_index\n",
    "base_config_index\n",
    "\n",
    "save_plots(\"TimewarpVAEDTW\",rateylim=100,toplot=[base_config_index,dtw_index], \n",
    "           labels=[\"TimewarpVAE\", \"beta-VAE DTW---sp\"],\n",
    "           colors=[\"C0\",\"C1\"],\n",
    "          shapes=[\"o\",\"P\"],\n",
    "          labeltextcolor=\"white\")"
   ]
  },
  {
   "cell_type": "code",
   "execution_count": null,
   "metadata": {},
   "outputs": [],
   "source": []
  },
  {
   "cell_type": "code",
   "execution_count": null,
   "metadata": {},
   "outputs": [],
   "source": []
  },
  {
   "cell_type": "code",
   "execution_count": null,
   "metadata": {},
   "outputs": [],
   "source": []
  },
  {
   "cell_type": "code",
   "execution_count": null,
   "metadata": {},
   "outputs": [],
   "source": []
  },
  {
   "cell_type": "code",
   "execution_count": null,
   "metadata": {},
   "outputs": [],
   "source": []
  },
  {
   "cell_type": "code",
   "execution_count": null,
   "metadata": {},
   "outputs": [],
   "source": []
  },
  {
   "cell_type": "code",
   "execution_count": null,
   "metadata": {},
   "outputs": [],
   "source": []
  },
  {
   "cell_type": "code",
   "execution_count": null,
   "metadata": {},
   "outputs": [],
   "source": []
  },
  {
   "cell_type": "code",
   "execution_count": null,
   "metadata": {},
   "outputs": [],
   "source": []
  }
 ],
 "metadata": {
  "kernelspec": {
   "display_name": "Python 3",
   "language": "python",
   "name": "python3"
  },
  "language_info": {
   "codemirror_mode": {
    "name": "ipython",
    "version": 3
   },
   "file_extension": ".py",
   "mimetype": "text/x-python",
   "name": "python",
   "nbconvert_exporter": "python",
   "pygments_lexer": "ipython3",
   "version": "3.8.10"
  }
 },
 "nbformat": 4,
 "nbformat_minor": 5
}
