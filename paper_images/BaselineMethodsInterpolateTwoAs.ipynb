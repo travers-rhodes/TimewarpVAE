{
 "cells": [
  {
   "cell_type": "code",
   "execution_count": null,
   "id": "1a4e690a",
   "metadata": {
    "ExecuteTime": {
     "end_time": "2023-09-17T00:12:36.941080Z",
     "start_time": "2023-09-17T00:12:32.964315Z"
    }
   },
   "outputs": [],
   "source": [
    "import numpy as np\n",
    "import matplotlib.pyplot as plt\n",
    "import timewarp_lib.load_model as lm\n",
    "import timewarp_lib.train_utils as tu\n",
    "import torch\n",
    "import pandas as pd\n",
    "import json\n",
    "import numpy as np"
   ]
  },
  {
   "cell_type": "code",
   "execution_count": null,
   "id": "239425e8",
   "metadata": {
    "ExecuteTime": {
     "end_time": "2023-09-17T00:12:36.951736Z",
     "start_time": "2023-09-17T00:12:36.946625Z"
    }
   },
   "outputs": [],
   "source": [
    "cmap = plt.get_cmap(\"viridis\")"
   ]
  },
  {
   "cell_type": "code",
   "execution_count": null,
   "id": "27e3ec9d",
   "metadata": {
    "ExecuteTime": {
     "end_time": "2023-09-17T00:12:36.960767Z",
     "start_time": "2023-09-17T00:12:36.955478Z"
    }
   },
   "outputs": [],
   "source": [
    "\n"
   ]
  },
  {
   "cell_type": "code",
   "execution_count": null,
   "id": "b99061dd",
   "metadata": {
    "ExecuteTime": {
     "end_time": "2023-09-17T00:12:37.000546Z",
     "start_time": "2023-09-17T00:12:36.964904Z"
    }
   },
   "outputs": [],
   "source": [
    "datatype = \"train\"\n",
    "dtype=torch.float\n",
    "device=\"cpu\"\n",
    "batch_size=100\n",
    "training_data_timing_noise=0\n",
    "\n",
    "dataName = \"../data/trainTest2DLetterARescaled.npz\"\n",
    "# the datafile has information on how the data was cleaned\n",
    "# the learned/applied model is on clean data\n",
    "# so we need to convert back to trajectory data\n",
    "loaded_data_dict = np.load(dataName)\n",
    "\n",
    "ydata = torch.tensor(loaded_data_dict[datatype],dtype=dtype).to(device)\n",
    "np_ydata = ydata.detach().cpu().numpy()\n",
    "num_trajs, numts, traj_channels = ydata.shape\n",
    "tdata = torch.tensor(np.linspace(0,1,numts),dtype=dtype).to(device).expand(num_trajs,numts).unsqueeze(2)\n",
    "\n",
    "torch_train_data = torch.utils.data.TensorDataset(tdata, ydata)\n",
    "training_dataloader = torch.utils.data.DataLoader(torch_train_data, batch_size=batch_size, shuffle=True)"
   ]
  },
  {
   "cell_type": "code",
   "execution_count": null,
   "id": "36f038a9",
   "metadata": {
    "ExecuteTime": {
     "end_time": "2023-09-17T00:12:37.011980Z",
     "start_time": "2023-09-17T00:12:37.006670Z"
    }
   },
   "outputs": [],
   "source": [
    "ixs=(10,15)"
   ]
  },
  {
   "cell_type": "code",
   "execution_count": null,
   "id": "7c5b69aa",
   "metadata": {
    "ExecuteTime": {
     "end_time": "2023-09-17T00:12:37.075549Z",
     "start_time": "2023-09-17T00:12:37.017401Z"
    },
    "scrolled": false
   },
   "outputs": [],
   "source": [
    "pose_mean = loaded_data_dict[\"pose_mean\"]\n",
    "pose_scaling = loaded_data_dict[\"pose_scaling\"]\n",
    "\n",
    "#saved_model_dir = clean_model_dirs[0]\n",
    "#modelApplier = lm.LoadedModel(saved_model_dir)\n",
    "#modeldatafileobj = np.load(f\"{saved_model_dir}/saved_model_info.npz\",allow_pickle=True)\n",
    "#modeldata = {key : (modeldatafileobj[key] if key != \"initialization_function\" else True) for key in modeldatafileobj.keys()}\n",
    "#num_timesteps = 200\n",
    "#num_channels = 2\n",
    "#latent_dim = (int)(modeldata[\"latent_dim\"])\n",
    "#\n",
    "#hi=modelApplier.model\n",
    "\n",
    "#embeds,_ = hi.encoder.encode(ydata[ixs,],tdata[ixs,])\n",
    "#embeds = embeds.detach().cpu().numpy()\n",
    "#\n",
    "#scaled_ts = hi.scalar_timewarper.timewarp(ydata[ixs,],tdata[ixs,]).detach().cpu().numpy()\n",
    "\n",
    "lambd = np.linspace(0,1,3)\n",
    "#interpembeds = torch.tensor(np.array([embeds[0] * (1-l) + embeds[1] * (l) for l in lambd]))\n",
    "#interpscaled_ts = torch.tensor(np.array([scaled_ts[0] * (1-l) + scaled_ts[1] * (l) for l in lambd]))\n",
    "canonical_ts = torch.tensor(np.array([np.array(tdata[0,] * (1-l) + tdata[1,] * (l)) for l in lambd]))\n",
    "#realtimed_trajs = hi.decoder.decode(interpembeds, interpscaled_ts).detach().numpy()\n",
    "#canonicaltime_trajs = hi.decoder.decode(interpembeds, canonical_ts).detach().numpy()\n",
    "naiveaverage_trajs = np.array([np_ydata[ixs[0]] * (1-l) + np_ydata[ixs[1]] * (l) for l in lambd])\n",
    "\n",
    "lambd2 = np.linspace(0,1,11)\n",
    "#full_interpembeds = torch.tensor(np.array([embeds[0] * (1-l) + embeds[1] * (l) for l in lambd2]))\n",
    "full_canonical_ts = torch.tensor(np.array([np.array(tdata[0,] * (1-l) + tdata[1,] * (l)) for l in lambd2]))\n",
    "#full_canonicaltime_trajs = hi.decoder.decode(full_interpembeds, full_canonical_ts).detach().numpy()"
   ]
  },
  {
   "cell_type": "code",
   "execution_count": null,
   "id": "46c9703d",
   "metadata": {},
   "outputs": [],
   "source": [
    "from dtw import *\n",
    "query = np_ydata[ixs[0],]\n",
    "template = np_ydata[ixs[1]]\n",
    "# symmetric2 is the normalizable, symmetric, with no local slope constraints. Since one diagonal step costs as much as the two equivalent steps along the sides, it can be normalized dividing by N+M (query+reference lengths). It is widely used and the default.\n",
    "alignment = dtw(query,template, keep_internals=True)\n"
   ]
  },
  {
   "cell_type": "code",
   "execution_count": null,
   "id": "389ee04f",
   "metadata": {},
   "outputs": [],
   "source": [
    "for i in range(len(alignment.index1)):\n",
    "    start = query[alignment.index1[i]]\n",
    "    end = template[alignment.index2[i]]\n",
    "    color = \"gray\"\n",
    "    plt.plot((start[0],end[0]),(start[1],end[1]),c=color,alpha=0.3)\n",
    "\n",
    "trajs = []\n",
    "plt.plot(query[:,0],query[:,1],c=\"k\")\n",
    "plt.plot(template[:,0]+0*4,template[:,1],c=\"k\")\n",
    "dtwaverage_trajs = []\n",
    "all_interp_ts = []\n",
    "unif_ts1 = np.linspace(0,1,len(query))\n",
    "unif_ts2 = np.linspace(0,1,len(template))\n",
    "for l in lambd:\n",
    "    interp_weight = l\n",
    "    interp_line = []\n",
    "    interp_ts = []\n",
    "    for j in range(len(alignment.index1)):\n",
    "        start = query[alignment.index1[j]]\n",
    "        end = template[alignment.index2[j]]\n",
    "        start_t =unif_ts1[alignment.index1[j]]\n",
    "        end_t =unif_ts2[alignment.index2[j]]\n",
    "        interp_line.append((start*(1-interp_weight) + end*interp_weight))\n",
    "        interp_ts.append((start_t*(1-interp_weight) + end_t*interp_weight))\n",
    "    interp_line = np.array(interp_line)\n",
    "    interp_ts = np.array(interp_ts)\n",
    "    dtwaverage_trajs.append(interp_line)\n",
    "    all_interp_ts.append(interp_ts)\n",
    "dtwaverage_trajs = np.array(dtwaverage_trajs)\n",
    "all_interp_ts = np.array(all_interp_ts)\n",
    "plt.axis(\"equal\")\n",
    "plt.axis(\"off\")"
   ]
  },
  {
   "cell_type": "code",
   "execution_count": null,
   "id": "b45b7025",
   "metadata": {
    "scrolled": true
   },
   "outputs": [],
   "source": [
    "arr = [tdata[0,] * (1-l) + tdata[1,] * (l) for l in lambd]\n",
    "[print(a.shape) for a in arr]"
   ]
  },
  {
   "cell_type": "code",
   "execution_count": null,
   "id": "589f5201",
   "metadata": {},
   "outputs": [],
   "source": [
    "import matplotlib\n",
    "font = {        'size'   : 22}\n",
    "\n",
    "matplotlib.rc('font', **font)"
   ]
  },
  {
   "cell_type": "code",
   "execution_count": null,
   "id": "94e32afe",
   "metadata": {},
   "outputs": [],
   "source": [
    "import matplotlib.lines as mlines \n",
    "#https://stackoverflow.com/questions/47391702/how-to-make-a-colored-markers-legend-from-scratch"
   ]
  },
  {
   "cell_type": "code",
   "execution_count": null,
   "id": "02b32423",
   "metadata": {
    "scrolled": false
   },
   "outputs": [],
   "source": [
    "plot_order = [2,0,1]\n",
    "for trajs,specified_ts,full_interp,name,ts  in [\n",
    "    (dtwaverage_trajs,[210,228,238],dtwaverage_trajs,\"dtw\",all_interp_ts[1]),\n",
    "    (naiveaverage_trajs,[118,130,139],naiveaverage_trajs,\"naive\",np.linspace(0,1,len(naiveaverage_trajs[0])))\n",
    "    ]:\n",
    "\n",
    "    linestyles = [\"dotted\", \"dashed\",\"dashdot\"]\n",
    "    \n",
    "    f = plt.figure(figsize=(8,16))\n",
    "    smallht = 0.37/2\n",
    "    ax1 = f.add_axes([0.1, 0.6, 0.8, 0.4])  # add the left Axes\n",
    "    ax2 = f.add_axes([0.1, 0.1, 0.8, smallht])  # add the bottomright Axes\n",
    "    ax3 = f.add_axes([0.1, 0.5-smallht, 0.8, smallht])  # add the topright Axes\n",
    "\n",
    "    alpha = 0.5\n",
    "    threeixs = (0,1,-1)\n",
    "    legend_lines = []\n",
    "    shapes =[\"+\",None,\"x\"]\n",
    "    for i,traj in zip(plot_order,trajs[plot_order]):\n",
    "        legend_lines.append(\n",
    "            mlines.Line2D([], [], color=cmap(i/3), marker=shapes[i], label=f\"---------\",\n",
    "                          markersize=10,markeredgecolor= cmap(i/3),markeredgewidth=1))\n",
    "\n",
    "        ax1.plot(traj[:,0],traj[:,1],c=cmap(i/3),\n",
    "                 linewidth=2 if i != 1 else 8,\n",
    "                 alpha=alpha if i != 1 else 0.9, zorder=1,marker=shapes[i],markeredgecolor=cmap(i/3))\n",
    "    for i,t in enumerate(specified_ts):\n",
    "        t = (int)(t)\n",
    "        ax1.plot(full_interp[:,t,0],full_interp[:,t,1],c=\"k\",linestyle=linestyles[i])\n",
    "        ax1.scatter(trajs[:,t,0],trajs[:,t,1],c=cmap((0,1/3,2/3)),\n",
    "                    alpha=1,edgecolors= \"k\",linewidth=1, zorder=2)\n",
    "    ax1.legend(handles=legend_lines,labelcolor=\"white\", frameon=False)\n",
    "    ax1.set_xlim(-2.5,3)\n",
    "    ax1.set_ylim(-2,3.5)\n",
    "\n",
    "    for pltax, axis, axisname in ((ax2,0,\"X\"),(ax3, 1,\"Y\")):\n",
    "        for i,traj in zip(plot_order,trajs[plot_order]):\n",
    "            pltax.plot(ts,traj[:,axis],c=cmap(i/3),\n",
    "                     linewidth=2 if i != 1 else 5,\n",
    "                     alpha=alpha if i != 1 else 0.9, zorder=1)\n",
    "        for i,t in enumerate(specified_ts):\n",
    "            pltax.plot(ts[t].repeat(3),trajs[:,t,axis],c=\"k\",linestyle=linestyles[i])\n",
    "            pltax.scatter(ts[t].repeat(3),trajs[:,t,axis],c=cmap((0,1/3,2/3)),\n",
    "                        alpha=1,edgecolors= \"k\",linewidth=1, zorder=2)\n",
    "        if axis==1:\n",
    "            pltax.set_xticklabels([])\n",
    "            pltax.set_ylim(-2,3.5)\n",
    "        else:\n",
    "            pltax.set_ylim(-2.5,3)\n",
    "    plt.savefig(f\"{name}InterpolationA.pdf\",bbox_inches=matplotlib.transforms.Bbox([[0,0], [8,16]]))\n",
    "    plt.show()"
   ]
  },
  {
   "cell_type": "code",
   "execution_count": null,
   "id": "90611312",
   "metadata": {},
   "outputs": [],
   "source": []
  },
  {
   "cell_type": "code",
   "execution_count": null,
   "id": "b36d7522",
   "metadata": {},
   "outputs": [],
   "source": []
  }
 ],
 "metadata": {
  "kernelspec": {
   "display_name": "Python 3 (ipykernel)",
   "language": "python",
   "name": "python3"
  },
  "language_info": {
   "codemirror_mode": {
    "name": "ipython",
    "version": 3
   },
   "file_extension": ".py",
   "mimetype": "text/x-python",
   "name": "python",
   "nbconvert_exporter": "python",
   "pygments_lexer": "ipython3",
   "version": "3.8.16"
  }
 },
 "nbformat": 4,
 "nbformat_minor": 5
}
