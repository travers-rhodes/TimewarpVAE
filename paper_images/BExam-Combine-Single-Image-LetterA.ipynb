{
 "cells": [
  {
   "cell_type": "code",
   "execution_count": 50,
   "id": "15e9b416",
   "metadata": {
    "scrolled": true
   },
   "outputs": [],
   "source": [
    "from PIL import Image\n",
    "from PIL import ImageFont\n",
    "from PIL import ImageDraw\n",
    "from matplotlib import font_manager\n",
    "\n",
    "#font = font_manager.FontProperties(family='sans-serif')\n",
    "file = font_manager.findfont(\"Noto Sans\")\n",
    "font = ImageFont.truetype(file, 16)\n"
   ]
  },
  {
   "cell_type": "code",
   "execution_count": 56,
   "id": "331b069d",
   "metadata": {},
   "outputs": [],
   "source": [
    "new_index = 1\n",
    "for framenumber in range(1,101):\n",
    "    #Read the six images\n",
    "    ims = []\n",
    "    for sweepaxis in range(16):\n",
    "        im = Image.open(f\"animatedLatentLetterA/latent{sweepaxis}-frame{framenumber}.png\")\n",
    "        im = im.resize((195, 195))\n",
    "        #im = im.crop((40,200 if elev == 10 else 100,440,480))\n",
    "        ims.append(im)\n",
    "    new_image = Image.new('RGB',(1200,850), (255,255,255))\n",
    "    draw = ImageDraw.Draw(new_image)    \n",
    "    for i in range(16):\n",
    "        new_image.paste(ims[i],((i%4)*300,int(i/4)*200))\n",
    "    for i in range(16):\n",
    "        draw.text(((i%4)*300+80,int(i/4)*200+180),f\"Latent {i}\",(0,0,0),font=font)\n",
    "    new_image.save(f\"animatedLatentLetterA/mergedLetterALatentsImage{new_index}.jpg\",\"JPEG\")\n",
    "    new_index+=1\n",
    "    #new_image.show()\n",
    "    #break"
   ]
  },
  {
   "cell_type": "code",
   "execution_count": null,
   "id": "6b9a692c",
   "metadata": {},
   "outputs": [],
   "source": []
  }
 ],
 "metadata": {
  "kernelspec": {
   "display_name": "Python 3 (ipykernel)",
   "language": "python",
   "name": "python3"
  },
  "language_info": {
   "codemirror_mode": {
    "name": "ipython",
    "version": 3
   },
   "file_extension": ".py",
   "mimetype": "text/x-python",
   "name": "python",
   "nbconvert_exporter": "python",
   "pygments_lexer": "ipython3",
   "version": "3.8.16"
  }
 },
 "nbformat": 4,
 "nbformat_minor": 5
}
