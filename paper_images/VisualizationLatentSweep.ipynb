{
 "cells": [
  {
   "cell_type": "code",
   "execution_count": null,
   "id": "8b8d3748",
   "metadata": {
    "ExecuteTime": {
     "end_time": "2023-02-23T17:48:06.858883Z",
     "start_time": "2023-02-23T17:48:04.183563Z"
    }
   },
   "outputs": [],
   "source": [
    "%matplotlib inline\n",
    "import sys\n",
    "sys.path.append(\"..\")\n",
    "sys.path.append(\"../train_model\")\n",
    "\n",
    "import glob\n",
    "import torch\n",
    "import numpy as np\n",
    "import matplotlib.pyplot as plt\n",
    "import timewarp_lib.load_model as lm\n",
    "\n",
    "import transforms3d as t3d\n",
    "from stl import mesh\n",
    "import mpl_toolkits.mplot3d as mplot3d\n",
    "\n",
    "#import cpp_dtw as cdtw"
   ]
  },
  {
   "cell_type": "code",
   "execution_count": null,
   "id": "a7d83fb9",
   "metadata": {},
   "outputs": [],
   "source": []
  },
  {
   "cell_type": "code",
   "execution_count": null,
   "id": "9f729910",
   "metadata": {
    "ExecuteTime": {
     "end_time": "2023-02-23T17:48:06.865252Z",
     "start_time": "2023-02-23T17:48:06.861502Z"
    }
   },
   "outputs": [],
   "source": [
    "datapath = \"../forkdata/forkTrajectoryData.npz\"\n",
    "model_path_template = \"../results/retrainedforkdata/{timestr}/savedmodel\"\n",
    "rawdata = np.load(datapath)"
   ]
  },
  {
   "cell_type": "code",
   "execution_count": null,
   "id": "68cfadb0",
   "metadata": {
    "ExecuteTime": {
     "end_time": "2023-02-23T17:48:08.142393Z",
     "start_time": "2023-02-23T17:48:08.126724Z"
    }
   },
   "outputs": [],
   "source": [
    "summary=[]\n",
    "testsummary=[]\n",
    "train = rawdata[\"train\"]\n",
    "test = rawdata[\"test\"]\n",
    "TRAJLEN = 200\n",
    "train_tensor = torch.tensor(rawdata[\"train\"],dtype=torch.float)\n"
   ]
  },
  {
   "cell_type": "code",
   "execution_count": null,
   "id": "a921b806",
   "metadata": {},
   "outputs": [],
   "source": [
    "def load_this_model(modelname,train):\n",
    "    model = lm.LoadedModel(modelname)\n",
    "    ts = torch.tensor(np.linspace(0,1,train.shape[1]).reshape((1,train.shape[1],1)), dtype=torch.float).expand((train.shape[0],train.shape[1],1))\n",
    "    recons, mu, logvar, scaled_ts = model.model.noiseless_forward(train,ts)\n",
    "\n",
    "    return mu, recons, scaled_ts, model"
   ]
  },
  {
   "cell_type": "code",
   "execution_count": null,
   "id": "655784a3",
   "metadata": {
    "ExecuteTime": {
     "end_time": "2023-02-23T17:49:03.787169Z",
     "start_time": "2023-02-23T17:49:03.773980Z"
    }
   },
   "outputs": [],
   "source": [
    "from IPython.display import display\n",
    "\n",
    "def plot_1d_sweep(modelname,axes, sweepaxis=0,num_trajs_to_plot=11):\n",
    "    cmap = plt.get_cmap(\"viridis\")\n",
    "    model = lm.LoadedModel(modelname)\n",
    "    print(model.modeldata)\n",
    "    # Create a new plot\n",
    "    model_data_path = \"../\"+str(model.modeldata[\"datafile\"])\n",
    "    modeldata_info = np.load(model_data_path)\n",
    "    pose_scaling = modeldata_info[\"pose_scaling\"]\n",
    "    pose_mean = modeldata_info[\"pose_mean\"]\n",
    "    train = torch.tensor(rawdata[\"train\"],dtype=torch.float)\n",
    "    embed, recons, scaled_ts, model = load_this_model(modelname,train)\n",
    "    #print(embed)\n",
    "    latent_dim = model.modeldata[\"latent_dim\"]\n",
    "    num_timesteps = TRAJLEN\n",
    "    \n",
    "    scaled_ts = scaled_ts.detach().cpu().numpy()\n",
    "    npts = np.mean(scaled_ts,axis=0,keepdims=True)\n",
    "    scaled_ts = torch.tensor(npts,dtype=torch.float).expand((num_trajs_to_plot,num_timesteps,1))\n",
    "    \n",
    "    embednp = embed.detach().cpu().numpy()\n",
    "    sweep_embed = np.zeros(shape=(num_trajs_to_plot,latent_dim))    \n",
    "    for i in range(latent_dim):\n",
    "        sweep_embed[:,i] = np.median(embednp[:,i])\n",
    "    med_sweep_embed = torch.tensor(sweep_embed,dtype=torch.float)\n",
    "    med_traj = model.model.decoder.decode(med_sweep_embed[:1],scaled_ts[:1]).detach().numpy()\n",
    "\n",
    "    unscale_recons = (med_traj / pose_scaling) + pose_mean\n",
    "    \n",
    "    #xs = unscale_recons[0,:TRAJLEN,0]\n",
    "    #ys = unscale_recons[0,:TRAJLEN,1]\n",
    "    #zs = unscale_recons[0,:TRAJLEN,2]\n",
    "    #axes.plot(xs,ys,zs,color=\"k\",linewidth=10)\n",
    "    #\n",
    "    median_result_trajs = model.model.decoder.decode(med_sweep_embed,scaled_ts).detach().numpy()\n",
    "    for i in range(latent_dim):\n",
    "        sweep_embed[:,i] = np.median(embednp[:,i])\n",
    "    sweep_embed[:,sweepaxis] = np.percentile(embednp[:,sweepaxis],np.linspace(2,98,num_trajs_to_plot).astype(int))\n",
    "    \n",
    "    sweep_embed = torch.tensor(sweep_embed,dtype=torch.float)\n",
    "    \n",
    "    result_trajs = model.model.decoder.decode(sweep_embed,scaled_ts).detach().numpy()\n",
    "\n",
    "    \n",
    "    sweep_embed = sweep_embed.detach().cpu().numpy()\n",
    "    recons = result_trajs#.detach().cpu().numpy()\n",
    "    train = train.detach().cpu().numpy()\n",
    "    \n",
    "    \n",
    "    # matplotlib doesn't do raytracing, so we gotta manually plot in order\n",
    "    \n",
    "    minembed = np.min(sweep_embed[:,sweepaxis]) if sweep_embed.shape[1]>0 else 0\n",
    "    maxembed = np.max(sweep_embed[:,sweepaxis]) if sweep_embed.shape[1]>0 else 0\n",
    "    order = np.argsort(-sweep_embed[:,sweepaxis]) if model.modeldata[\"latent_dim\"] > 0 else np.arange(len(train))\n",
    "    for rto, raytracing_order in enumerate([order]):#,np.argsort(embed.flatten())]):\n",
    "        for name,data in [(\"Reconstructed\",result_trajs)]: #\n",
    "            th = np.linspace(0,np.pi*2,200)\n",
    "            radius = 84/1000\n",
    "            center = [0.4,0.7,0.017]\n",
    "            axes.plot(np.sin(th)*radius + center[0], np.cos(th)*radius+center[1],0*th+center[2],c=((0,0,0,0.5)))\n",
    "\n",
    "\n",
    "            unscale_recons = (data / pose_scaling) + pose_mean\n",
    "\n",
    "            for trajid in raytracing_order:\n",
    "                #if trajid % 2 != 0:\n",
    "                #    continue\n",
    "                xs = unscale_recons[trajid,:TRAJLEN,0]\n",
    "                ys = unscale_recons[trajid,:TRAJLEN,1]\n",
    "                zs = unscale_recons[trajid,:TRAJLEN,2]\n",
    "                colorval = cmap((sweep_embed[trajid,sweepaxis]-minembed)/(maxembed-minembed)) if embed.shape[1] > 0  else \"black\"\n",
    "                \n",
    "                colorval = (colorval[0],colorval[1],colorval[2],0.8)\n",
    "                # backfill in white first\n",
    "                axes.plot(xs,ys,zs,color=(1,1,1),linewidth=7)\n",
    "                axes.plot(xs,ys,zs,color=colorval,linewidth=7)\n",
    "               \n",
    "                \n",
    "                for i in [0,30,70]:#[int(t) for t in np.linspace(0,100-1,5)]:\n",
    "                    if trajid % 5 == 0:\n",
    "                        translation = np.array((xs[i],ys[i],zs[i])).reshape(3,1)\n",
    "                        quaternion = unscale_recons[trajid,i,3:7] \n",
    "                        #print(quaternion)\n",
    "                        rotmat = t3d.quaternions.quat2mat(quaternion)\n",
    "\n",
    "                        transformmat = np.concatenate((\n",
    "                                          np.concatenate((rotmat,translation),axis=1),\n",
    "                                          np.array((0,0,0,1)).reshape((1,4))),axis=0)\n",
    "                        #print(transformmat)\n",
    "\n",
    "                        # Load the STL files and add the vectors to the plot\n",
    "                        your_mesh = mesh.Mesh.from_file('forkTipFromTurboSquid.stl')\n",
    "\n",
    "                        # convert mm to m\n",
    "                        your_mesh.vectors /= (1000 / 2)\n",
    "\n",
    "                        your_mesh.transform(transformmat)\n",
    "\n",
    "                        polycollection = mplot3d.art3d.Poly3DCollection(your_mesh.vectors)\n",
    "                        polycollection.set_facecolor((colorval[0],colorval[1],colorval[2],0.4))\n",
    "                        polycollection.set_edgecolors((0,0,0,0.05))\n",
    "                        axes.add_collection3d(polycollection)\n",
    "\n",
    "            scale = 0.12\n",
    "            xmid = 0.4\n",
    "            ymid = 0.70\n",
    "            axes.set_xlim(xmid-scale,xmid+scale)\n",
    "            axes.set_ylim(ymid-scale,ymid+scale)\n",
    "            axes.set_zlim(0,2*scale)\n",
    "            axes.set_xlabel(\"x\")\n",
    "            plotorigin = [xmid-radius-0.01,ymid]\n",
    "            axiscolor = \"gray\"\n",
    "            if sweepaxis == 0:\n",
    "                axes.quiver(plotorigin[0],plotorigin[1],center[2],0.02,0,0,arrow_length_ratio=0.1, color=axiscolor)\n",
    "                axes.quiver(plotorigin[0],plotorigin[1],center[2],0,0.02,0,arrow_length_ratio=0.1, color=axiscolor)\n",
    "                axes.quiver(plotorigin[0],plotorigin[1],center[2],0,0,0.02,arrow_length_ratio=0.1, color=axiscolor)\n",
    "            for elev,azim in [(90,0),(10,30)]:#,(0,0)]:\n",
    "                    print(\"elev,azim: \",elev,azim)\n",
    "                    axes.view_init(elev=elev, azim=azim)\n",
    "                    #plt.savefig(f\"3dplotfit_{name}_{modelname[7:]}_{trajid}_elev{elev}_azim{azim}_rto.png\",\n",
    "                    #           bbox_inches='tight')\n",
    "                    axes.set_axis_off()\n",
    "                    display(figure);\n",
    "                    figure.savefig(f\"latent{sweepaxis}-elev{elev}-azim{azim}.png\")"
   ]
  },
  {
   "cell_type": "code",
   "execution_count": null,
   "id": "9e01668f",
   "metadata": {
    "ExecuteTime": {
     "end_time": "2023-02-23T17:48:08.123640Z",
     "start_time": "2023-02-23T17:48:06.867300Z"
    },
    "scrolled": false
   },
   "outputs": [],
   "source": [
    "timestrs = [\"20230928-065206.641930\"]\n",
    "for timestr in timestrs:\n",
    "    modelname = model_path_template.format(timestr=timestr)\n",
    "    model = lm.LoadedModel(modelname)\n",
    "    print(f\"For model {timestr}:\")\n",
    "    [print(f\"\\t {k}: {v}\") for (k,v) in model.modeldata.items()]"
   ]
  },
  {
   "cell_type": "code",
   "execution_count": null,
   "id": "6a96740d",
   "metadata": {
    "ExecuteTime": {
     "end_time": "2023-02-23T17:51:07.126095Z",
     "start_time": "2023-02-23T17:51:03.607830Z"
    },
    "scrolled": false
   },
   "outputs": [],
   "source": [
    "\n",
    "has_plotted_train = False\n",
    "for sweepaxis in range(3):\n",
    "    for timestr in timestrs:\n",
    "        figure = plt.figure(figsize=(10,10))\n",
    "        axes = plt.axes(projection='3d')\n",
    "        modelname = model_path_template.format(timestr=timestr)\n",
    "        plot_1d_sweep(modelname,axes,sweepaxis)\n",
    "        #axes.set_xlim(xmid-scale,xmid+scale)\n",
    "        #axes.set_ylim(ymid-scale,ymid+scale)\n",
    "        #axes.set_zlim(0,2*scale)\n",
    "        #plt.show()"
   ]
  },
  {
   "cell_type": "code",
   "execution_count": null,
   "id": "cc54d3e9",
   "metadata": {},
   "outputs": [],
   "source": []
  },
  {
   "cell_type": "code",
   "execution_count": null,
   "id": "6177f534",
   "metadata": {},
   "outputs": [],
   "source": []
  },
  {
   "cell_type": "code",
   "execution_count": null,
   "id": "b119aca6",
   "metadata": {},
   "outputs": [],
   "source": []
  }
 ],
 "metadata": {
  "kernelspec": {
   "display_name": "Python 3 (ipykernel)",
   "language": "python",
   "name": "python3"
  },
  "language_info": {
   "codemirror_mode": {
    "name": "ipython",
    "version": 3
   },
   "file_extension": ".py",
   "mimetype": "text/x-python",
   "name": "python",
   "nbconvert_exporter": "python",
   "pygments_lexer": "ipython3",
   "version": "3.8.16"
  }
 },
 "nbformat": 4,
 "nbformat_minor": 5
}
