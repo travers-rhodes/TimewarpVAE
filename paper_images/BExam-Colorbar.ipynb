{
 "cells": [
  {
   "cell_type": "code",
   "execution_count": 2,
   "id": "3c99de27",
   "metadata": {
    "ExecuteTime": {
     "end_time": "2023-09-27T14:36:13.619243Z",
     "start_time": "2023-09-27T14:36:06.987341Z"
    }
   },
   "outputs": [
    {
     "name": "stderr",
     "output_type": "stream",
     "text": [
      "/home/travers/miniconda3/envs/timewarpvae/lib/python3.8/site-packages/tqdm/auto.py:21: TqdmWarning: IProgress not found. Please update jupyter and ipywidgets. See https://ipywidgets.readthedocs.io/en/stable/user_install.html\n",
      "  from .autonotebook import tqdm as notebook_tqdm\n"
     ]
    }
   ],
   "source": [
    "import numpy as np\n",
    "import matplotlib.pyplot as plt\n",
    "import timewarp_lib.load_model as lm\n",
    "import timewarp_lib.train_utils as tu\n",
    "import torch\n",
    "import pandas as pd\n",
    "import json\n",
    "import numpy as np\n",
    "import matplotlib"
   ]
  },
  {
   "cell_type": "code",
   "execution_count": 3,
   "id": "79498222",
   "metadata": {
    "ExecuteTime": {
     "end_time": "2023-09-27T14:36:13.624218Z",
     "start_time": "2023-09-27T14:36:13.621445Z"
    }
   },
   "outputs": [],
   "source": [
    "cmap = plt.get_cmap(\"viridis\")"
   ]
  },
  {
   "cell_type": "code",
   "execution_count": 4,
   "id": "ab9234e8",
   "metadata": {
    "ExecuteTime": {
     "end_time": "2023-09-27T14:36:13.630664Z",
     "start_time": "2023-09-27T14:36:13.628445Z"
    }
   },
   "outputs": [],
   "source": [
    "\n",
    "####clean_model_dirs = [\"../results/overnight/20230921-093159.705744/savedmodel\"] # TenDTWModel\n",
    "\n"
   ]
  },
  {
   "cell_type": "code",
   "execution_count": 5,
   "id": "78ba9e28",
   "metadata": {
    "ExecuteTime": {
     "end_time": "2023-09-27T14:36:13.637330Z",
     "start_time": "2023-09-27T14:36:13.635016Z"
    }
   },
   "outputs": [],
   "source": [
    "import matplotlib\n",
    "font = {        'size'   : 22}\n",
    "\n",
    "matplotlib.rc('font', **font)"
   ]
  },
  {
   "cell_type": "code",
   "execution_count": 13,
   "id": "7604d1ee",
   "metadata": {},
   "outputs": [],
   "source": [
    "def make_all_scatter_inds(samp_interval, maxval):\n",
    "    all_scatter_inds = []\n",
    "    temp = []\n",
    "    next_to_add = 0\n",
    "    while next_to_add < maxval:\n",
    "        temp.append(next_to_add)\n",
    "        all_scatter_inds.append(list(temp))\n",
    "        next_to_add += samp_interval\n",
    "    \n",
    "    return all_scatter_inds\n",
    "all_scatter_inds = make_all_scatter_inds(1000,10001)\n",
    "scatter_inds = all_scatter_inds[-1]"
   ]
  },
  {
   "cell_type": "code",
   "execution_count": 31,
   "id": "4af62045",
   "metadata": {},
   "outputs": [
    {
     "data": {
      "image/png": "[encoded data removed]",
      "text/plain": [
       "<Figure size 800x100 with 1 Axes>"
      ]
     },
     "metadata": {},
     "output_type": "display_data"
    }
   ],
   "source": [
    "f = plt.figure(figsize=(8,1))\n",
    "ttraj = np.linspace(0,1,10001)\n",
    "xtraj = np.linspace(0,1,10001)\n",
    "prev_split = None\n",
    "for split in scatter_inds:\n",
    "        if prev_split is None:\n",
    "            plt.scatter(xtraj[split],np.zeros(10001)[split],\n",
    "                        c=ttraj[split]*3%1,s=200,vmin=0,vmax=1,cmap=\"hsv\")\n",
    "        else:\n",
    "            plt.scatter(xtraj[prev_split:split+1],\n",
    "                        np.zeros(10001)[prev_split:split+1],\n",
    "                        s=50,c=ttraj[prev_split:split+1]*3%1,vmin=0,vmax=1,cmap=\"hsv\",marker=\"|\")\n",
    "            plt.scatter(xtraj[split],\n",
    "                        np.zeros(10001)[split],\n",
    "                        c=ttraj[split]*3%1,s=200,vmin=0,vmax=1,cmap=\"hsv\")\n",
    "        prev_split = split\n",
    "plt.xlim(-0.05,1.05)\n",
    "plt.ylim(-0.05,0.05)\n",
    "plt.axis(\"off\")\n",
    "plt.savefig(f\"colorbar.png\",bbox_inches='tight')            \n",
    "plt.show()"
   ]
  },
  {
   "cell_type": "code",
   "execution_count": 11,
   "id": "abf79cbe",
   "metadata": {
    "scrolled": true
   },
   "outputs": [
    {
     "data": {
      "image/png": "[encoded data removed]",
      "text/plain": [
       "<Figure size 800x800 with 1 Axes>"
      ]
     },
     "metadata": {},
     "output_type": "display_data"
    }
   ],
   "source": [
    "f = plt.figure(figsize=(8,8))\n",
    "plt.scatter(np.linspace(0,1,10001),np.zeros(10001),s=120,c=np.linspace(0,1,10001)*3%1,vmin=0,vmax=1,cmap=\"hsv\",marker=\"|\")\n",
    "plt.xlim(-0.2,1.2)\n",
    "plt.ylim(-1.75,-1.75+4.6)\n",
    "plt.axis(\"off\")\n",
    "plt.savefig(f\"colorbar.jpg\",bbox_inches='tight')            \n",
    "plt.show()"
   ]
  },
  {
   "cell_type": "code",
   "execution_count": null,
   "id": "90aa85af",
   "metadata": {},
   "outputs": [],
   "source": []
  }
 ],
 "metadata": {
  "kernelspec": {
   "display_name": "Python 3 (ipykernel)",
   "language": "python",
   "name": "python3"
  },
  "language_info": {
   "codemirror_mode": {
    "name": "ipython",
    "version": 3
   },
   "file_extension": ".py",
   "mimetype": "text/x-python",
   "name": "python",
   "nbconvert_exporter": "python",
   "pygments_lexer": "ipython3",
   "version": "3.8.16"
  }
 },
 "nbformat": 4,
 "nbformat_minor": 5
}
