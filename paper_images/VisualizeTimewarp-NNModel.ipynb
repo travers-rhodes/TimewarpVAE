{
 "cells": [
  {
   "cell_type": "code",
   "execution_count": null,
   "metadata": {
    "ExecuteTime": {
     "end_time": "2023-09-27T14:36:13.619243Z",
     "start_time": "2023-09-27T14:36:06.987341Z"
    }
   },
   "outputs": [],
   "source": [
    "import numpy as np\n",
    "import matplotlib.pyplot as plt\n",
    "import timewarp_lib.load_model as lm\n",
    "import timewarp_lib.train_utils as tu\n",
    "import torch\n",
    "import pandas as pd\n",
    "import json\n",
    "import numpy as np\n",
    "import matplotlib\n",
    "import torch.nn as nn"
   ]
  },
  {
   "cell_type": "code",
   "execution_count": null,
   "metadata": {
    "ExecuteTime": {
     "end_time": "2023-09-27T14:36:13.624218Z",
     "start_time": "2023-09-27T14:36:13.621445Z"
    }
   },
   "outputs": [],
   "source": [
    "cmap = plt.get_cmap(\"viridis\")"
   ]
  },
  {
   "cell_type": "code",
   "execution_count": null,
   "metadata": {
    "ExecuteTime": {
     "end_time": "2023-09-27T14:36:13.630664Z",
     "start_time": "2023-09-27T14:36:13.628445Z"
    }
   },
   "outputs": [],
   "source": [
    "\n",
    "####clean_model_dirs = [\"../results/overnight/20230921-093159.705744/savedmodel\"] # TenDTWModel\n",
    "\n"
   ]
  },
  {
   "cell_type": "code",
   "execution_count": null,
   "metadata": {
    "ExecuteTime": {
     "end_time": "2023-09-27T14:36:13.637330Z",
     "start_time": "2023-09-27T14:36:13.635016Z"
    }
   },
   "outputs": [],
   "source": [
    "import matplotlib\n",
    "font = {        'size'   : 22}\n",
    "\n",
    "matplotlib.rc('font', **font)"
   ]
  },
  {
   "cell_type": "code",
   "execution_count": null,
   "metadata": {
    "ExecuteTime": {
     "end_time": "2023-09-27T14:36:13.666030Z",
     "start_time": "2023-09-27T14:36:13.638892Z"
    }
   },
   "outputs": [],
   "source": [
    "datatype = \"train\"\n",
    "dtype=torch.float\n",
    "device=\"cpu\"\n",
    "batch_size=100\n",
    "training_data_timing_noise=0\n",
    "\n",
    "dataName = \"../data/trainTest2DLetterARescaled.npz\"\n",
    "# the datafile has information on how the data was cleaned\n",
    "# the learned/applied model is on clean data\n",
    "# so we need to convert back to trajectory data\n",
    "loaded_data_dict = np.load(dataName)\n",
    "\n",
    "ydata = torch.tensor(loaded_data_dict[datatype],dtype=dtype).to(device)\n",
    "np_ydata = ydata.detach().cpu().numpy()\n",
    "num_trajs, numts, traj_channels = ydata.shape\n",
    "tdata = torch.tensor(np.linspace(0,1,numts),dtype=dtype).to(device).expand(num_trajs,numts).unsqueeze(2)"
   ]
  },
  {
   "cell_type": "code",
   "execution_count": null,
   "metadata": {
    "ExecuteTime": {
     "end_time": "2023-09-27T14:36:13.670683Z",
     "start_time": "2023-09-27T14:36:13.667505Z"
    }
   },
   "outputs": [],
   "source": [
    "ixs=(10,)"
   ]
  },
  {
   "cell_type": "code",
   "execution_count": null,
   "metadata": {
    "scrolled": false
   },
   "outputs": [],
   "source": [
    "saved_model_dir = \"../results/rescaled/20231011-003229.166126/savedmodel\"\n",
    "pose_mean = loaded_data_dict[\"pose_mean\"]\n",
    "pose_scaling = loaded_data_dict[\"pose_scaling\"]\n",
    "\n",
    "modelApplier = lm.LoadedModel(saved_model_dir)\n",
    "modeldatafileobj = np.load(f\"{saved_model_dir}/saved_model_info.npz\",allow_pickle=True)\n",
    "modeldata = {key : (modeldatafileobj[key] if key != \"initialization_function\" else True) for key in modeldatafileobj.keys()}\n",
    "num_timesteps = 200\n",
    "num_channels = 2\n",
    "latent_dim = (int)(modeldata[\"latent_dim\"])\n",
    "\n",
    "hi=modelApplier.model\n",
    "\n",
    "embeds_torch,_ = hi.encoder.encode(ydata[ixs,],tdata[ixs,])\n",
    "embeds = embeds_torch.detach().cpu().numpy()\n",
    "\n",
    "\n",
    "f = plt.figure(figsize=(8,16))\n",
    "smallht = 0.37/2\n",
    "ax1 = f.add_axes([0.1, 0.6, 0.8, 0.4])  # add the left Axes\n",
    "ax2 = f.add_axes([0.1, 0.1, 0.8, smallht])  # add the bottomright Axes\n",
    "ax3 = f.add_axes([0.1, 0.5-smallht, 0.8, smallht])  # add the topright Axes\n",
    "for i,val in enumerate(np.linspace(-1,1,5)):\n",
    "    canonical_ts = torch.tensor(np.array(np.linspace(0,1,num_timesteps).reshape(1,-1,1)),dtype=torch.float)\n",
    "    ts = canonical_ts.detach()[0]\n",
    "    time_transform_coeffs = nn.LogSoftmax(dim=1)(torch.tensor(np.linspace(val,-val,50),dtype=torch.float).reshape(1,-1))+np.log(50)\n",
    "    # super easy way to take reasonable coefficients but then scale nicely. We like this\n",
    "    # because the scaling penalty (based on time_transform_coeffs) doesn't need to change. yay.\n",
    "    scaled_ts_torch = hi.scalar_timewarper.monotonic_applier.batch_apply_monotonic_transformation(time_transform_coeffs,canonical_ts)\n",
    "    scaled_ts = scaled_ts_torch\n",
    "    #plt.plot(scaled_ts.detach().flatten())\n",
    "    newtime_trajs = hi.decoder.decode(embeds_torch, scaled_ts).detach().numpy()[0]\n",
    "\n",
    "    #plt.plot(ts.flatten(),newtime_trajs[:,0])\n",
    "    smallht = 0.37/2\n",
    "    \n",
    "    alpha = 0.5\n",
    "    threeixs = (0,1,-1)\n",
    "    legend_lines = []\n",
    "    shapes =[\"+\",None,\"x\"]\n",
    "    ax1.plot(ts.flatten(),scaled_ts.flatten(),c=cmap(i/5),alpha=alpha)\n",
    "    for pltax, axis, axisname in ((ax2,0,\"X\"),(ax3, 1,\"Y\")):\n",
    "        pltax.plot(ts,newtime_trajs[:,axis],c=cmap(i/5),\n",
    "                     linewidth=2 ,\n",
    "                     alpha=alpha)\n",
    "        if axis==1:\n",
    "            pltax.set_xticklabels([])\n",
    "            pltax.set_ylim(-2,3.5)\n",
    "        else:\n",
    "            pltax.set_ylim(-2.5,3)\n",
    "\n",
    "            \n",
    "f.savefig(\"VaryingTimingUsingTimewarper.pdf\")"
   ]
  },
  {
   "cell_type": "code",
   "execution_count": null,
   "metadata": {},
   "outputs": [],
   "source": []
  }
 ],
 "metadata": {
  "kernelspec": {
   "display_name": "Python 3",
   "language": "python",
   "name": "python3"
  },
  "language_info": {
   "codemirror_mode": {
    "name": "ipython",
    "version": 3
   },
   "file_extension": ".py",
   "mimetype": "text/x-python",
   "name": "python",
   "nbconvert_exporter": "python",
   "pygments_lexer": "ipython3",
   "version": "3.8.10"
  }
 },
 "nbformat": 4,
 "nbformat_minor": 5
}
