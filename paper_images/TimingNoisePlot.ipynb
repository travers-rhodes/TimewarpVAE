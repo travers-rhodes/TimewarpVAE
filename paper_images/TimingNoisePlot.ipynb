{
 "cells": [
  {
   "cell_type": "code",
   "execution_count": null,
   "id": "a4b9f5bc",
   "metadata": {
    "ExecuteTime": {
     "end_time": "2023-09-26T15:33:48.194920Z",
     "start_time": "2023-09-26T15:33:48.191201Z"
    }
   },
   "outputs": [],
   "source": [
    "import timewarp_lib.train_utils as tu\n",
    "import numpy as np\n",
    "import torch\n",
    "import matplotlib.pyplot as plt"
   ]
  },
  {
   "cell_type": "code",
   "execution_count": null,
   "id": "2af69d60",
   "metadata": {
    "ExecuteTime": {
     "end_time": "2023-09-26T15:33:45.314417Z",
     "start_time": "2023-09-26T15:33:45.310737Z"
    }
   },
   "outputs": [],
   "source": [
    "tu.add_timing_noise"
   ]
  },
  {
   "cell_type": "code",
   "execution_count": null,
   "id": "2ac03bde",
   "metadata": {
    "ExecuteTime": {
     "end_time": "2023-09-26T15:33:45.319658Z",
     "start_time": "2023-09-26T15:33:45.315637Z"
    }
   },
   "outputs": [],
   "source": [
    "data = np.linspace(0,1,100).reshape(1,-1,1).repeat(30,axis=0)\n",
    "torch_data = torch.tensor(data)"
   ]
  },
  {
   "cell_type": "code",
   "execution_count": null,
   "id": "eb66a8b1",
   "metadata": {
    "ExecuteTime": {
     "end_time": "2023-09-26T15:53:31.244923Z",
     "start_time": "2023-09-26T15:53:31.205071Z"
    }
   },
   "outputs": [],
   "source": [
    "np.random.seed(4)\n",
    "noisy_data = tu.add_timing_noise(torch_data,0.1)"
   ]
  },
  {
   "cell_type": "code",
   "execution_count": null,
   "id": "97ca90f5",
   "metadata": {
    "ExecuteTime": {
     "end_time": "2023-09-26T15:53:31.250347Z",
     "start_time": "2023-09-26T15:53:31.248023Z"
    }
   },
   "outputs": [],
   "source": [
    "import matplotlib\n",
    "font = {        'size'   : 16}\n",
    "\n",
    "matplotlib.rc('font', **font)"
   ]
  },
  {
   "cell_type": "code",
   "execution_count": null,
   "id": "b2257f92",
   "metadata": {
    "ExecuteTime": {
     "end_time": "2023-09-26T15:53:31.548982Z",
     "start_time": "2023-09-26T15:53:31.384409Z"
    }
   },
   "outputs": [],
   "source": [
    "plt.figure(figsize=(6,6))\n",
    "plt.plot(np.linspace(0,1,100),noisy_data[:,:,0].T,c=\"gray\",alpha=0.5)\n",
    "plt.xlim(0,1)\n",
    "plt.ylim(0,1)\n",
    "plt.axis(\"equal\")\n",
    "plt.savefig(\"addedTimingNoise.png\")"
   ]
  },
  {
   "cell_type": "code",
   "execution_count": null,
   "id": "1e90bb1b",
   "metadata": {},
   "outputs": [],
   "source": []
  },
  {
   "cell_type": "code",
   "execution_count": null,
   "id": "867dce54",
   "metadata": {},
   "outputs": [],
   "source": []
  }
 ],
 "metadata": {
  "kernelspec": {
   "display_name": "Python 3 (ipykernel)",
   "language": "python",
   "name": "python3"
  },
  "language_info": {
   "codemirror_mode": {
    "name": "ipython",
    "version": 3
   },
   "file_extension": ".py",
   "mimetype": "text/x-python",
   "name": "python",
   "nbconvert_exporter": "python",
   "pygments_lexer": "ipython3",
   "version": "3.8.16"
  }
 },
 "nbformat": 4,
 "nbformat_minor": 5
}
