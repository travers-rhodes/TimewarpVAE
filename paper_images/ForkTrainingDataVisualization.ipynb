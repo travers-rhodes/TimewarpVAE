{
 "cells": [
  {
   "cell_type": "code",
   "execution_count": null,
   "id": "8c9be5d8",
   "metadata": {},
   "outputs": [],
   "source": [
    "%matplotlib inline\n",
    "\n",
    "import numpy as np\n",
    "import matplotlib.pyplot as plt\n",
    "\n",
    "import transforms3d as t3d\n",
    "from stl import mesh\n",
    "import mpl_toolkits.mplot3d as mplot3d\n",
    "\n",
    "#import cpp_dtw as cdtw"
   ]
  },
  {
   "cell_type": "code",
   "execution_count": null,
   "id": "d3f39e36",
   "metadata": {},
   "outputs": [],
   "source": [
    "modeldata_info = np.load(\"../forkdata/forkTrajectoryData.npz\")"
   ]
  },
  {
   "cell_type": "code",
   "execution_count": null,
   "id": "8791c9b6",
   "metadata": {},
   "outputs": [],
   "source": [
    "test_data = modeldata_info[\"test\"]\n",
    "pose_scaling = modeldata_info[\"pose_scaling\"]\n",
    "pose_mean = modeldata_info[\"pose_mean\"]\n",
    "unscale_test = (test_data / pose_scaling) + pose_mean"
   ]
  },
  {
   "cell_type": "code",
   "execution_count": null,
   "id": "a0c92f61",
   "metadata": {},
   "outputs": [],
   "source": [
    "plt.figure(figsize=(10,10))\n",
    "for i in range(100):\n",
    "    ok = test_data[i,:,2] < 0.03\n",
    "    plt.plot(test_data[i,ok,0].T,test_data[i,ok,1].T,color=\"gray\",alpha=0.2);\n",
    "plt.axis(\"equal\");"
   ]
  },
  {
   "cell_type": "code",
   "execution_count": null,
   "id": "c445e0fe",
   "metadata": {
    "scrolled": false
   },
   "outputs": [],
   "source": [
    "\n",
    "figure = plt.figure(figsize=(10,10))\n",
    "axes = plt.axes(projection='3d')\n",
    "cmap = plt.get_cmap(\"viridis\")\n",
    "th = np.linspace(0,np.pi*2,200)\n",
    "radius = 84/1000\n",
    "center = [0.4,0.7,0.017]\n",
    "axes.plot(np.sin(th)*radius + center[0], np.cos(th)*radius+center[1],0*th+center[2],c=((0,0,0,0.5)))\n",
    "\n",
    "\n",
    "for trajid in [0,3,6,8,9,10]: \n",
    "    xs = unscale_test[trajid,:,0]\n",
    "    ys = unscale_test[trajid,:,1]\n",
    "    zs = unscale_test[trajid,:,2]\n",
    "    axes.plot(xs,ys,zs,color=\"k\",linewidth=3)\n",
    "\n",
    "\n",
    "    for i in [0]:#[int(t) for t in np.linspace(0,100-1,5)]:\n",
    "        if trajid in [0,3,6,8,9,10]:\n",
    "            translation = np.array((xs[i],ys[i],zs[i])).reshape(3,1)\n",
    "            quaternion = unscale_test[trajid,i,3:7] \n",
    "            #print(quaternion)\n",
    "            rotmat = t3d.quaternions.quat2mat(quaternion)\n",
    "\n",
    "            transformmat = np.concatenate((\n",
    "                              np.concatenate((rotmat,translation),axis=1),\n",
    "                              np.array((0,0,0,1)).reshape((1,4))),axis=0)\n",
    "            #print(transformmat)\n",
    "\n",
    "            # Load the STL files and add the vectors to the plot\n",
    "            your_mesh = mesh.Mesh.from_file('forkTipFromTurboSquid.stl')\n",
    "\n",
    "            # convert mm to m\n",
    "            your_mesh.vectors /= (1000 / 2)\n",
    "\n",
    "            your_mesh.transform(transformmat)\n",
    "\n",
    "            polycollection = mplot3d.art3d.Poly3DCollection(your_mesh.vectors)\n",
    "            polycollection.set_facecolor((.4,.4,.4,0.4))\n",
    "            polycollection.set_edgecolors((0,0,0,0.05))\n",
    "            axes.add_collection3d(polycollection)\n",
    "\n",
    "scale = 0.12\n",
    "xmid = 0.4\n",
    "ymid = 0.70\n",
    "axes.set_xlim(xmid-scale,xmid+scale)\n",
    "axes.set_ylim(ymid-scale,ymid+scale)\n",
    "axes.set_zlim(0,2*scale)\n",
    "axes.set_xlabel(\"x\")\n",
    "for elev,azim in [(90,0),(10,60)]:\n",
    "        print(\"elev,azim: \",elev,azim)\n",
    "        axes.view_init(elev=elev, azim=azim)\n",
    "        axes.set_axis_off()\n",
    "        display(figure);\n",
    "        figure.savefig(f\"example-data-elev{elev}-azim{azim}.png\")"
   ]
  },
  {
   "cell_type": "code",
   "execution_count": null,
   "id": "e1abe17a",
   "metadata": {},
   "outputs": [],
   "source": []
  },
  {
   "cell_type": "code",
   "execution_count": null,
   "id": "73822a2c",
   "metadata": {},
   "outputs": [],
   "source": []
  }
 ],
 "metadata": {
  "kernelspec": {
   "display_name": "Python 3 (ipykernel)",
   "language": "python",
   "name": "python3"
  },
  "language_info": {
   "codemirror_mode": {
    "name": "ipython",
    "version": 3
   },
   "file_extension": ".py",
   "mimetype": "text/x-python",
   "name": "python",
   "nbconvert_exporter": "python",
   "pygments_lexer": "ipython3",
   "version": "3.8.16"
  }
 },
 "nbformat": 4,
 "nbformat_minor": 5
}
