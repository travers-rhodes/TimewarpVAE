{
 "cells": [
  {
   "cell_type": "code",
   "execution_count": null,
   "id": "806fd425",
   "metadata": {},
   "outputs": [],
   "source": [
    "import torch\n",
    "import timewarp_lib.decoders as dt\n",
    "import timewarp_lib.train_utils as tu\n",
    "import numpy as np"
   ]
  },
  {
   "cell_type": "code",
   "execution_count": null,
   "id": "27533986",
   "metadata": {},
   "outputs": [],
   "source": [
    "dtype = torch.float\n",
    "latent_dim=1\n",
    "traj_len=10"
   ]
  },
  {
   "cell_type": "code",
   "execution_count": null,
   "id": "182df137",
   "metadata": {},
   "outputs": [],
   "source": [
    "nsamps = 3\n",
    "test_traj_len = 1\n",
    "zvalues = torch.tensor([-1,0,1],dtype=dtype).reshape(nsamps, latent_dim)\n",
    "tvalues = torch.tensor([0,0,0],dtype=dtype).reshape(nsamps, test_traj_len, 1)"
   ]
  },
  {
   "cell_type": "code",
   "execution_count": null,
   "id": "5dd969ea",
   "metadata": {},
   "outputs": [],
   "source": [
    "#CurvVAE Fix 1: average front and backward lengths so that the below calculation is always 4\n",
    "# (instead of 50%: 1 and 50%: 1e14)"
   ]
  },
  {
   "cell_type": "code",
   "execution_count": null,
   "id": "28ee8c27",
   "metadata": {},
   "outputs": [],
   "source": [
    "traj_channels=1\n",
    "decoder = dt.FunctionStyleDecoder(latent_dim,\n",
    "                                        traj_channels=traj_channels,\n",
    "                                        dec_template_motion_hidden_layers=[2],\n",
    "                                        dtype=dtype,\n",
    "                                 useSoftmax=True)\n",
    "\n",
    "weight1 = np.array([[1., 0],[0,1]])\n",
    "bias1 = np.array([0,0])\n",
    "weight2 = np.array([[1., 0]])\n",
    "bias2 = np.array([0])\n",
    "with torch.no_grad():\n",
    "    decoder.motion_model.all_layers[0].weight.copy_(torch.tensor(weight1, dtype=dtype))\n",
    "    decoder.motion_model.all_layers[0].bias.copy_(torch.tensor(bias1, dtype=dtype))\n",
    "    decoder.motion_model.all_layers[1].weight.copy_(torch.tensor(weight2, dtype=dtype))\n",
    "    decoder.motion_model.all_layers[1].bias.copy_(torch.tensor(bias2, dtype=dtype))\n",
    "print(decoder.decode(zvalues, tvalues))\n",
    "print(decoder.decode(zvalues+1, tvalues))\n",
    "print(decoder.decode(zvalues-1, tvalues))\n",
    "print(tu.curvature_loss_function(decoder.decode, zvalues, tvalues, epsilon_scale = 1, epsilon_div_zero_fix = 1e-7))"
   ]
  },
  {
   "cell_type": "code",
   "execution_count": null,
   "id": "ad29de9d",
   "metadata": {},
   "outputs": [],
   "source": [
    "traj_channels=2\n",
    "decoder = dt.FunctionStyleDecoder(latent_dim,\n",
    "                                        traj_channels=traj_channels,\n",
    "                                        dec_template_motion_hidden_layers=[2],\n",
    "                                        dtype=dtype,\n",
    "                                 useSoftmax=True)\n",
    "\n",
    "weight1 = np.array([[1., 0],[0,1]])\n",
    "bias1 = np.array([0,0])\n",
    "weight2 = np.array([[1., 0],[0,1]])\n",
    "bias2 = np.array([0,0])\n",
    "with torch.no_grad():\n",
    "    decoder.motion_model.all_layers[0].weight.copy_(torch.tensor(weight1, dtype=dtype))\n",
    "    decoder.motion_model.all_layers[0].bias.copy_(torch.tensor(bias1, dtype=dtype))\n",
    "    decoder.motion_model.all_layers[1].weight.copy_(torch.tensor(weight2, dtype=dtype))\n",
    "    decoder.motion_model.all_layers[1].bias.copy_(torch.tensor(bias2, dtype=dtype))\n",
    "print(decoder.decode(zvalues, tvalues))\n",
    "print(decoder.decode(zvalues+1, tvalues))\n",
    "print(decoder.decode(zvalues-1, tvalues))\n",
    "print(tu.curvature_loss_function(decoder.decode, zvalues, tvalues, epsilon_scale = 1, epsilon_div_zero_fix = 1e-7))"
   ]
  },
  {
   "cell_type": "code",
   "execution_count": null,
   "id": "00927b62",
   "metadata": {},
   "outputs": [],
   "source": [
    "traj_channels=2\n",
    "decoder = dt.FunctionStyleDecoder(latent_dim,\n",
    "                                        traj_channels=traj_channels,\n",
    "                                        dec_template_motion_hidden_layers=[2],\n",
    "                                        dtype=dtype,\n",
    "                                 useSoftmax=True)\n",
    "\n",
    "weight1 = np.array([[1., 0],[0,1]])\n",
    "bias1 = np.array([0,0])\n",
    "weight2 = np.array([[1., 0],[1,1]])\n",
    "bias2 = np.array([0,0])\n",
    "with torch.no_grad():\n",
    "    decoder.motion_model.all_layers[0].weight.copy_(torch.tensor(weight1, dtype=dtype))\n",
    "    decoder.motion_model.all_layers[0].bias.copy_(torch.tensor(bias1, dtype=dtype))\n",
    "    decoder.motion_model.all_layers[1].weight.copy_(torch.tensor(weight2, dtype=dtype))\n",
    "    decoder.motion_model.all_layers[1].bias.copy_(torch.tensor(bias2, dtype=dtype))\n",
    "print(decoder.decode(zvalues, tvalues))\n",
    "print(decoder.decode(zvalues+1, tvalues))\n",
    "print(decoder.decode(zvalues-1, tvalues))\n",
    "print(tu.curvature_loss_function(decoder.decode, zvalues, tvalues, epsilon_scale = 0.1, epsilon_div_zero_fix = 1e-7))"
   ]
  },
  {
   "cell_type": "code",
   "execution_count": null,
   "id": "33b9df42",
   "metadata": {},
   "outputs": [],
   "source": []
  },
  {
   "cell_type": "code",
   "execution_count": null,
   "id": "9b760d24",
   "metadata": {},
   "outputs": [],
   "source": []
  }
 ],
 "metadata": {
  "kernelspec": {
   "display_name": "Python 3 (ipykernel)",
   "language": "python",
   "name": "python3"
  },
  "language_info": {
   "codemirror_mode": {
    "name": "ipython",
    "version": 3
   },
   "file_extension": ".py",
   "mimetype": "text/x-python",
   "name": "python",
   "nbconvert_exporter": "python",
   "pygments_lexer": "ipython3",
   "version": "3.8.16"
  }
 },
 "nbformat": 4,
 "nbformat_minor": 5
}
