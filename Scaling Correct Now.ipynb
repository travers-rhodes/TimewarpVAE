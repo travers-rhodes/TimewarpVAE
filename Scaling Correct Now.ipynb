{
 "cells": [
  {
   "cell_type": "code",
   "execution_count": 12,
   "id": "01b90889",
   "metadata": {
    "ExecuteTime": {
     "end_time": "2023-10-07T13:35:59.103551Z",
     "start_time": "2023-10-07T13:35:59.100884Z"
    }
   },
   "outputs": [],
   "source": [
    "import numpy as np"
   ]
  },
  {
   "cell_type": "code",
   "execution_count": 27,
   "id": "424e3705",
   "metadata": {
    "ExecuteTime": {
     "end_time": "2023-10-07T13:41:09.742052Z",
     "start_time": "2023-10-07T13:41:09.739156Z"
    }
   },
   "outputs": [],
   "source": [
    "dat = np.load(\"data/trainTest2DLetterARescaled.npz\")"
   ]
  },
  {
   "cell_type": "code",
   "execution_count": 28,
   "id": "6dc94998",
   "metadata": {
    "ExecuteTime": {
     "end_time": "2023-10-07T13:41:10.223382Z",
     "start_time": "2023-10-07T13:41:10.220202Z"
    }
   },
   "outputs": [],
   "source": [
    "ndat = dat[\"train\"]"
   ]
  },
  {
   "cell_type": "code",
   "execution_count": 29,
   "id": "bb79c0b2",
   "metadata": {
    "ExecuteTime": {
     "end_time": "2023-10-07T13:41:10.585040Z",
     "start_time": "2023-10-07T13:41:10.579816Z"
    }
   },
   "outputs": [
    {
     "data": {
      "text/plain": [
       "1.9999999463812126"
      ]
     },
     "execution_count": 29,
     "metadata": {},
     "output_type": "execute_result"
    }
   ],
   "source": [
    "np.mean(np.sum(np.square(ndat[:,:,:3]),axis=2))"
   ]
  },
  {
   "cell_type": "code",
   "execution_count": null,
   "id": "22bb64e4",
   "metadata": {},
   "outputs": [],
   "source": []
  }
 ],
 "metadata": {
  "kernelspec": {
   "display_name": "Python 3 (ipykernel)",
   "language": "python",
   "name": "python3"
  },
  "language_info": {
   "codemirror_mode": {
    "name": "ipython",
    "version": 3
   },
   "file_extension": ".py",
   "mimetype": "text/x-python",
   "name": "python",
   "nbconvert_exporter": "python",
   "pygments_lexer": "ipython3",
   "version": "3.8.16"
  }
 },
 "nbformat": 4,
 "nbformat_minor": 5
}
