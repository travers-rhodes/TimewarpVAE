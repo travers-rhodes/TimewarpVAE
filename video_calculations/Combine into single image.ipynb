{
 "cells": [
  {
   "cell_type": "code",
   "execution_count": 4,
   "id": "8b8d3748",
   "metadata": {
    "ExecuteTime": {
     "end_time": "2023-02-23T17:48:06.858883Z",
     "start_time": "2023-02-23T17:48:04.183563Z"
    }
   },
   "outputs": [],
   "source": [
    "from PIL import Image\n"
   ]
  },
  {
   "cell_type": "code",
   "execution_count": 7,
   "id": "68cfadb0",
   "metadata": {
    "ExecuteTime": {
     "end_time": "2023-02-23T17:48:08.142393Z",
     "start_time": "2023-02-23T17:48:08.126724Z"
    }
   },
   "outputs": [
    {
     "ename": "FileNotFoundError",
     "evalue": "[Errno 2] No such file or directory: 'animatedLatentLetterA/latent0-frame1.png'",
     "output_type": "error",
     "traceback": [
      "\u001b[0;31m---------------------------------------------------------------------------\u001b[0m",
      "\u001b[0;31mFileNotFoundError\u001b[0m                         Traceback (most recent call last)",
      "Cell \u001b[0;32mIn[7], line 6\u001b[0m\n\u001b[1;32m      4\u001b[0m ims \u001b[38;5;241m=\u001b[39m []\n\u001b[1;32m      5\u001b[0m \u001b[38;5;28;01mfor\u001b[39;00m sweepaxis \u001b[38;5;129;01min\u001b[39;00m \u001b[38;5;28mrange\u001b[39m(\u001b[38;5;241m16\u001b[39m):\n\u001b[0;32m----> 6\u001b[0m     im \u001b[38;5;241m=\u001b[39m \u001b[43mImage\u001b[49m\u001b[38;5;241;43m.\u001b[39;49m\u001b[43mopen\u001b[49m\u001b[43m(\u001b[49m\u001b[38;5;124;43mf\u001b[39;49m\u001b[38;5;124;43m\"\u001b[39;49m\u001b[38;5;124;43manimatedLatentLetterA/latent\u001b[39;49m\u001b[38;5;132;43;01m{\u001b[39;49;00m\u001b[43msweepaxis\u001b[49m\u001b[38;5;132;43;01m}\u001b[39;49;00m\u001b[38;5;124;43m-frame\u001b[39;49m\u001b[38;5;132;43;01m{\u001b[39;49;00m\u001b[43mframenumber\u001b[49m\u001b[38;5;132;43;01m}\u001b[39;49;00m\u001b[38;5;124;43m.png\u001b[39;49m\u001b[38;5;124;43m\"\u001b[39;49m\u001b[43m)\u001b[49m\n\u001b[1;32m      7\u001b[0m     im \u001b[38;5;241m=\u001b[39m im\u001b[38;5;241m.\u001b[39mresize((\u001b[38;5;241m195\u001b[39m, \u001b[38;5;241m195\u001b[39m))\n\u001b[1;32m      8\u001b[0m     \u001b[38;5;66;03m#im = im.crop((40,200 if elev == 10 else 100,440,480))\u001b[39;00m\n",
      "File \u001b[0;32m~/miniconda3/envs/timewarpvae/lib/python3.8/site-packages/PIL/Image.py:3131\u001b[0m, in \u001b[0;36mopen\u001b[0;34m(fp, mode, formats)\u001b[0m\n\u001b[1;32m   3128\u001b[0m     filename \u001b[38;5;241m=\u001b[39m fp\n\u001b[1;32m   3130\u001b[0m \u001b[38;5;28;01mif\u001b[39;00m filename:\n\u001b[0;32m-> 3131\u001b[0m     fp \u001b[38;5;241m=\u001b[39m \u001b[43mbuiltins\u001b[49m\u001b[38;5;241;43m.\u001b[39;49m\u001b[43mopen\u001b[49m\u001b[43m(\u001b[49m\u001b[43mfilename\u001b[49m\u001b[43m,\u001b[49m\u001b[43m \u001b[49m\u001b[38;5;124;43m\"\u001b[39;49m\u001b[38;5;124;43mrb\u001b[39;49m\u001b[38;5;124;43m\"\u001b[39;49m\u001b[43m)\u001b[49m\n\u001b[1;32m   3132\u001b[0m     exclusive_fp \u001b[38;5;241m=\u001b[39m \u001b[38;5;28;01mTrue\u001b[39;00m\n\u001b[1;32m   3134\u001b[0m \u001b[38;5;28;01mtry\u001b[39;00m:\n",
      "\u001b[0;31mFileNotFoundError\u001b[0m: [Errno 2] No such file or directory: 'animatedLatentLetterA/latent0-frame1.png'"
     ]
    }
   ],
   "source": [
    "new_index = 1\n",
    "for framenumber in range(1,101):\n",
    "    #Read the six images\n",
    "    ims = []\n",
    "    for sweepaxis in range(16):\n",
    "        im = Image.open(f\"animatedLatentLetterA/latent{sweepaxis}-frame{framenumber}.png\")\n",
    "        im = im.resize((195, 195))\n",
    "        #im = im.crop((40,200 if elev == 10 else 100,440,480))\n",
    "        ims.append(im)\n",
    "    new_image = Image.new('RGB',(1200,780), (255,255,255))\n",
    "    for i in range(16):\n",
    "        new_image.paste(ims[i],((i%4)*300,int(i/4)*200))\n",
    "    #new_image.save(f\"forkLatentSweepAnimation/mergedForkLatentsImage{new_index}.jpg\",\"JPEG\")\n",
    "    #new_index+=1\n",
    "    new_image.show()"
   ]
  },
  {
   "cell_type": "code",
   "execution_count": 21,
   "id": "6177f534",
   "metadata": {},
   "outputs": [],
   "source": []
  },
  {
   "cell_type": "code",
   "execution_count": null,
   "id": "b119aca6",
   "metadata": {},
   "outputs": [],
   "source": [
    "new_index = 1\n",
    "for framenumber in range(201):\n",
    "    if framenumber%2==0:\n",
    "        continue\n",
    "    #Read the six images\n",
    "    ims = []\n",
    "    for sweepaxis in range(16):\n",
    "        im = Image.open(f\"animatedLatent/latent{sweepaxis}-elev{elev}-azim{azim}-frame{framenumber}.png\")\n",
    "        im = im.resize((580, 580))\n",
    "        im = im.crop((40,200 if elev == 10 else 100,440,480))\n",
    "        ims.append(im)\n",
    "    new_image = Image.new('RGB',(1200,780), (255,255,255))\n",
    "    new_image.paste(ims[0],(0,0)\n",
    "    new_image.paste(ims[1],(400,0))\n",
    "    new_image.paste(ims[2],(800,0))\n",
    "    new_image.paste(ims[3],(0,400))\n",
    "    new_image.paste(ims[4],(400,400))\n",
    "    new_image.paste(ims[5],(800,400))\n",
    "    new_image.save(f\"forkLatentSweepAnimation/mergedForkLatentsImage{new_index}.jpg\",\"JPEG\")\n",
    "    new_index+=1"
   ]
  }
 ],
 "metadata": {
  "kernelspec": {
   "display_name": "Python 3 (ipykernel)",
   "language": "python",
   "name": "python3"
  },
  "language_info": {
   "codemirror_mode": {
    "name": "ipython",
    "version": 3
   },
   "file_extension": ".py",
   "mimetype": "text/x-python",
   "name": "python",
   "nbconvert_exporter": "python",
   "pygments_lexer": "ipython3",
   "version": "3.8.16"
  }
 },
 "nbformat": 4,
 "nbformat_minor": 5
}
