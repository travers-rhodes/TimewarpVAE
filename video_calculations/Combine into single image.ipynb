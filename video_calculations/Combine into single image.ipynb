{
 "cells": [
  {
   "cell_type": "code",
   "execution_count": 2,
   "id": "8b8d3748",
   "metadata": {
    "ExecuteTime": {
     "end_time": "2023-02-23T17:48:06.858883Z",
     "start_time": "2023-02-23T17:48:04.183563Z"
    }
   },
   "outputs": [],
   "source": [
    "from PIL import Image\n"
   ]
  },
  {
   "cell_type": "code",
   "execution_count": 12,
   "id": "68cfadb0",
   "metadata": {
    "ExecuteTime": {
     "end_time": "2023-02-23T17:48:08.142393Z",
     "start_time": "2023-02-23T17:48:08.126724Z"
    }
   },
   "outputs": [],
   "source": [
    "new_index = 1\n",
    "for framenumber in range(201):\n",
    "    if framenumber%2==0:\n",
    "        continue\n",
    "    #Read the six images\n",
    "    ims = []\n",
    "    for elev,azim in [(10,30),(90,0)]:\n",
    "        for sweepaxis in range(3):\n",
    "            im = Image.open(f\"animatedLatent/latent{sweepaxis}-elev{elev}-azim{azim}-frame{framenumber}.png\")\n",
    "            im = im.resize((580, 580))\n",
    "            ims.append(im)\n",
    "    new_image = Image.new('RGB',(1700,1100), (255,255,255))\n",
    "    new_image.paste(ims[0],(0,0))\n",
    "    new_image.paste(ims[1],(600,0))\n",
    "    new_image.paste(ims[2],(1200,0))\n",
    "    new_image.paste(ims[3],(0,600))\n",
    "    new_image.paste(ims[4],(600,600))\n",
    "    new_image.paste(ims[5],(1200,600))\n",
    "    new_image.save(f\"forkLatentSweepAnimation/mergedForkLatentsImage{new_index}.jpg\",\"JPEG\")\n",
    "    new_index+=1"
   ]
  },
  {
   "cell_type": "code",
   "execution_count": null,
   "id": "cc54d3e9",
   "metadata": {},
   "outputs": [],
   "source": []
  },
  {
   "cell_type": "code",
   "execution_count": null,
   "id": "6177f534",
   "metadata": {},
   "outputs": [],
   "source": []
  },
  {
   "cell_type": "code",
   "execution_count": null,
   "id": "b119aca6",
   "metadata": {},
   "outputs": [],
   "source": []
  }
 ],
 "metadata": {
  "kernelspec": {
   "display_name": "Python 3 (ipykernel)",
   "language": "python",
   "name": "python3"
  },
  "language_info": {
   "codemirror_mode": {
    "name": "ipython",
    "version": 3
   },
   "file_extension": ".py",
   "mimetype": "text/x-python",
   "name": "python",
   "nbconvert_exporter": "python",
   "pygments_lexer": "ipython3",
   "version": "3.8.16"
  }
 },
 "nbformat": 4,
 "nbformat_minor": 5
}
