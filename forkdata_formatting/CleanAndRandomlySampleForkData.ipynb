{
 "cells": [
  {
   "cell_type": "code",
   "execution_count": 1,
   "id": "65098d15",
   "metadata": {
    "ExecuteTime": {
     "end_time": "2023-09-28T04:53:39.859700Z",
     "start_time": "2023-09-28T04:53:39.170831Z"
    },
    "execution": {
     "iopub.execute_input": "2023-10-13T20:57:34.110178Z",
     "iopub.status.busy": "2023-10-13T20:57:34.109878Z",
     "iopub.status.idle": "2023-10-13T20:57:34.249602Z",
     "shell.execute_reply": "2023-10-13T20:57:34.249021Z"
    }
   },
   "outputs": [],
   "source": [
    "import sys\n",
    "sys.path.append(\"..\")\n",
    "\n",
    "import format_data_helpers as fdh"
   ]
  },
  {
   "cell_type": "code",
   "execution_count": 2,
   "id": "e1da70e1",
   "metadata": {
    "ExecuteTime": {
     "end_time": "2023-09-28T04:53:39.864135Z",
     "start_time": "2023-09-28T04:53:39.861288Z"
    },
    "execution": {
     "iopub.execute_input": "2023-10-13T20:57:34.252056Z",
     "iopub.status.busy": "2023-10-13T20:57:34.251856Z",
     "iopub.status.idle": "2023-10-13T20:57:34.255722Z",
     "shell.execute_reply": "2023-10-13T20:57:34.255115Z"
    }
   },
   "outputs": [],
   "source": [
    "slowslowfolder = \"20230222_194413\"\n",
    "fastslowfolder = \"20230222_171344\"\n",
    "slowfastfolder = \"20230222_182149\"\n",
    "\n",
    "# the first list of \"bad\" indices are the ones known when recording to have dropped the object or otherwise \n",
    "# messed up during recording\n",
    "# second list is manual validation looking at cleaned data\n",
    "bad_slowslow_trajectories = [5,32,35,43,81,99,114,117,121] + [36,41,46,108,105] \n",
    "bad_fastslow_trajectories = [4,18,57,68,94,96,99,108,128] + [45]\n",
    "bad_slowfast_trajectories = [4,9,12,19,31,86,98,107,130] "
   ]
  },
  {
   "cell_type": "code",
   "execution_count": 3,
   "id": "df240891",
   "metadata": {
    "ExecuteTime": {
     "end_time": "2023-09-28T04:53:43.650813Z",
     "start_time": "2023-09-28T04:53:39.865391Z"
    },
    "execution": {
     "iopub.execute_input": "2023-10-13T20:57:34.257289Z",
     "iopub.status.busy": "2023-10-13T20:57:34.257145Z",
     "iopub.status.idle": "2023-10-13T20:57:36.089253Z",
     "shell.execute_reply": "2023-10-13T20:57:36.088802Z"
    },
    "scrolled": true
   },
   "outputs": [
    {
     "name": "stdout",
     "output_type": "stream",
     "text": [
      "running for traj_index 1\n",
      "running for traj_index 2\n",
      "running for traj_index 3\n",
      "running for traj_index 4\n",
      "running for traj_index 6\n",
      "running for traj_index 7\n",
      "running for traj_index 8\n",
      "running for traj_index 9\n",
      "running for traj_index 10\n",
      "running for traj_index 11\n",
      "running for traj_index 12\n",
      "running for traj_index 13\n",
      "running for traj_index 14\n",
      "running for traj_index 15\n",
      "running for traj_index 16\n",
      "running for traj_index 17\n",
      "running for traj_index 18\n",
      "running for traj_index 19\n",
      "running for traj_index 20\n",
      "running for traj_index 21\n",
      "running for traj_index 22\n",
      "running for traj_index 23\n",
      "running for traj_index 24\n",
      "running for traj_index 25\n",
      "running for traj_index 26\n",
      "running for traj_index 27\n",
      "running for traj_index 28\n",
      "running for traj_index 29\n",
      "running for traj_index 30\n",
      "running for traj_index 31\n",
      "running for traj_index 33\n",
      "running for traj_index 34\n",
      "running for traj_index 37\n",
      "running for traj_index 38\n",
      "running for traj_index 39\n",
      "running for traj_index 40\n",
      "running for traj_index 42\n",
      "running for traj_index 44\n",
      "running for traj_index 45\n",
      "running for traj_index 47\n",
      "running for traj_index 48\n",
      "running for traj_index 49\n",
      "running for traj_index 50\n",
      "running for traj_index 51\n",
      "running for traj_index 52\n",
      "running for traj_index 53\n",
      "running for traj_index 54\n",
      "running for traj_index 55\n",
      "running for traj_index 56\n",
      "running for traj_index 57\n",
      "running for traj_index 58\n",
      "running for traj_index 59\n",
      "running for traj_index 60\n",
      "running for traj_index 61\n",
      "running for traj_index 62\n",
      "running for traj_index 63\n",
      "running for traj_index 64\n",
      "running for traj_index 65\n",
      "running for traj_index 66\n",
      "running for traj_index 67\n",
      "running for traj_index 68\n",
      "running for traj_index 69\n",
      "running for traj_index 70\n",
      "running for traj_index 71\n",
      "running for traj_index 72\n",
      "running for traj_index 73\n",
      "running for traj_index 74\n",
      "running for traj_index 75\n",
      "running for traj_index 76\n",
      "running for traj_index 77\n",
      "running for traj_index 78\n",
      "running for traj_index 79\n",
      "running for traj_index 80\n",
      "running for traj_index 82\n",
      "running for traj_index 83\n",
      "running for traj_index 84\n",
      "running for traj_index 85\n",
      "running for traj_index 86\n",
      "running for traj_index 87\n",
      "running for traj_index 88\n",
      "running for traj_index 89\n",
      "running for traj_index 90\n",
      "running for traj_index 91\n",
      "running for traj_index 92\n",
      "running for traj_index 93\n",
      "running for traj_index 94\n",
      "running for traj_index 95\n",
      "running for traj_index 96\n",
      "running for traj_index 97\n",
      "running for traj_index 98\n",
      "running for traj_index 100\n",
      "running for traj_index 101\n",
      "running for traj_index 102\n",
      "running for traj_index 103\n",
      "running for traj_index 104\n",
      "running for traj_index 106\n",
      "running for traj_index 107\n",
      "running for traj_index 109\n",
      "running for traj_index 110\n",
      "running for traj_index 111\n",
      "running for traj_index 112\n",
      "running for traj_index 113\n",
      "running for traj_index 115\n",
      "running for traj_index 116\n",
      "running for traj_index 118\n",
      "running for traj_index 119\n",
      "running for traj_index 120\n",
      "running for traj_index 122\n",
      "running for traj_index 123\n",
      "running for traj_index 124\n",
      "running for traj_index 125\n",
      "running for traj_index 126\n",
      "running for traj_index 127\n",
      "running for traj_index 128\n",
      "running for traj_index 129\n",
      "running for traj_index 130\n",
      "running for traj_index 131\n",
      "running for traj_index 132\n",
      "running for traj_index 133\n",
      "running for traj_index 134\n",
      "running for traj_index 1\n",
      "running for traj_index 2\n",
      "running for traj_index 3\n",
      "running for traj_index 5\n",
      "running for traj_index 6\n",
      "running for traj_index 7\n",
      "running for traj_index 8\n",
      "running for traj_index 9\n",
      "running for traj_index 10\n",
      "running for traj_index 11\n",
      "running for traj_index 12\n",
      "running for traj_index 13\n",
      "running for traj_index 14\n",
      "running for traj_index 15\n",
      "running for traj_index 16\n",
      "running for traj_index 17\n",
      "running for traj_index 19\n",
      "running for traj_index 20\n",
      "running for traj_index 21\n",
      "running for traj_index 22\n",
      "running for traj_index 23\n",
      "running for traj_index 24\n",
      "running for traj_index 25\n",
      "running for traj_index 26\n",
      "running for traj_index 27\n",
      "running for traj_index 28\n",
      "running for traj_index 29\n",
      "running for traj_index 30\n",
      "running for traj_index 31\n",
      "running for traj_index 32\n",
      "running for traj_index 33\n",
      "running for traj_index 34\n",
      "running for traj_index 35\n",
      "running for traj_index 36\n",
      "running for traj_index 37\n",
      "running for traj_index 38\n",
      "running for traj_index 39\n",
      "running for traj_index 40\n",
      "running for traj_index 41\n",
      "running for traj_index 42\n",
      "running for traj_index 43\n",
      "running for traj_index 44\n",
      "running for traj_index 46\n",
      "running for traj_index 47\n",
      "running for traj_index 48\n",
      "running for traj_index 49\n",
      "running for traj_index 50\n",
      "running for traj_index 51\n",
      "running for traj_index 52\n",
      "running for traj_index 53\n",
      "running for traj_index 54\n",
      "running for traj_index 55\n",
      "running for traj_index 56\n",
      "running for traj_index 58\n",
      "running for traj_index 59\n",
      "running for traj_index 60\n",
      "running for traj_index 61\n",
      "running for traj_index 62\n",
      "running for traj_index 63\n",
      "running for traj_index 64\n",
      "running for traj_index 65\n",
      "running for traj_index 66\n",
      "running for traj_index 67\n",
      "running for traj_index 69\n",
      "running for traj_index 70\n",
      "running for traj_index 71\n",
      "running for traj_index 72\n",
      "running for traj_index 73\n",
      "running for traj_index 74\n",
      "running for traj_index 75\n",
      "running for traj_index 76\n",
      "running for traj_index 77\n",
      "running for traj_index 78\n",
      "running for traj_index 79\n",
      "running for traj_index 80\n",
      "running for traj_index 81\n",
      "running for traj_index 82\n",
      "running for traj_index 83\n",
      "running for traj_index 84\n",
      "running for traj_index 85\n",
      "running for traj_index 86\n",
      "running for traj_index 87\n",
      "running for traj_index 88\n",
      "running for traj_index 89\n",
      "running for traj_index 90\n",
      "running for traj_index 91\n",
      "running for traj_index 92\n",
      "running for traj_index 93\n",
      "running for traj_index 95\n",
      "running for traj_index 97\n",
      "running for traj_index 98\n",
      "running for traj_index 100\n",
      "running for traj_index 101\n",
      "running for traj_index 102\n",
      "running for traj_index 103\n",
      "running for traj_index 104\n",
      "running for traj_index 105\n",
      "running for traj_index 106\n",
      "running for traj_index 107\n",
      "running for traj_index 109\n",
      "running for traj_index 110\n",
      "running for traj_index 111\n",
      "running for traj_index 112\n",
      "running for traj_index 113\n",
      "running for traj_index 114\n",
      "running for traj_index 115\n",
      "running for traj_index 116\n",
      "running for traj_index 117\n",
      "running for traj_index 118\n",
      "running for traj_index 119\n",
      "running for traj_index 120\n",
      "running for traj_index 121\n",
      "running for traj_index 122\n",
      "running for traj_index 123\n",
      "running for traj_index 124\n",
      "running for traj_index 125\n",
      "running for traj_index 126\n",
      "running for traj_index 127\n",
      "running for traj_index 129\n",
      "running for traj_index 130\n",
      "running for traj_index 131\n",
      "running for traj_index 132\n",
      "running for traj_index 133\n",
      "running for traj_index 134\n",
      "running for traj_index 135\n",
      "running for traj_index 136\n",
      "running for traj_index 1\n",
      "running for traj_index 2\n",
      "running for traj_index 3\n",
      "running for traj_index 5\n",
      "running for traj_index 6\n",
      "running for traj_index 7\n",
      "running for traj_index 8\n",
      "running for traj_index 10\n",
      "running for traj_index 11\n",
      "running for traj_index 13\n",
      "running for traj_index 14\n",
      "running for traj_index 15\n",
      "running for traj_index 16\n",
      "running for traj_index 17\n",
      "running for traj_index 18\n",
      "running for traj_index 20\n",
      "running for traj_index 21\n",
      "running for traj_index 22\n",
      "running for traj_index 23\n",
      "running for traj_index 24\n",
      "running for traj_index 25\n",
      "running for traj_index 26\n",
      "running for traj_index 27\n",
      "running for traj_index 28\n",
      "running for traj_index 29\n",
      "running for traj_index 30\n",
      "running for traj_index 32\n",
      "running for traj_index 33\n",
      "running for traj_index 34\n",
      "running for traj_index 35\n",
      "running for traj_index 36\n",
      "running for traj_index 37\n",
      "running for traj_index 38\n",
      "running for traj_index 39\n",
      "running for traj_index 40\n",
      "running for traj_index 41\n",
      "running for traj_index 42\n",
      "running for traj_index 43\n",
      "running for traj_index 44\n",
      "running for traj_index 45\n",
      "running for traj_index 46\n",
      "running for traj_index 47\n",
      "running for traj_index 48\n",
      "running for traj_index 49\n",
      "running for traj_index 50\n",
      "running for traj_index 51\n",
      "running for traj_index 52\n",
      "running for traj_index 53\n",
      "running for traj_index 54\n",
      "running for traj_index 55\n",
      "running for traj_index 56\n",
      "running for traj_index 57\n",
      "running for traj_index 58\n",
      "running for traj_index 59\n",
      "running for traj_index 60\n",
      "running for traj_index 61\n",
      "running for traj_index 62\n",
      "running for traj_index 63\n",
      "running for traj_index 64\n",
      "running for traj_index 65\n",
      "running for traj_index 66\n",
      "running for traj_index 67\n",
      "running for traj_index 68\n",
      "running for traj_index 69\n",
      "running for traj_index 70\n",
      "running for traj_index 71\n",
      "running for traj_index 72\n",
      "running for traj_index 73\n",
      "running for traj_index 74\n",
      "running for traj_index 75\n",
      "running for traj_index 76\n",
      "running for traj_index 77\n",
      "running for traj_index 78\n",
      "running for traj_index 79\n",
      "running for traj_index 80\n",
      "running for traj_index 81\n",
      "running for traj_index 82\n",
      "running for traj_index 83\n",
      "running for traj_index 84\n",
      "running for traj_index 85\n",
      "running for traj_index 87\n",
      "running for traj_index 88\n",
      "running for traj_index 89\n",
      "running for traj_index 90\n",
      "running for traj_index 91\n",
      "running for traj_index 92\n",
      "running for traj_index 93\n",
      "running for traj_index 94\n",
      "running for traj_index 95\n",
      "running for traj_index 96\n",
      "running for traj_index 97\n",
      "running for traj_index 99\n",
      "running for traj_index 100\n",
      "running for traj_index 101\n",
      "running for traj_index 102\n",
      "running for traj_index 103\n",
      "running for traj_index 104\n",
      "running for traj_index 105\n",
      "running for traj_index 106\n",
      "running for traj_index 108\n",
      "running for traj_index 109\n",
      "running for traj_index 110\n",
      "running for traj_index 111\n",
      "running for traj_index 112\n",
      "running for traj_index 113\n",
      "running for traj_index 114\n",
      "running for traj_index 115\n",
      "running for traj_index 116\n",
      "running for traj_index 117\n",
      "running for traj_index 118\n",
      "running for traj_index 119\n",
      "running for traj_index 120\n",
      "running for traj_index 121\n",
      "running for traj_index 122\n",
      "running for traj_index 123\n",
      "running for traj_index 124\n",
      "running for traj_index 125\n",
      "running for traj_index 126\n",
      "running for traj_index 127\n",
      "running for traj_index 128\n",
      "running for traj_index 129\n",
      "running for traj_index 131\n"
     ]
    }
   ],
   "source": [
    "slowslowrawimg, slowslowrawdat, slowslowinds = fdh.load_trajectories_as_list(f\"../forkdata/{slowslowfolder}\",bad_slowslow_trajectories, max_traj_number=140)\n",
    "fastslowrawimg, fastslowrawdat, fastslowinds = fdh.load_trajectories_as_list(f\"../forkdata/{fastslowfolder}\",bad_fastslow_trajectories, max_traj_number=140)\n",
    "slowfastrawimg, slowfastrawdat, slowfastinds = fdh.load_trajectories_as_list(f\"../forkdata/{slowfastfolder}\",bad_slowfast_trajectories, max_traj_number=140)\n"
   ]
  },
  {
   "cell_type": "code",
   "execution_count": 4,
   "id": "d74a99ea",
   "metadata": {
    "ExecuteTime": {
     "end_time": "2023-09-28T04:53:44.927110Z",
     "start_time": "2023-09-28T04:53:43.663461Z"
    },
    "execution": {
     "iopub.execute_input": "2023-10-13T20:57:36.090973Z",
     "iopub.status.busy": "2023-10-13T20:57:36.090846Z",
     "iopub.status.idle": "2023-10-13T20:57:36.237947Z",
     "shell.execute_reply": "2023-10-13T20:57:36.237390Z"
    }
   },
   "outputs": [],
   "source": [
    "import cv2\n",
    "\n",
    "from get_string_pixel_parameters import process_image\n",
    "import matplotlib.pyplot as plt\n",
    "import numpy as np"
   ]
  },
  {
   "cell_type": "code",
   "execution_count": 5,
   "id": "8fddf975",
   "metadata": {
    "ExecuteTime": {
     "end_time": "2023-09-28T04:53:44.932632Z",
     "start_time": "2023-09-28T04:53:44.928699Z"
    },
    "execution": {
     "iopub.execute_input": "2023-10-13T20:57:36.239999Z",
     "iopub.status.busy": "2023-10-13T20:57:36.239848Z",
     "iopub.status.idle": "2023-10-13T20:57:36.243334Z",
     "shell.execute_reply": "2023-10-13T20:57:36.242888Z"
    },
    "scrolled": false
   },
   "outputs": [],
   "source": [
    "def get_bad_identifications(folder, allinds):\n",
    "    xmin, xmax = (45,210)\n",
    "    ymin, ymax = (75,245)\n",
    "\n",
    "    bad_inds = []\n",
    "    for i in allinds:\n",
    "        filename = f\"../forkdata/{folder}/overhead_image_{i}.png\"\n",
    "        approx_diam = 168 # mm\n",
    "        plate_radius_pixels = 77\n",
    "\n",
    "        src = cv2.imread(filename)\n",
    "\n",
    "        (plate_center, plate_radius),ellipse = process_image(filename)\n",
    "\n",
    "        if ellipse[1][0] < 60: # if longest is less than 60, then it's probably got the string nicely\n",
    "            continue\n",
    "        print(f\"For image {i}\")\n",
    "        print(\"ellipse area proportional to:\", ellipse[1][0]*ellipse[1][1])\n",
    "        bad_inds.append(i)\n",
    "        \n",
    "        #cv2.circle(src, (plate_center[0],plate_center[1]), plate_radius_pixels, (1,1,1), 1)\n",
    "        #plt.imshow(src[xmin:xmax,ymin:ymax,::-1].transpose((1,0,2))[::-1,:,:])\n",
    "#\n",
    "        #cv2.ellipse(src, ellipse, (1,1,255), -1)\n",
    "        #plt.imshow(src[xmin:xmax,ymin:ymax,::-1][::-1,::-1,:])\n",
    "        #plt.axis(\"off\")\n",
    "        #physx_frame_x_loc = -(ellipse[0][0]-plate_center[0]) / plate_radius_pixels * approx_diam/2\n",
    "        #physx_frame_y_loc = (ellipse[0][1]-plate_center[1]) / plate_radius_pixels * approx_diam/2\n",
    "        #physx_frame_theta = (np.pi - ellipse[2]/180*np.pi)\n",
    "        #print(physx_frame_x_loc, physx_frame_y_loc,physx_frame_theta)\n",
    "        #plt.show()\n",
    "        #plt.figure(figsize=(4,4))\n",
    "        #ts = np.linspace(0,np.pi*2,200)\n",
    "        #xs = np.cos(ts) * approx_diam/2\n",
    "        #ys = np.sin(ts) * approx_diam/2\n",
    "        #plt.plot(xs,ys)\n",
    "        #stringx = [physx_frame_x_loc,physx_frame_x_loc+np.cos(physx_frame_theta)*10,physx_frame_x_loc-np.cos(physx_frame_theta)*10]\n",
    "        #stringy = [physx_frame_y_loc,physx_frame_y_loc+np.sin(physx_frame_theta)*10,physx_frame_y_loc-np.sin(physx_frame_theta)*10]\n",
    "        #plt.scatter(stringx,stringy,s=10)\n",
    "        #plt.axis(\"equal\")\n",
    "        #plt.axis(\"off\")\n",
    "        #plt.show()\n",
    "    return bad_inds"
   ]
  },
  {
   "cell_type": "code",
   "execution_count": 6,
   "id": "24ade7b6",
   "metadata": {
    "ExecuteTime": {
     "end_time": "2023-09-28T04:53:47.674221Z",
     "start_time": "2023-09-28T04:53:44.933894Z"
    },
    "execution": {
     "iopub.execute_input": "2023-10-13T20:57:36.244900Z",
     "iopub.status.busy": "2023-10-13T20:57:36.244798Z",
     "iopub.status.idle": "2023-10-13T20:57:37.975719Z",
     "shell.execute_reply": "2023-10-13T20:57:37.975142Z"
    },
    "scrolled": true
   },
   "outputs": [
    {
     "name": "stdout",
     "output_type": "stream",
     "text": [
      "For image 17\n",
      "ellipse area proportional to: 2189.2570094192374\n",
      "For image 51\n",
      "ellipse area proportional to: 2290.475562889531\n",
      "For image 60\n",
      "ellipse area proportional to: 1215.0246924123924\n",
      "For image 90\n",
      "ellipse area proportional to: 2268.508244513447\n",
      "For image 1\n",
      "ellipse area proportional to: 3902.253137098479\n"
     ]
    }
   ],
   "source": [
    "\n",
    "visually_bad_slowslowinds = get_bad_identifications(slowslowfolder,slowslowinds)\n",
    "visually_bad_slowfastinds = get_bad_identifications(slowfastfolder,slowfastinds)\n",
    "visually_bad_fastslowinds = get_bad_identifications(fastslowfolder,fastslowinds)"
   ]
  },
  {
   "cell_type": "code",
   "execution_count": 7,
   "id": "0ecb29d4",
   "metadata": {
    "ExecuteTime": {
     "end_time": "2023-09-28T04:53:47.684045Z",
     "start_time": "2023-09-28T04:53:47.675685Z"
    },
    "execution": {
     "iopub.execute_input": "2023-10-13T20:57:37.977753Z",
     "iopub.status.busy": "2023-10-13T20:57:37.977572Z",
     "iopub.status.idle": "2023-10-13T20:57:37.982734Z",
     "shell.execute_reply": "2023-10-13T20:57:37.982341Z"
    }
   },
   "outputs": [
    {
     "name": "stdout",
     "output_type": "stream",
     "text": [
      "(116, 200, 7)\n",
      "(125, 200, 7)\n",
      "(122, 200, 7)\n",
      "116\n",
      "125\n",
      "122\n"
     ]
    }
   ],
   "source": [
    "## These bad indices were determined based on bad trajectories (eg: recorded not a full pickup or spaghetti fell)\n",
    "\n",
    "ok_slowslow_trajectories = [i not in bad_slowslow_trajectories and i not in visually_bad_slowslowinds for i in slowslowinds]\n",
    "slowslow_kept_indices = np.array([f\"ss{i}\" for i in slowslowinds if i not in bad_slowslow_trajectories and i not in visually_bad_slowslowinds ])\n",
    "slowslowdat = slowslowrawdat[ok_slowslow_trajectories]\n",
    "slowslowimg = slowslowrawimg[ok_slowslow_trajectories]\n",
    "\n",
    "\n",
    "ok_fastslow_trajectories = [i not in bad_fastslow_trajectories and i not in visually_bad_fastslowinds for i in fastslowinds]\n",
    "fastslow_kept_indices = np.array([f\"fs{i}\" for i in fastslowinds if i not in bad_fastslow_trajectories and i not in visually_bad_fastslowinds ])\n",
    "fastslowdat = fastslowrawdat[ok_fastslow_trajectories]\n",
    "fastslowimg = fastslowrawimg[ok_fastslow_trajectories]\n",
    "\n",
    "ok_slowfast_trajectories = [i not in bad_slowfast_trajectories and i not in visually_bad_slowfastinds for i in slowfastinds]\n",
    "slowfast_kept_indices = np.array([f\"sf{i}\" for i in slowfastinds if i not in bad_slowfast_trajectories and i not in visually_bad_slowfastinds])\n",
    "slowfastdat = slowfastrawdat[ok_slowfast_trajectories]\n",
    "slowfastimg = slowfastrawimg[ok_slowfast_trajectories]\n",
    "print(slowslowdat.shape)\n",
    "print(fastslowdat.shape)\n",
    "print(slowfastdat.shape)\n",
    "\n",
    "print(len(slowslow_kept_indices))\n",
    "print(len(fastslow_kept_indices))\n",
    "print(len(slowfast_kept_indices))\n"
   ]
  },
  {
   "cell_type": "code",
   "execution_count": 8,
   "id": "062f73c2",
   "metadata": {
    "ExecuteTime": {
     "end_time": "2023-09-28T04:53:47.688644Z",
     "start_time": "2023-09-28T04:53:47.685740Z"
    },
    "execution": {
     "iopub.execute_input": "2023-10-13T20:57:37.984806Z",
     "iopub.status.busy": "2023-10-13T20:57:37.984682Z",
     "iopub.status.idle": "2023-10-13T20:57:37.987153Z",
     "shell.execute_reply": "2023-10-13T20:57:37.986916Z"
    }
   },
   "outputs": [],
   "source": [
    "# only keep first 115 of each kind of data\n",
    "number_to_keep = 115\n",
    "slowslowdat = slowslowdat[:number_to_keep]\n",
    "slowslowimg = slowslowimg[:number_to_keep]\n",
    "slowslow_kept_indices = slowslow_kept_indices[:number_to_keep]\n",
    "fastslowdat = fastslowdat[:number_to_keep]\n",
    "fastslowimg = fastslowimg[:number_to_keep]\n",
    "fastslow_kept_indices = fastslow_kept_indices[:number_to_keep]\n",
    "slowfastdat = slowfastdat[:number_to_keep]\n",
    "slowfastimg = slowfastimg[:number_to_keep]\n",
    "slowfast_kept_indices = slowfast_kept_indices[:number_to_keep]"
   ]
  },
  {
   "cell_type": "code",
   "execution_count": 9,
   "id": "2a76ad3e",
   "metadata": {
    "ExecuteTime": {
     "end_time": "2023-09-28T04:53:47.715142Z",
     "start_time": "2023-09-28T04:53:47.690209Z"
    },
    "execution": {
     "iopub.execute_input": "2023-10-13T20:57:37.989018Z",
     "iopub.status.busy": "2023-10-13T20:57:37.988921Z",
     "iopub.status.idle": "2023-10-13T20:57:37.993903Z",
     "shell.execute_reply": "2023-10-13T20:57:37.993614Z"
    }
   },
   "outputs": [],
   "source": [
    "import matplotlib.pyplot as plt\n",
    "import numpy as np\n",
    "%matplotlib inline"
   ]
  },
  {
   "cell_type": "code",
   "execution_count": 10,
   "id": "75c213ce",
   "metadata": {
    "ExecuteTime": {
     "end_time": "2023-09-28T04:53:47.723031Z",
     "start_time": "2023-09-28T04:53:47.720115Z"
    },
    "execution": {
     "iopub.execute_input": "2023-10-13T20:57:37.995300Z",
     "iopub.status.busy": "2023-10-13T20:57:37.995202Z",
     "iopub.status.idle": "2023-10-13T20:57:37.997515Z",
     "shell.execute_reply": "2023-10-13T20:57:37.997057Z"
    }
   },
   "outputs": [],
   "source": [
    "gen = np.random.default_rng(seed=0)"
   ]
  },
  {
   "cell_type": "code",
   "execution_count": 11,
   "id": "f8947a65",
   "metadata": {
    "ExecuteTime": {
     "end_time": "2023-09-28T04:53:47.736943Z",
     "start_time": "2023-09-28T04:53:47.726726Z"
    },
    "execution": {
     "iopub.execute_input": "2023-10-13T20:57:37.998823Z",
     "iopub.status.busy": "2023-10-13T20:57:37.998729Z",
     "iopub.status.idle": "2023-10-13T20:57:38.004481Z",
     "shell.execute_reply": "2023-10-13T20:57:38.003966Z"
    }
   },
   "outputs": [],
   "source": [
    "all_pose_data = np.concatenate((slowfastdat, fastslowdat, slowslowdat),axis=0)\n",
    "train_pose_data_inds = gen.choice(len(all_pose_data), size=240, replace=False) #LOL forgot replace=False last time\n",
    "test_pose_data_inds = np.array([i for i in range(len(all_pose_data)) if i not in train_pose_data_inds])\n",
    "train_pose_data = all_pose_data[train_pose_data_inds]\n",
    "test_pose_data = all_pose_data[test_pose_data_inds]\n",
    "\n",
    "all_image_info = np.concatenate((slowfastimg,fastslowimg,slowslowimg),axis=0)\n",
    "train_image_info = all_image_info[train_pose_data_inds]\n",
    "test_image_info = all_image_info[test_pose_data_inds]\n",
    "\n",
    "all_names_info = np.concatenate((slowfast_kept_indices,fastslow_kept_indices,slowslow_kept_indices),axis=0)\n",
    "train_names_info = all_names_info[train_pose_data_inds]\n",
    "test_names_info = all_names_info[test_pose_data_inds]\n"
   ]
  },
  {
   "cell_type": "code",
   "execution_count": 12,
   "id": "12a6b3fe",
   "metadata": {
    "ExecuteTime": {
     "end_time": "2023-09-28T04:53:47.794238Z",
     "start_time": "2023-09-28T04:53:47.740922Z"
    },
    "execution": {
     "iopub.execute_input": "2023-10-13T20:57:38.005830Z",
     "iopub.status.busy": "2023-10-13T20:57:38.005739Z",
     "iopub.status.idle": "2023-10-13T20:57:38.015253Z",
     "shell.execute_reply": "2023-10-13T20:57:38.014706Z"
    }
   },
   "outputs": [],
   "source": [
    "# the mean of all x,y,z,rw,rx,ry,rz pointwise (over all trajectories)\n",
    "train_pose_data_mean = np.mean(train_pose_data, axis=(0,1)).reshape(1,7)\n",
    "train_pose_data_centered = train_pose_data - train_pose_data_mean\n",
    "position_std = np.sqrt(np.var(train_pose_data_centered[:,:,:3]))\n",
    "position_scale = 1./position_std\n",
    "rotation_scale = position_scale * 0.08\n",
    "train_pose_data_scaling = np.array((position_scale, position_scale, position_scale, rotation_scale,rotation_scale,rotation_scale, rotation_scale)).reshape(1,7)\n",
    "train_pose_data_scaled = train_pose_data_centered * train_pose_data_scaling\n",
    "\n",
    "test_pose_data_centered = test_pose_data - train_pose_data_mean\n",
    "test_pose_data_scaled = test_pose_data_centered * train_pose_data_scaling\n",
    "\n",
    "datapath = \"../forkdata/forkTrajectoryData.npz\"\n",
    "\n",
    "\n",
    "# weirdly the train_image_info was giving precision errors comparing labgpu run from local run\n",
    "# in order to get sha256sums to tie out regardless of where this is run, don't save image info\n",
    "np.savez(datapath,\n",
    "        #train_image_info = train_image_info,\n",
    "        train = train_pose_data_scaled,\n",
    "        #test_image_info=test_image_info,\n",
    "        test = test_pose_data_scaled,\n",
    "        pose_scaling = train_pose_data_scaling,\n",
    "        pose_mean = train_pose_data_mean,\n",
    "        train_names_info = train_names_info,\n",
    "        test_names_info = test_names_info)\n"
   ]
  },
  {
   "cell_type": "code",
   "execution_count": 13,
   "id": "e8a15716",
   "metadata": {
    "ExecuteTime": {
     "end_time": "2023-09-28T04:53:47.804004Z",
     "start_time": "2023-09-28T04:53:47.798419Z"
    },
    "execution": {
     "iopub.execute_input": "2023-10-13T20:57:38.017029Z",
     "iopub.status.busy": "2023-10-13T20:57:38.016928Z",
     "iopub.status.idle": "2023-10-13T20:57:38.020029Z",
     "shell.execute_reply": "2023-10-13T20:57:38.019653Z"
    },
    "scrolled": true
   },
   "outputs": [
    {
     "data": {
      "text/plain": [
       "(240, 200, 3)"
      ]
     },
     "execution_count": 13,
     "metadata": {},
     "output_type": "execute_result"
    }
   ],
   "source": [
    "train_pose_data_centered[:,:,:3].shape"
   ]
  },
  {
   "cell_type": "code",
   "execution_count": 14,
   "id": "6ee8e8a0",
   "metadata": {
    "ExecuteTime": {
     "end_time": "2023-09-28T04:53:47.812760Z",
     "start_time": "2023-09-28T04:53:47.807814Z"
    },
    "execution": {
     "iopub.execute_input": "2023-10-13T20:57:38.021694Z",
     "iopub.status.busy": "2023-10-13T20:57:38.021543Z",
     "iopub.status.idle": "2023-10-13T20:57:38.024662Z",
     "shell.execute_reply": "2023-10-13T20:57:38.024395Z"
    }
   },
   "outputs": [
    {
     "data": {
      "text/plain": [
       "1.2202685346091642"
      ]
     },
     "execution_count": 14,
     "metadata": {},
     "output_type": "execute_result"
    }
   ],
   "source": [
    "np.sqrt(np.var(train_pose_data_scaled[:,:3]))"
   ]
  },
  {
   "cell_type": "code",
   "execution_count": 15,
   "id": "dd56e36e",
   "metadata": {
    "ExecuteTime": {
     "end_time": "2023-09-28T04:53:47.821565Z",
     "start_time": "2023-09-28T04:53:47.816437Z"
    },
    "execution": {
     "iopub.execute_input": "2023-10-13T20:57:38.026446Z",
     "iopub.status.busy": "2023-10-13T20:57:38.026317Z",
     "iopub.status.idle": "2023-10-13T20:57:38.028958Z",
     "shell.execute_reply": "2023-10-13T20:57:38.028544Z"
    }
   },
   "outputs": [
    {
     "data": {
      "text/plain": [
       "0.5798805594796044"
      ]
     },
     "execution_count": 15,
     "metadata": {},
     "output_type": "execute_result"
    }
   ],
   "source": [
    "np.sqrt(np.mean(np.var(train_pose_data_scaled[:,:3],axis=(0,1))))"
   ]
  },
  {
   "cell_type": "code",
   "execution_count": 16,
   "id": "0c575524",
   "metadata": {
    "ExecuteTime": {
     "end_time": "2023-09-28T04:53:47.831648Z",
     "start_time": "2023-09-28T04:53:47.825245Z"
    },
    "execution": {
     "iopub.execute_input": "2023-10-13T20:57:38.031009Z",
     "iopub.status.busy": "2023-10-13T20:57:38.030843Z",
     "iopub.status.idle": "2023-10-13T20:57:38.034056Z",
     "shell.execute_reply": "2023-10-13T20:57:38.033794Z"
    }
   },
   "outputs": [
    {
     "data": {
      "text/plain": [
       "3.0000000000000004"
      ]
     },
     "execution_count": 16,
     "metadata": {},
     "output_type": "execute_result"
    }
   ],
   "source": [
    "np.mean(np.sum(np.square(train_pose_data_scaled[:,:,:3]),axis=2))"
   ]
  },
  {
   "cell_type": "code",
   "execution_count": 17,
   "id": "8e55b3ae",
   "metadata": {
    "ExecuteTime": {
     "end_time": "2023-09-28T04:53:47.839923Z",
     "start_time": "2023-09-28T04:53:47.835334Z"
    },
    "execution": {
     "iopub.execute_input": "2023-10-13T20:57:38.036026Z",
     "iopub.status.busy": "2023-10-13T20:57:38.035920Z",
     "iopub.status.idle": "2023-10-13T20:57:38.038119Z",
     "shell.execute_reply": "2023-10-13T20:57:38.037867Z"
    }
   },
   "outputs": [
    {
     "data": {
      "text/plain": [
       "(240, 200, 7)"
      ]
     },
     "execution_count": 17,
     "metadata": {},
     "output_type": "execute_result"
    }
   ],
   "source": [
    "train_pose_data_scaled.shape"
   ]
  },
  {
   "cell_type": "code",
   "execution_count": 18,
   "id": "83602bf3",
   "metadata": {
    "ExecuteTime": {
     "end_time": "2023-09-28T04:53:47.848196Z",
     "start_time": "2023-09-28T04:53:47.843671Z"
    },
    "execution": {
     "iopub.execute_input": "2023-10-13T20:57:38.039970Z",
     "iopub.status.busy": "2023-10-13T20:57:38.039848Z",
     "iopub.status.idle": "2023-10-13T20:57:38.041913Z",
     "shell.execute_reply": "2023-10-13T20:57:38.041666Z"
    }
   },
   "outputs": [
    {
     "data": {
      "text/plain": [
       "(105, 200, 7)"
      ]
     },
     "execution_count": 18,
     "metadata": {},
     "output_type": "execute_result"
    }
   ],
   "source": [
    "test_pose_data_scaled.shape"
   ]
  },
  {
   "cell_type": "code",
   "execution_count": null,
   "id": "d2996346",
   "metadata": {},
   "outputs": [],
   "source": []
  }
 ],
 "metadata": {
  "kernelspec": {
   "display_name": "Python 3 (ipykernel)",
   "language": "python",
   "name": "python3"
  },
  "language_info": {
   "codemirror_mode": {
    "name": "ipython",
    "version": 3
   },
   "file_extension": ".py",
   "mimetype": "text/x-python",
   "name": "python",
   "nbconvert_exporter": "python",
   "pygments_lexer": "ipython3",
   "version": "3.8.16"
  }
 },
 "nbformat": 4,
 "nbformat_minor": 5
}
