{
 "cells": [
  {
   "cell_type": "code",
   "execution_count": null,
   "metadata": {
    "ExecuteTime": {
     "end_time": "2023-09-28T04:53:39.859700Z",
     "start_time": "2023-09-28T04:53:39.170831Z"
    },
    "execution": {
     "iopub.execute_input": "2023-10-18T21:19:46.414562Z",
     "iopub.status.busy": "2023-10-18T21:19:46.414345Z",
     "iopub.status.idle": "2023-10-18T21:19:50.092964Z",
     "shell.execute_reply": "2023-10-18T21:19:50.092401Z"
    }
   },
   "outputs": [],
   "source": [
    "import sys\n",
    "sys.path.append(\"..\")\n",
    "\n",
    "import format_data_helpers as fdh"
   ]
  },
  {
   "cell_type": "code",
   "execution_count": null,
   "metadata": {
    "ExecuteTime": {
     "end_time": "2023-09-28T04:53:39.864135Z",
     "start_time": "2023-09-28T04:53:39.861288Z"
    },
    "execution": {
     "iopub.execute_input": "2023-10-18T21:19:50.095523Z",
     "iopub.status.busy": "2023-10-18T21:19:50.095301Z",
     "iopub.status.idle": "2023-10-18T21:19:50.098991Z",
     "shell.execute_reply": "2023-10-18T21:19:50.098588Z"
    }
   },
   "outputs": [],
   "source": [
    "slowslowfolder = \"20230222_194413\"\n",
    "fastslowfolder = \"20230222_171344\"\n",
    "slowfastfolder = \"20230222_182149\"\n",
    "\n",
    "# the first list of \"bad\" indices are the ones known when recording to have dropped the object or otherwise \n",
    "# messed up during recording\n",
    "# second list is manual validation looking at cleaned data\n",
    "bad_slowslow_trajectories = [5,32,35,43,81,99,114,117,121] + [36,41,46,108,105] \n",
    "bad_fastslow_trajectories = [4,18,57,68,94,96,99,108,128] + [45]\n",
    "bad_slowfast_trajectories = [4,9,12,19,31,86,98,107,130] "
   ]
  },
  {
   "cell_type": "code",
   "execution_count": null,
   "metadata": {
    "ExecuteTime": {
     "end_time": "2023-09-28T04:53:43.650813Z",
     "start_time": "2023-09-28T04:53:39.865391Z"
    },
    "execution": {
     "iopub.execute_input": "2023-10-18T21:19:50.101092Z",
     "iopub.status.busy": "2023-10-18T21:19:50.100924Z",
     "iopub.status.idle": "2023-10-18T21:19:54.793766Z",
     "shell.execute_reply": "2023-10-18T21:19:54.793272Z"
    },
    "scrolled": true
   },
   "outputs": [],
   "source": [
    "slowslowrawimg, slowslowrawdat, slowslowinds = fdh.load_trajectories_as_list(f\"../forkdata/{slowslowfolder}\",bad_slowslow_trajectories, max_traj_number=140)\n",
    "fastslowrawimg, fastslowrawdat, fastslowinds = fdh.load_trajectories_as_list(f\"../forkdata/{fastslowfolder}\",bad_fastslow_trajectories, max_traj_number=140)\n",
    "slowfastrawimg, slowfastrawdat, slowfastinds = fdh.load_trajectories_as_list(f\"../forkdata/{slowfastfolder}\",bad_slowfast_trajectories, max_traj_number=140)\n"
   ]
  },
  {
   "cell_type": "code",
   "execution_count": null,
   "metadata": {
    "ExecuteTime": {
     "end_time": "2023-09-28T04:53:44.927110Z",
     "start_time": "2023-09-28T04:53:43.663461Z"
    },
    "execution": {
     "iopub.execute_input": "2023-10-18T21:19:54.796381Z",
     "iopub.status.busy": "2023-10-18T21:19:54.795905Z",
     "iopub.status.idle": "2023-10-18T21:20:00.081845Z",
     "shell.execute_reply": "2023-10-18T21:20:00.081152Z"
    }
   },
   "outputs": [],
   "source": [
    "import cv2\n",
    "\n",
    "from get_string_pixel_parameters import process_image\n",
    "import matplotlib.pyplot as plt\n",
    "import numpy as np"
   ]
  },
  {
   "cell_type": "code",
   "execution_count": null,
   "metadata": {
    "ExecuteTime": {
     "end_time": "2023-09-28T04:53:44.932632Z",
     "start_time": "2023-09-28T04:53:44.928699Z"
    },
    "execution": {
     "iopub.execute_input": "2023-10-18T21:20:00.085218Z",
     "iopub.status.busy": "2023-10-18T21:20:00.084899Z",
     "iopub.status.idle": "2023-10-18T21:20:00.090067Z",
     "shell.execute_reply": "2023-10-18T21:20:00.089411Z"
    },
    "scrolled": false
   },
   "outputs": [],
   "source": [
    "def get_bad_identifications(folder, allinds):\n",
    "    xmin, xmax = (45,210)\n",
    "    ymin, ymax = (75,245)\n",
    "\n",
    "    bad_inds = []\n",
    "    for i in allinds:\n",
    "        filename = f\"../forkdata/{folder}/overhead_image_{i}.png\"\n",
    "        approx_diam = 168 # mm\n",
    "        plate_radius_pixels = 77\n",
    "\n",
    "        src = cv2.imread(filename)\n",
    "\n",
    "        (plate_center, plate_radius),ellipse = process_image(filename)\n",
    "\n",
    "        if ellipse[1][0] < 60: # if longest is less than 60, then it's probably got the string nicely\n",
    "            continue\n",
    "        print(f\"For image {i}\")\n",
    "        print(\"ellipse area proportional to:\", ellipse[1][0]*ellipse[1][1])\n",
    "        bad_inds.append(i)\n",
    "        \n",
    "        #cv2.circle(src, (plate_center[0],plate_center[1]), plate_radius_pixels, (1,1,1), 1)\n",
    "        #plt.imshow(src[xmin:xmax,ymin:ymax,::-1].transpose((1,0,2))[::-1,:,:])\n",
    "#\n",
    "        #cv2.ellipse(src, ellipse, (1,1,255), -1)\n",
    "        #plt.imshow(src[xmin:xmax,ymin:ymax,::-1][::-1,::-1,:])\n",
    "        #plt.axis(\"off\")\n",
    "        #physx_frame_x_loc = -(ellipse[0][0]-plate_center[0]) / plate_radius_pixels * approx_diam/2\n",
    "        #physx_frame_y_loc = (ellipse[0][1]-plate_center[1]) / plate_radius_pixels * approx_diam/2\n",
    "        #physx_frame_theta = (np.pi - ellipse[2]/180*np.pi)\n",
    "        #print(physx_frame_x_loc, physx_frame_y_loc,physx_frame_theta)\n",
    "        #plt.show()\n",
    "        #plt.figure(figsize=(4,4))\n",
    "        #ts = np.linspace(0,np.pi*2,200)\n",
    "        #xs = np.cos(ts) * approx_diam/2\n",
    "        #ys = np.sin(ts) * approx_diam/2\n",
    "        #plt.plot(xs,ys)\n",
    "        #stringx = [physx_frame_x_loc,physx_frame_x_loc+np.cos(physx_frame_theta)*10,physx_frame_x_loc-np.cos(physx_frame_theta)*10]\n",
    "        #stringy = [physx_frame_y_loc,physx_frame_y_loc+np.sin(physx_frame_theta)*10,physx_frame_y_loc-np.sin(physx_frame_theta)*10]\n",
    "        #plt.scatter(stringx,stringy,s=10)\n",
    "        #plt.axis(\"equal\")\n",
    "        #plt.axis(\"off\")\n",
    "        #plt.show()\n",
    "    return bad_inds"
   ]
  },
  {
   "cell_type": "code",
   "execution_count": null,
   "metadata": {
    "ExecuteTime": {
     "end_time": "2023-09-28T04:53:47.674221Z",
     "start_time": "2023-09-28T04:53:44.933894Z"
    },
    "execution": {
     "iopub.execute_input": "2023-10-18T21:20:00.092818Z",
     "iopub.status.busy": "2023-10-18T21:20:00.092581Z",
     "iopub.status.idle": "2023-10-18T21:20:04.109582Z",
     "shell.execute_reply": "2023-10-18T21:20:04.108781Z"
    },
    "scrolled": true
   },
   "outputs": [],
   "source": [
    "\n",
    "visually_bad_slowslowinds = get_bad_identifications(slowslowfolder,slowslowinds)\n",
    "visually_bad_slowfastinds = get_bad_identifications(slowfastfolder,slowfastinds)\n",
    "visually_bad_fastslowinds = get_bad_identifications(fastslowfolder,fastslowinds)"
   ]
  },
  {
   "cell_type": "code",
   "execution_count": null,
   "metadata": {
    "ExecuteTime": {
     "end_time": "2023-09-28T04:53:47.684045Z",
     "start_time": "2023-09-28T04:53:47.675685Z"
    },
    "execution": {
     "iopub.execute_input": "2023-10-18T21:20:04.113096Z",
     "iopub.status.busy": "2023-10-18T21:20:04.112759Z",
     "iopub.status.idle": "2023-10-18T21:20:04.121635Z",
     "shell.execute_reply": "2023-10-18T21:20:04.121012Z"
    }
   },
   "outputs": [],
   "source": [
    "## These bad indices were determined based on bad trajectories (eg: recorded not a full pickup or spaghetti fell)\n",
    "\n",
    "ok_slowslow_trajectories = [i not in bad_slowslow_trajectories and i not in visually_bad_slowslowinds for i in slowslowinds]\n",
    "slowslow_kept_indices = np.array([f\"ss{i}\" for i in slowslowinds if i not in bad_slowslow_trajectories and i not in visually_bad_slowslowinds ])\n",
    "slowslowdat = slowslowrawdat[ok_slowslow_trajectories]\n",
    "slowslowimg = slowslowrawimg[ok_slowslow_trajectories]\n",
    "\n",
    "\n",
    "ok_fastslow_trajectories = [i not in bad_fastslow_trajectories and i not in visually_bad_fastslowinds for i in fastslowinds]\n",
    "fastslow_kept_indices = np.array([f\"fs{i}\" for i in fastslowinds if i not in bad_fastslow_trajectories and i not in visually_bad_fastslowinds ])\n",
    "fastslowdat = fastslowrawdat[ok_fastslow_trajectories]\n",
    "fastslowimg = fastslowrawimg[ok_fastslow_trajectories]\n",
    "\n",
    "ok_slowfast_trajectories = [i not in bad_slowfast_trajectories and i not in visually_bad_slowfastinds for i in slowfastinds]\n",
    "slowfast_kept_indices = np.array([f\"sf{i}\" for i in slowfastinds if i not in bad_slowfast_trajectories and i not in visually_bad_slowfastinds])\n",
    "slowfastdat = slowfastrawdat[ok_slowfast_trajectories]\n",
    "slowfastimg = slowfastrawimg[ok_slowfast_trajectories]\n",
    "print(slowslowdat.shape)\n",
    "print(fastslowdat.shape)\n",
    "print(slowfastdat.shape)\n",
    "\n",
    "print(len(slowslow_kept_indices))\n",
    "print(len(fastslow_kept_indices))\n",
    "print(len(slowfast_kept_indices))\n"
   ]
  },
  {
   "cell_type": "code",
   "execution_count": null,
   "metadata": {
    "ExecuteTime": {
     "end_time": "2023-09-28T04:53:47.688644Z",
     "start_time": "2023-09-28T04:53:47.685740Z"
    },
    "execution": {
     "iopub.execute_input": "2023-10-18T21:20:04.124403Z",
     "iopub.status.busy": "2023-10-18T21:20:04.123771Z",
     "iopub.status.idle": "2023-10-18T21:20:04.128489Z",
     "shell.execute_reply": "2023-10-18T21:20:04.128012Z"
    }
   },
   "outputs": [],
   "source": [
    "# only keep first 115 of each kind of data\n",
    "number_to_keep = 115\n",
    "slowslowdat = slowslowdat[:number_to_keep]\n",
    "slowslowimg = slowslowimg[:number_to_keep]\n",
    "slowslow_kept_indices = slowslow_kept_indices[:number_to_keep]\n",
    "fastslowdat = fastslowdat[:number_to_keep]\n",
    "fastslowimg = fastslowimg[:number_to_keep]\n",
    "fastslow_kept_indices = fastslow_kept_indices[:number_to_keep]\n",
    "slowfastdat = slowfastdat[:number_to_keep]\n",
    "slowfastimg = slowfastimg[:number_to_keep]\n",
    "slowfast_kept_indices = slowfast_kept_indices[:number_to_keep]"
   ]
  },
  {
   "cell_type": "code",
   "execution_count": null,
   "metadata": {
    "ExecuteTime": {
     "end_time": "2023-09-28T04:53:47.715142Z",
     "start_time": "2023-09-28T04:53:47.690209Z"
    },
    "execution": {
     "iopub.execute_input": "2023-10-18T21:20:04.130654Z",
     "iopub.status.busy": "2023-10-18T21:20:04.130435Z",
     "iopub.status.idle": "2023-10-18T21:20:04.184153Z",
     "shell.execute_reply": "2023-10-18T21:20:04.183543Z"
    }
   },
   "outputs": [],
   "source": [
    "import matplotlib.pyplot as plt\n",
    "import numpy as np\n",
    "%matplotlib inline"
   ]
  },
  {
   "cell_type": "code",
   "execution_count": null,
   "metadata": {
    "ExecuteTime": {
     "end_time": "2023-09-28T04:53:47.723031Z",
     "start_time": "2023-09-28T04:53:47.720115Z"
    },
    "execution": {
     "iopub.execute_input": "2023-10-18T21:20:04.186639Z",
     "iopub.status.busy": "2023-10-18T21:20:04.186381Z",
     "iopub.status.idle": "2023-10-18T21:20:04.189544Z",
     "shell.execute_reply": "2023-10-18T21:20:04.189066Z"
    }
   },
   "outputs": [],
   "source": [
    "gen = np.random.default_rng(seed=0)"
   ]
  },
  {
   "cell_type": "code",
   "execution_count": null,
   "metadata": {
    "ExecuteTime": {
     "end_time": "2023-09-28T04:53:47.736943Z",
     "start_time": "2023-09-28T04:53:47.726726Z"
    },
    "execution": {
     "iopub.execute_input": "2023-10-18T21:20:04.191748Z",
     "iopub.status.busy": "2023-10-18T21:20:04.191535Z",
     "iopub.status.idle": "2023-10-18T21:20:04.201935Z",
     "shell.execute_reply": "2023-10-18T21:20:04.201394Z"
    }
   },
   "outputs": [],
   "source": [
    "all_pose_data = np.concatenate((slowfastdat, fastslowdat, slowslowdat),axis=0)\n",
    "train_pose_data_inds = gen.choice(len(all_pose_data), size=240, replace=False) #LOL forgot replace=False last time\n",
    "test_pose_data_inds = np.array([i for i in range(len(all_pose_data)) if i not in train_pose_data_inds])\n",
    "train_pose_data = all_pose_data[train_pose_data_inds]\n",
    "test_pose_data = all_pose_data[test_pose_data_inds]\n",
    "\n",
    "all_image_info = np.concatenate((slowfastimg,fastslowimg,slowslowimg),axis=0)\n",
    "train_image_info = all_image_info[train_pose_data_inds]\n",
    "test_image_info = all_image_info[test_pose_data_inds]\n",
    "\n",
    "all_names_info = np.concatenate((slowfast_kept_indices,fastslow_kept_indices,slowslow_kept_indices),axis=0)\n",
    "train_names_info = all_names_info[train_pose_data_inds]\n",
    "test_names_info = all_names_info[test_pose_data_inds]\n"
   ]
  },
  {
   "cell_type": "code",
   "execution_count": null,
   "metadata": {
    "ExecuteTime": {
     "end_time": "2023-09-28T04:53:47.794238Z",
     "start_time": "2023-09-28T04:53:47.740922Z"
    },
    "execution": {
     "iopub.execute_input": "2023-10-18T21:20:04.204307Z",
     "iopub.status.busy": "2023-10-18T21:20:04.204066Z",
     "iopub.status.idle": "2023-10-18T21:20:04.258400Z",
     "shell.execute_reply": "2023-10-18T21:20:04.257830Z"
    }
   },
   "outputs": [],
   "source": [
    "# the mean of all x,y,z,rw,rx,ry,rz pointwise (over all trajectories)\n",
    "train_pose_data_mean = np.mean(train_pose_data, axis=(0,1)).reshape(1,7)\n",
    "train_pose_data_centered = train_pose_data - train_pose_data_mean\n",
    "position_std = np.sqrt(np.var(train_pose_data_centered[:,:,:3]))\n",
    "position_scale = 1./position_std\n",
    "rotation_scale = position_scale * 0.08\n",
    "train_pose_data_scaling = np.array((position_scale, position_scale, position_scale, rotation_scale,rotation_scale,rotation_scale, rotation_scale)).reshape(1,7)\n",
    "train_pose_data_scaled = train_pose_data_centered * train_pose_data_scaling\n",
    "\n",
    "test_pose_data_centered = test_pose_data - train_pose_data_mean\n",
    "test_pose_data_scaled = test_pose_data_centered * train_pose_data_scaling\n",
    "\n",
    "datapath = \"../forkdata/forkTrajectoryData.npz\"\n",
    "\n",
    "\n",
    "# weirdly the train_image_info was giving precision errors comparing labgpu run from local run\n",
    "# in order to get sha256sums to tie out regardless of where this is run, don't save image info\n",
    "np.savez(datapath,\n",
    "        #train_image_info = train_image_info,\n",
    "        train = train_pose_data_scaled,\n",
    "        #test_image_info=test_image_info,\n",
    "        test = test_pose_data_scaled,\n",
    "        pose_scaling = train_pose_data_scaling,\n",
    "        pose_mean = train_pose_data_mean,\n",
    "        train_names_info = train_names_info,\n",
    "        test_names_info = test_names_info)\n"
   ]
  },
  {
   "cell_type": "code",
   "execution_count": null,
   "metadata": {
    "ExecuteTime": {
     "end_time": "2023-09-28T04:53:47.804004Z",
     "start_time": "2023-09-28T04:53:47.798419Z"
    },
    "execution": {
     "iopub.execute_input": "2023-10-18T21:20:04.261363Z",
     "iopub.status.busy": "2023-10-18T21:20:04.260781Z",
     "iopub.status.idle": "2023-10-18T21:20:04.265275Z",
     "shell.execute_reply": "2023-10-18T21:20:04.264763Z"
    },
    "scrolled": true
   },
   "outputs": [],
   "source": [
    "train_pose_data_centered[:,:,:3].shape"
   ]
  },
  {
   "cell_type": "code",
   "execution_count": null,
   "metadata": {
    "ExecuteTime": {
     "end_time": "2023-09-28T04:53:47.812760Z",
     "start_time": "2023-09-28T04:53:47.807814Z"
    },
    "execution": {
     "iopub.execute_input": "2023-10-18T21:20:04.267525Z",
     "iopub.status.busy": "2023-10-18T21:20:04.267343Z",
     "iopub.status.idle": "2023-10-18T21:20:04.271304Z",
     "shell.execute_reply": "2023-10-18T21:20:04.270755Z"
    }
   },
   "outputs": [],
   "source": [
    "np.sqrt(np.var(train_pose_data_scaled[:,:3]))"
   ]
  },
  {
   "cell_type": "code",
   "execution_count": null,
   "metadata": {
    "ExecuteTime": {
     "end_time": "2023-09-28T04:53:47.821565Z",
     "start_time": "2023-09-28T04:53:47.816437Z"
    },
    "execution": {
     "iopub.execute_input": "2023-10-18T21:20:04.273777Z",
     "iopub.status.busy": "2023-10-18T21:20:04.273474Z",
     "iopub.status.idle": "2023-10-18T21:20:04.278443Z",
     "shell.execute_reply": "2023-10-18T21:20:04.277765Z"
    }
   },
   "outputs": [],
   "source": [
    "np.sqrt(np.mean(np.var(train_pose_data_scaled[:,:3],axis=(0,1))))"
   ]
  },
  {
   "cell_type": "code",
   "execution_count": null,
   "metadata": {
    "ExecuteTime": {
     "end_time": "2023-09-28T04:53:47.831648Z",
     "start_time": "2023-09-28T04:53:47.825245Z"
    },
    "execution": {
     "iopub.execute_input": "2023-10-18T21:20:04.280747Z",
     "iopub.status.busy": "2023-10-18T21:20:04.280511Z",
     "iopub.status.idle": "2023-10-18T21:20:04.285757Z",
     "shell.execute_reply": "2023-10-18T21:20:04.285195Z"
    }
   },
   "outputs": [],
   "source": [
    "np.mean(np.sum(np.square(train_pose_data_scaled[:,:,:3]),axis=2))"
   ]
  },
  {
   "cell_type": "code",
   "execution_count": null,
   "metadata": {
    "ExecuteTime": {
     "end_time": "2023-09-28T04:53:47.839923Z",
     "start_time": "2023-09-28T04:53:47.835334Z"
    },
    "execution": {
     "iopub.execute_input": "2023-10-18T21:20:04.288027Z",
     "iopub.status.busy": "2023-10-18T21:20:04.287778Z",
     "iopub.status.idle": "2023-10-18T21:20:04.291469Z",
     "shell.execute_reply": "2023-10-18T21:20:04.290970Z"
    }
   },
   "outputs": [],
   "source": [
    "train_pose_data_scaled.shape"
   ]
  },
  {
   "cell_type": "code",
   "execution_count": null,
   "metadata": {
    "ExecuteTime": {
     "end_time": "2023-09-28T04:53:47.848196Z",
     "start_time": "2023-09-28T04:53:47.843671Z"
    },
    "execution": {
     "iopub.execute_input": "2023-10-18T21:20:04.294058Z",
     "iopub.status.busy": "2023-10-18T21:20:04.293793Z",
     "iopub.status.idle": "2023-10-18T21:20:04.298057Z",
     "shell.execute_reply": "2023-10-18T21:20:04.297421Z"
    }
   },
   "outputs": [],
   "source": [
    "test_pose_data_scaled.shape"
   ]
  },
  {
   "cell_type": "code",
   "execution_count": null,
   "metadata": {},
   "outputs": [],
   "source": []
  }
 ],
 "metadata": {
  "kernelspec": {
   "display_name": "Python 3",
   "language": "python",
   "name": "python3"
  },
  "language_info": {
   "codemirror_mode": {
    "name": "ipython",
    "version": 3
   },
   "file_extension": ".py",
   "mimetype": "text/x-python",
   "name": "python",
   "nbconvert_exporter": "python",
   "pygments_lexer": "ipython3",
   "version": "3.8.10"
  }
 },
 "nbformat": 4,
 "nbformat_minor": 5
}
